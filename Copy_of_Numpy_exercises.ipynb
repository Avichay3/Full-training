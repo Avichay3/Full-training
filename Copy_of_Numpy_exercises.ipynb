{
  "cells": [
    {
      "cell_type": "markdown",
      "metadata": {
        "id": "view-in-github",
        "colab_type": "text"
      },
      "source": [
        "<a href=\"https://colab.research.google.com/github/Avichay3/Full-training/blob/main/Copy_of_Numpy_exercises.ipynb\" target=\"_parent\"><img src=\"https://colab.research.google.com/assets/colab-badge.svg\" alt=\"Open In Colab\"/></a>"
      ]
    },
    {
      "cell_type": "markdown",
      "id": "6293cc50",
      "metadata": {
        "id": "6293cc50"
      },
      "source": [
        "# 100 numpy exercises\n",
        "\n",
        "Enjoy the puzzles!"
      ]
    },
    {
      "cell_type": "markdown",
      "id": "3c1222ff",
      "metadata": {
        "id": "3c1222ff"
      },
      "source": [
        "#### 1. Import the numpy package under the name `np` (★☆☆)"
      ]
    },
    {
      "cell_type": "code",
      "execution_count": 1,
      "id": "f52e6a0b",
      "metadata": {
        "id": "f52e6a0b"
      },
      "outputs": [],
      "source": [
        "import numpy as np"
      ]
    },
    {
      "cell_type": "markdown",
      "id": "9d9f4753",
      "metadata": {
        "id": "9d9f4753"
      },
      "source": [
        "#### 2. Print the numpy version and the configuration (★☆☆)"
      ]
    },
    {
      "cell_type": "code",
      "execution_count": null,
      "id": "b7fa5fa1",
      "metadata": {
        "id": "b7fa5fa1",
        "colab": {
          "base_uri": "https://localhost:8080/"
        },
        "outputId": "a89f2142-2d04-4a1a-af66-d62bc3e2f233"
      },
      "outputs": [
        {
          "output_type": "execute_result",
          "data": {
            "text/plain": [
              "<module 'numpy.version' from '/usr/local/lib/python3.12/dist-packages/numpy/version.py'>"
            ]
          },
          "metadata": {},
          "execution_count": 2
        }
      ],
      "source": [
        "np.version"
      ]
    },
    {
      "cell_type": "markdown",
      "id": "3e4c23c6",
      "metadata": {
        "id": "3e4c23c6"
      },
      "source": [
        "#### 3. Create a null vector of size 10 (★☆☆)"
      ]
    },
    {
      "cell_type": "code",
      "execution_count": null,
      "id": "083c5c46",
      "metadata": {
        "id": "083c5c46"
      },
      "outputs": [],
      "source": [
        "array1 = np.zeros(10)"
      ]
    },
    {
      "cell_type": "markdown",
      "id": "c38bbe82",
      "metadata": {
        "id": "c38bbe82"
      },
      "source": [
        "#### 4. How to find the memory size of any array (★☆☆)"
      ]
    },
    {
      "cell_type": "code",
      "execution_count": null,
      "id": "02b04021",
      "metadata": {
        "id": "02b04021",
        "colab": {
          "base_uri": "https://localhost:8080/"
        },
        "outputId": "dbf805c4-c1c4-4b42-9965-6ecb8fdb2700"
      },
      "outputs": [
        {
          "output_type": "execute_result",
          "data": {
            "text/plain": [
              "10"
            ]
          },
          "metadata": {},
          "execution_count": 4
        }
      ],
      "source": [
        "np.size(array1)"
      ]
    },
    {
      "cell_type": "markdown",
      "id": "67f893d4",
      "metadata": {
        "id": "67f893d4"
      },
      "source": [
        "#### 5. How to get the documentation of the numpy add function from the command line? (★☆☆)"
      ]
    },
    {
      "cell_type": "code",
      "execution_count": null,
      "id": "40e6b70d",
      "metadata": {
        "id": "40e6b70d",
        "colab": {
          "base_uri": "https://localhost:8080/"
        },
        "outputId": "f7a22230-b20e-453f-f85b-8f2b162918f6"
      },
      "outputs": [
        {
          "output_type": "stream",
          "name": "stdout",
          "text": [
            "Help on ufunc:\n",
            "\n",
            "add = <ufunc 'add'>\n",
            "    add(x1, x2, /, out=None, *, where=True, casting='same_kind', order='K', dtype=None, subok=True[, signature])\n",
            "\n",
            "    Add arguments element-wise.\n",
            "\n",
            "    Parameters\n",
            "    ----------\n",
            "    x1, x2 : array_like\n",
            "        The arrays to be added.\n",
            "        If ``x1.shape != x2.shape``, they must be broadcastable to a common\n",
            "        shape (which becomes the shape of the output).\n",
            "    out : ndarray, None, or tuple of ndarray and None, optional\n",
            "        A location into which the result is stored. If provided, it must have\n",
            "        a shape that the inputs broadcast to. If not provided or None,\n",
            "        a freshly-allocated array is returned. A tuple (possible only as a\n",
            "        keyword argument) must have length equal to the number of outputs.\n",
            "    where : array_like, optional\n",
            "        This condition is broadcast over the input. At locations where the\n",
            "        condition is True, the `out` array will be set to the ufunc result.\n",
            "        Elsewhere, the `out` array will retain its original value.\n",
            "        Note that if an uninitialized `out` array is created via the default\n",
            "        ``out=None``, locations within it where the condition is False will\n",
            "        remain uninitialized.\n",
            "    **kwargs\n",
            "        For other keyword-only arguments, see the\n",
            "        :ref:`ufunc docs <ufuncs.kwargs>`.\n",
            "\n",
            "    Returns\n",
            "    -------\n",
            "    add : ndarray or scalar\n",
            "        The sum of `x1` and `x2`, element-wise.\n",
            "        This is a scalar if both `x1` and `x2` are scalars.\n",
            "\n",
            "    Notes\n",
            "    -----\n",
            "    Equivalent to `x1` + `x2` in terms of array broadcasting.\n",
            "\n",
            "    Examples\n",
            "    --------\n",
            "    >>> np.add(1.0, 4.0)\n",
            "    5.0\n",
            "    >>> x1 = np.arange(9.0).reshape((3, 3))\n",
            "    >>> x2 = np.arange(3.0)\n",
            "    >>> np.add(x1, x2)\n",
            "    array([[  0.,   2.,   4.],\n",
            "           [  3.,   5.,   7.],\n",
            "           [  6.,   8.,  10.]])\n",
            "\n",
            "    The ``+`` operator can be used as a shorthand for ``np.add`` on ndarrays.\n",
            "\n",
            "    >>> x1 = np.arange(9.0).reshape((3, 3))\n",
            "    >>> x2 = np.arange(3.0)\n",
            "    >>> x1 + x2\n",
            "    array([[ 0.,  2.,  4.],\n",
            "           [ 3.,  5.,  7.],\n",
            "           [ 6.,  8., 10.]])\n",
            "\n"
          ]
        }
      ],
      "source": [
        "help(np.add)"
      ]
    },
    {
      "cell_type": "markdown",
      "id": "e0c739c6",
      "metadata": {
        "id": "e0c739c6"
      },
      "source": [
        "#### 6. Create a null vector of size 10 but the fifth value which is 1 (★☆☆)"
      ]
    },
    {
      "cell_type": "code",
      "execution_count": null,
      "id": "bcceacf7",
      "metadata": {
        "id": "bcceacf7"
      },
      "outputs": [],
      "source": [
        "array2 = np.zeros(10)\n",
        "array2[4] = 1"
      ]
    },
    {
      "cell_type": "markdown",
      "id": "fbebedab",
      "metadata": {
        "id": "fbebedab"
      },
      "source": [
        "#### 7. Create a vector with values ranging from 10 to 49 (★☆☆)"
      ]
    },
    {
      "cell_type": "code",
      "execution_count": null,
      "id": "3d117d54",
      "metadata": {
        "id": "3d117d54"
      },
      "outputs": [],
      "source": [
        "array3 = np.arange(10,50)"
      ]
    },
    {
      "cell_type": "code",
      "source": [
        "array3"
      ],
      "metadata": {
        "colab": {
          "base_uri": "https://localhost:8080/"
        },
        "id": "FCd66-0yveEW",
        "outputId": "5719a931-62bd-48fa-9732-d32596fe5ca8"
      },
      "id": "FCd66-0yveEW",
      "execution_count": null,
      "outputs": [
        {
          "output_type": "execute_result",
          "data": {
            "text/plain": [
              "array([10, 11, 12, 13, 14, 15, 16, 17, 18, 19, 20, 21, 22, 23, 24, 25, 26,\n",
              "       27, 28, 29, 30, 31, 32, 33, 34, 35, 36, 37, 38, 39, 40, 41, 42, 43,\n",
              "       44, 45, 46, 47, 48, 49])"
            ]
          },
          "metadata": {},
          "execution_count": 8
        }
      ]
    },
    {
      "cell_type": "markdown",
      "id": "ad0bff02",
      "metadata": {
        "id": "ad0bff02"
      },
      "source": [
        "#### 8. Reverse a vector (first element becomes last) (★☆☆)"
      ]
    },
    {
      "cell_type": "code",
      "execution_count": null,
      "id": "22d23470",
      "metadata": {
        "id": "22d23470"
      },
      "outputs": [],
      "source": [
        "array4 = np.flip(array3)"
      ]
    },
    {
      "cell_type": "markdown",
      "id": "9f59d7e1",
      "metadata": {
        "id": "9f59d7e1"
      },
      "source": [
        "#### 9. Create a 3x3 matrix with values ranging from 0 to 8 (★☆☆)"
      ]
    },
    {
      "cell_type": "code",
      "source": [
        "array5 = np.arange(0,9)\n",
        "array5.reshape(3,3)"
      ],
      "metadata": {
        "colab": {
          "base_uri": "https://localhost:8080/"
        },
        "id": "qysp8WPcwMoV",
        "outputId": "8d2c66cb-0adf-465e-d771-13c411426d1d"
      },
      "id": "qysp8WPcwMoV",
      "execution_count": null,
      "outputs": [
        {
          "output_type": "execute_result",
          "data": {
            "text/plain": [
              "array([[0, 1, 2],\n",
              "       [3, 4, 5],\n",
              "       [6, 7, 8]])"
            ]
          },
          "metadata": {},
          "execution_count": 10
        }
      ]
    },
    {
      "cell_type": "code",
      "execution_count": null,
      "id": "7449e82d",
      "metadata": {
        "id": "7449e82d"
      },
      "outputs": [],
      "source": []
    },
    {
      "cell_type": "markdown",
      "id": "f374c4cf",
      "metadata": {
        "id": "f374c4cf"
      },
      "source": [
        "#### 10. Find indices of non-zero elements from [1,2,0,0,4,0] (★☆☆)"
      ]
    },
    {
      "cell_type": "code",
      "execution_count": null,
      "id": "1a84bed8",
      "metadata": {
        "id": "1a84bed8",
        "colab": {
          "base_uri": "https://localhost:8080/"
        },
        "outputId": "48aa1cfe-a685-4256-c664-418f3ac2fe12"
      },
      "outputs": [
        {
          "output_type": "execute_result",
          "data": {
            "text/plain": [
              "(array([0, 1, 4]),)"
            ]
          },
          "metadata": {},
          "execution_count": 11
        }
      ],
      "source": [
        "array6 = [1,2,0,0,4,0]\n",
        "np.nonzero(array6)"
      ]
    },
    {
      "cell_type": "markdown",
      "id": "9c4707f5",
      "metadata": {
        "id": "9c4707f5"
      },
      "source": [
        "#### 11. Create a 3x3 identity matrix (★☆☆)"
      ]
    },
    {
      "cell_type": "markdown",
      "id": "3bac294a",
      "metadata": {
        "id": "3bac294a"
      },
      "source": [
        "#### 12. Create a 3x3x3 array with random values (★☆☆)"
      ]
    },
    {
      "cell_type": "code",
      "execution_count": null,
      "id": "eadfae67",
      "metadata": {
        "id": "eadfae67"
      },
      "outputs": [],
      "source": [
        "random_array = np.random.rand(3,3,3)"
      ]
    },
    {
      "cell_type": "code",
      "source": [],
      "metadata": {
        "id": "olj4OSTd6QH9"
      },
      "id": "olj4OSTd6QH9",
      "execution_count": null,
      "outputs": []
    },
    {
      "cell_type": "markdown",
      "id": "466c2989",
      "metadata": {
        "id": "466c2989"
      },
      "source": [
        "#### 13. Create a 10x10 array with random values and find the minimum and maximum values (★☆☆)"
      ]
    },
    {
      "cell_type": "code",
      "execution_count": null,
      "id": "9a74dbfc",
      "metadata": {
        "id": "9a74dbfc",
        "colab": {
          "base_uri": "https://localhost:8080/"
        },
        "outputId": "a7f7c952-055a-41fe-cc79-03407b81e2cb"
      },
      "outputs": [
        {
          "output_type": "stream",
          "name": "stdout",
          "text": [
            "99\n",
            "1\n",
            "[[52 36 33 63 20 19 99 70 91 36]\n",
            " [31 40 22 85 50 17 92 15 87 41]\n",
            " [79 73 44 30 98  8 54 84 54 16]\n",
            " [73 49 72 95 89 92  3 58 30 39]\n",
            " [81 61 69 87 96 67 99 30 28 62]\n",
            " [75 79 12  8 58 99 18 37 86 49]\n",
            " [40 32 10 26 33 93 99 61 27 73]\n",
            " [44 92 87 79 81 54 21 96 54 35]\n",
            " [38 83  7  2 33 95 65 95 16 82]\n",
            " [79 22 50 68 66 96  1 14 71 88]]\n"
          ]
        }
      ],
      "source": [
        "arr = np.random.randint(0,100, size=(10,10))\n",
        "max_val = np.max(arr)\n",
        "min_val = np.min(arr)\n",
        "print(max_val)\n",
        "print(min_val)\n",
        "print(arr)\n"
      ]
    },
    {
      "cell_type": "markdown",
      "id": "53a8edb2",
      "metadata": {
        "id": "53a8edb2"
      },
      "source": [
        "#### 14. Create a random vector of size 30 and find the mean value (★☆☆)"
      ]
    },
    {
      "cell_type": "code",
      "execution_count": null,
      "id": "6691530b",
      "metadata": {
        "id": "6691530b",
        "colab": {
          "base_uri": "https://localhost:8080/"
        },
        "outputId": "ecdb9d6f-9727-4bd3-eea9-8396c28cc839"
      },
      "outputs": [
        {
          "output_type": "execute_result",
          "data": {
            "text/plain": [
              "np.float64(14.133333333333333)"
            ]
          },
          "metadata": {},
          "execution_count": 15
        }
      ],
      "source": [
        "array7 = np.random.randint(0,30, size=30)\n",
        "array7.mean()"
      ]
    },
    {
      "cell_type": "markdown",
      "id": "cbaad31c",
      "metadata": {
        "id": "cbaad31c"
      },
      "source": [
        "#### 15. Create a 2d array with 1 on the border and 0 inside (★☆☆)"
      ]
    },
    {
      "cell_type": "code",
      "execution_count": null,
      "id": "ad8308e3",
      "metadata": {
        "id": "ad8308e3",
        "colab": {
          "base_uri": "https://localhost:8080/"
        },
        "outputId": "8c1f172b-235e-401c-e7ab-4fb739d85970"
      },
      "outputs": [
        {
          "output_type": "stream",
          "name": "stdout",
          "text": [
            "[[1. 1. 1. 1. 1.]\n",
            " [1. 0. 0. 0. 1.]\n",
            " [1. 0. 0. 0. 1.]\n",
            " [1. 0. 0. 0. 1.]\n",
            " [1. 1. 1. 1. 1.]]\n"
          ]
        }
      ],
      "source": [
        "array8 = np.ones((5,5))\n",
        "array8[1:-1,1:-1] = 0\n",
        "print(array8)"
      ]
    },
    {
      "cell_type": "markdown",
      "id": "c5ecc267",
      "metadata": {
        "id": "c5ecc267"
      },
      "source": [
        "#### 16. How to add a border (filled with 0's) around an existing array? (★☆☆)"
      ]
    },
    {
      "cell_type": "code",
      "execution_count": null,
      "id": "9d5c78c4",
      "metadata": {
        "id": "9d5c78c4",
        "colab": {
          "base_uri": "https://localhost:8080/"
        },
        "outputId": "378d5ab9-af9b-421d-85b6-7c9a76407b7e"
      },
      "outputs": [
        {
          "output_type": "execute_result",
          "data": {
            "text/plain": [
              "array([[0., 0., 0., 0., 0., 0., 0.],\n",
              "       [0., 1., 1., 1., 1., 1., 0.],\n",
              "       [0., 1., 0., 0., 0., 1., 0.],\n",
              "       [0., 1., 0., 0., 0., 1., 0.],\n",
              "       [0., 1., 0., 0., 0., 1., 0.],\n",
              "       [0., 1., 1., 1., 1., 1., 0.],\n",
              "       [0., 0., 0., 0., 0., 0., 0.]])"
            ]
          },
          "metadata": {},
          "execution_count": 17
        }
      ],
      "source": [
        "array8 = np.pad(array8, pad_width=1, constant_values=0)\n",
        "array8"
      ]
    },
    {
      "cell_type": "markdown",
      "id": "ef909b72",
      "metadata": {
        "id": "ef909b72"
      },
      "source": [
        "#### 17. What is the result of the following expression? (★☆☆)\n",
        "```python\n",
        "0 * np.nan\n",
        "np.nan == np.nan\n",
        "np.inf > np.nan\n",
        "np.nan - np.nan\n",
        "np.nan in set([np.nan])\n",
        "0.3 == 3 * 0.1\n",
        "```"
      ]
    },
    {
      "cell_type": "markdown",
      "source": [
        "nan\n",
        "false\n",
        "false\n",
        "nan\n",
        "true\n",
        "false\n",
        "\n",
        "\n"
      ],
      "metadata": {
        "id": "DdNuA-FbFi-_"
      },
      "id": "DdNuA-FbFi-_"
    },
    {
      "cell_type": "markdown",
      "id": "502738ac",
      "metadata": {
        "id": "502738ac"
      },
      "source": [
        "#### 18. Create a 5x5 matrix with values 1,2,3,4 just below the diagonal (★☆☆)"
      ]
    },
    {
      "cell_type": "code",
      "execution_count": null,
      "id": "faed6e2b",
      "metadata": {
        "id": "faed6e2b",
        "colab": {
          "base_uri": "https://localhost:8080/"
        },
        "outputId": "1c25ea7a-530a-42ff-f16b-158f004727fd"
      },
      "outputs": [
        {
          "output_type": "execute_result",
          "data": {
            "text/plain": [
              "array([[0, 0, 0, 0, 0],\n",
              "       [1, 0, 0, 0, 0],\n",
              "       [0, 2, 0, 0, 0],\n",
              "       [0, 0, 3, 0, 0],\n",
              "       [0, 0, 0, 4, 0]])"
            ]
          },
          "metadata": {},
          "execution_count": 18
        }
      ],
      "source": [
        "array9 = np.diag([1,2,3,4], k=-1)\n",
        "array9"
      ]
    },
    {
      "cell_type": "markdown",
      "id": "a65da660",
      "metadata": {
        "id": "a65da660"
      },
      "source": [
        "#### 19. Create a 8x8 matrix and fill it with a checkerboard pattern (★☆☆)"
      ]
    },
    {
      "cell_type": "code",
      "execution_count": null,
      "id": "ed150400",
      "metadata": {
        "id": "ed150400",
        "colab": {
          "base_uri": "https://localhost:8080/"
        },
        "outputId": "b80e76c0-2ac5-4086-9990-2fffde452e98"
      },
      "outputs": [
        {
          "output_type": "execute_result",
          "data": {
            "text/plain": [
              "array([[0., 1., 0., 1., 0., 1., 0., 1.],\n",
              "       [1., 0., 1., 0., 1., 0., 1., 0.],\n",
              "       [0., 1., 0., 1., 0., 1., 0., 1.],\n",
              "       [1., 0., 1., 0., 1., 0., 1., 0.],\n",
              "       [0., 1., 0., 1., 0., 1., 0., 1.],\n",
              "       [1., 0., 1., 0., 1., 0., 1., 0.],\n",
              "       [0., 1., 0., 1., 0., 1., 0., 1.],\n",
              "       [1., 0., 1., 0., 1., 0., 1., 0.]])"
            ]
          },
          "metadata": {},
          "execution_count": 19
        }
      ],
      "source": [
        "board = np.zeros((8,8))\n",
        "board[1::2, ::2] = 1\n",
        "board[::2, 1::2] = 1\n",
        "board"
      ]
    },
    {
      "cell_type": "markdown",
      "id": "9f7f9c49",
      "metadata": {
        "id": "9f7f9c49"
      },
      "source": [
        "#### 20. Consider a (6,7,8) shape array, what is the index (x,y,z) of the 100th element? (★☆☆)"
      ]
    },
    {
      "cell_type": "code",
      "execution_count": null,
      "id": "3782b5a9",
      "metadata": {
        "id": "3782b5a9",
        "colab": {
          "base_uri": "https://localhost:8080/"
        },
        "outputId": "35774986-a6d6-4c50-b5b3-89d155d87c96"
      },
      "outputs": [
        {
          "output_type": "stream",
          "name": "stdout",
          "text": [
            "(np.int64(1), np.int64(5), np.int64(3))\n"
          ]
        }
      ],
      "source": [
        "arr = np.arange(6*7*8).reshape(6,7,8)\n",
        "index = np.unravel_index(99, arr.shape)\n",
        "print(index)"
      ]
    },
    {
      "cell_type": "markdown",
      "id": "66bfda35",
      "metadata": {
        "id": "66bfda35"
      },
      "source": [
        ":#### 21. Create a checkerboard 8x8 matrix using the tile function (★☆☆)"
      ]
    },
    {
      "cell_type": "code",
      "execution_count": null,
      "id": "4c07477c",
      "metadata": {
        "id": "4c07477c",
        "colab": {
          "base_uri": "https://localhost:8080/"
        },
        "outputId": "65ff20b0-32bb-4f55-f2d2-5960b4b04f2a"
      },
      "outputs": [
        {
          "output_type": "stream",
          "name": "stdout",
          "text": [
            "[[0 1 0 1 0 1 0 1]\n",
            " [1 0 1 0 1 0 1 0]\n",
            " [0 1 0 1 0 1 0 1]\n",
            " [1 0 1 0 1 0 1 0]\n",
            " [0 1 0 1 0 1 0 1]\n",
            " [1 0 1 0 1 0 1 0]\n",
            " [0 1 0 1 0 1 0 1]\n",
            " [1 0 1 0 1 0 1 0]]\n"
          ]
        }
      ],
      "source": [
        "pattern = np.array([[0, 1],\n",
        "                    [1, 0]])\n",
        "board = np.tile(pattern, (4, 4))\n",
        "print(board)"
      ]
    },
    {
      "cell_type": "markdown",
      "id": "d5bcfc08",
      "metadata": {
        "id": "d5bcfc08"
      },
      "source": [
        "#### 22. Normalize a 5x5 random matrix (★☆☆)"
      ]
    },
    {
      "cell_type": "code",
      "execution_count": null,
      "id": "cea6c993",
      "metadata": {
        "id": "cea6c993",
        "colab": {
          "base_uri": "https://localhost:8080/"
        },
        "outputId": "64fd81e8-7a38-4158-d32f-9007870f6a66"
      },
      "outputs": [
        {
          "output_type": "stream",
          "name": "stdout",
          "text": [
            "[[0.50865568 0.25134966 0.63235342 0.52005581 0.2200381 ]\n",
            " [0.61106271 0.53757002 0.44535215 0.96022416 0.50848915]\n",
            " [0.54655101 0.99277539 0.44107886 0.84064605 0.00271654]\n",
            " [0.93968346 0.1720361  0.14129753 0.11167807 1.        ]\n",
            " [0.93953707 0.         0.21959706 0.70919918 0.17776036]]\n"
          ]
        }
      ],
      "source": [
        "normali = np.random.random((5,5))\n",
        "norm = (normali - normali.min()) / (normali.max() - normali.min())\n",
        "print(norm)\n"
      ]
    },
    {
      "cell_type": "markdown",
      "id": "f9a0911e",
      "metadata": {
        "id": "f9a0911e"
      },
      "source": [
        "#### 23. Create a custom dtype that describes a color as four unsigned bytes (RGBA) (★☆☆)"
      ]
    },
    {
      "cell_type": "code",
      "execution_count": null,
      "id": "d165044b",
      "metadata": {
        "id": "d165044b",
        "colab": {
          "base_uri": "https://localhost:8080/"
        },
        "outputId": "9de99794-a689-4cbf-ef3a-7ada8b1992c7"
      },
      "outputs": [
        {
          "output_type": "stream",
          "name": "stdout",
          "text": [
            "[('r', 'u1'), ('g', 'u1'), ('b', 'u1'), ('a', 'u1')]\n"
          ]
        }
      ],
      "source": [
        "color = np.dtype([('r', np.ubyte),\n",
        "                  ('g', np.ubyte),\n",
        "                  ('b', np.ubyte),\n",
        "                  ('a', np.ubyte)])\n",
        "print(color)\n"
      ]
    },
    {
      "cell_type": "markdown",
      "id": "654805b1",
      "metadata": {
        "id": "654805b1"
      },
      "source": [
        "#### 24. Multiply a 5x3 matrix by a 3x2 matrix (real matrix product) (★☆☆)\n",
        "\n",
        "1.   List item\n",
        "2.   List item\n",
        "\n"
      ]
    },
    {
      "cell_type": "code",
      "execution_count": null,
      "id": "6a42619f",
      "metadata": {
        "id": "6a42619f",
        "colab": {
          "base_uri": "https://localhost:8080/"
        },
        "outputId": "dd3d43ec-0837-42fe-9e56-d90e61398c54"
      },
      "outputs": [
        {
          "output_type": "execute_result",
          "data": {
            "text/plain": [
              "array([[0.70097829, 0.95685043],\n",
              "       [0.86109854, 1.28940412],\n",
              "       [0.23165352, 0.33324161],\n",
              "       [0.48660616, 0.95593725],\n",
              "       [0.65155143, 1.12583848]])"
            ]
          },
          "metadata": {},
          "execution_count": 25
        }
      ],
      "source": [
        "A = np.random.random((5,3))\n",
        "B = np.random.random((3,2))\n",
        "np.dot(A,B)"
      ]
    },
    {
      "cell_type": "markdown",
      "id": "994c25df",
      "metadata": {
        "id": "994c25df"
      },
      "source": [
        "#### 25. Given a 1D array, negate all elements which are between 3 and 8, in place. (★☆☆)"
      ]
    },
    {
      "cell_type": "code",
      "execution_count": null,
      "id": "e4b39c03",
      "metadata": {
        "id": "e4b39c03",
        "colab": {
          "base_uri": "https://localhost:8080/"
        },
        "outputId": "f06552f5-9d0f-417e-bb5a-50cd0afd43a4"
      },
      "outputs": [
        {
          "output_type": "stream",
          "name": "stdout",
          "text": [
            "[ 0  1  2  3 -4 -5 -6 -7  8  9 10]\n"
          ]
        }
      ],
      "source": [
        "negate = np.arange(11)\n",
        "negate[(negate > 3) & (negate < 8)] *= -1\n",
        "print(negate)\n"
      ]
    },
    {
      "cell_type": "markdown",
      "id": "b7d15d1a",
      "metadata": {
        "id": "b7d15d1a"
      },
      "source": [
        "#### 26. What is the output of the following script? (★☆☆)\n",
        "```python\n",
        "# Author: Jake VanderPlas\n",
        "\n",
        "print(sum(range(5),-1))\n",
        "from numpy import *\n",
        "print(sum(range(5),-1))\n",
        "```"
      ]
    },
    {
      "cell_type": "markdown",
      "source": [
        "9,\n",
        "\n",
        "10\n"
      ],
      "metadata": {
        "id": "-4jC5_aCmbdS"
      },
      "id": "-4jC5_aCmbdS"
    },
    {
      "cell_type": "code",
      "execution_count": null,
      "id": "4c95bc3f",
      "metadata": {
        "id": "4c95bc3f"
      },
      "outputs": [],
      "source": []
    },
    {
      "cell_type": "markdown",
      "source": [],
      "metadata": {
        "id": "-SVdAkFZma3s"
      },
      "id": "-SVdAkFZma3s"
    },
    {
      "cell_type": "markdown",
      "id": "a34f0d08",
      "metadata": {
        "id": "a34f0d08"
      },
      "source": [
        "#### 27. Consider an integer vector Z, which of these expressions are legal? (★☆☆)\n",
        "```python\n",
        "Z**Z\n",
        "2 << Z >> 2\n",
        "Z <- Z\n",
        "1j*Z\n",
        "Z/1/1\n",
        "Z<Z>Z\n",
        "```"
      ]
    },
    {
      "cell_type": "markdown",
      "source": [
        "legal,\n",
        "legal,\n",
        "legal,\n",
        "legal,\n",
        "legal,\n",
        "ilegal"
      ],
      "metadata": {
        "id": "GMm_KEe4m17S"
      },
      "id": "GMm_KEe4m17S"
    },
    {
      "cell_type": "code",
      "execution_count": null,
      "id": "564658fc",
      "metadata": {
        "id": "564658fc"
      },
      "outputs": [],
      "source": []
    },
    {
      "cell_type": "markdown",
      "id": "c34e94bf",
      "metadata": {
        "id": "c34e94bf"
      },
      "source": [
        "#### 28. What are the result of the following expressions? (★☆☆)\n",
        "```python\n",
        "np.array(0) / np.array(0)\n",
        "np.array(0) // np.array(0)\n",
        "np.array([np.nan]).astype(int).astype(float)\n",
        "```"
      ]
    },
    {
      "cell_type": "code",
      "execution_count": null,
      "id": "56663562",
      "metadata": {
        "id": "56663562",
        "colab": {
          "base_uri": "https://localhost:8080/"
        },
        "outputId": "4fed362e-3f56-4aae-bf04-2470b6acfe76"
      },
      "outputs": [
        {
          "output_type": "stream",
          "name": "stdout",
          "text": [
            "nan\n",
            "0\n",
            "[-9.22337204e+18]\n"
          ]
        },
        {
          "output_type": "stream",
          "name": "stderr",
          "text": [
            "/tmp/ipython-input-3912170336.py:1: RuntimeWarning: invalid value encountered in divide\n",
            "  print(np.array(0) / np.array(0))\n",
            "/tmp/ipython-input-3912170336.py:2: RuntimeWarning: divide by zero encountered in floor_divide\n",
            "  print(np.array(0) // np.array(0))\n",
            "/tmp/ipython-input-3912170336.py:3: RuntimeWarning: invalid value encountered in cast\n",
            "  print(np.array([np.nan]).astype(int).astype(float))\n"
          ]
        }
      ],
      "source": [
        "print(np.array(0) / np.array(0))\n",
        "print(np.array(0) // np.array(0))\n",
        "print(np.array([np.nan]).astype(int).astype(float))"
      ]
    },
    {
      "cell_type": "markdown",
      "id": "546f5e7b",
      "metadata": {
        "id": "546f5e7b"
      },
      "source": [
        "#### 29. How to round away from zero a float array ? (★☆☆)"
      ]
    },
    {
      "cell_type": "code",
      "execution_count": null,
      "id": "f725a6d2",
      "metadata": {
        "id": "f725a6d2",
        "colab": {
          "base_uri": "https://localhost:8080/"
        },
        "outputId": "d4f0bb26-16a8-4e0b-86d5-7d00c8233c86"
      },
      "outputs": [
        {
          "output_type": "stream",
          "name": "stdout",
          "text": [
            "[-2. -2.  2.  2.]\n"
          ]
        }
      ],
      "source": [
        "Z = np.array([-1.2, -1.5, 1.2, 1.5])\n",
        "Z_rounded = np.copysign(np.ceil(np.abs(Z)), Z)\n",
        "print(Z_rounded)\n"
      ]
    },
    {
      "cell_type": "markdown",
      "id": "eadca856",
      "metadata": {
        "id": "eadca856"
      },
      "source": [
        "#### 30. How to find common values between two arrays? (★☆☆)"
      ]
    },
    {
      "cell_type": "code",
      "execution_count": null,
      "id": "e0270b5b",
      "metadata": {
        "id": "e0270b5b",
        "colab": {
          "base_uri": "https://localhost:8080/"
        },
        "outputId": "c37a37e6-fd1e-4ccf-d9da-8780c130a14a"
      },
      "outputs": [
        {
          "output_type": "stream",
          "name": "stdout",
          "text": [
            "[4 5]\n"
          ]
        }
      ],
      "source": [
        "A = np.array([1,2,3,4,5])\n",
        "B = np.array([4,5,6,7,8])\n",
        "\n",
        "common = np.intersect1d(A, B)\n",
        "print(common)"
      ]
    },
    {
      "cell_type": "markdown",
      "id": "ca16ca22",
      "metadata": {
        "id": "ca16ca22"
      },
      "source": [
        "#### 31. How to ignore all numpy warnings (not recommended)? (★☆☆)"
      ]
    },
    {
      "cell_type": "code",
      "execution_count": null,
      "id": "7d7208ef",
      "metadata": {
        "id": "7d7208ef"
      },
      "outputs": [],
      "source": [
        "import warnings\n",
        "warnings.filterwarnings('ignore')\n",
        "\n",
        "warnings.filterwarnings('ignore', category=RuntimeWarning)"
      ]
    },
    {
      "cell_type": "markdown",
      "id": "c7871d0d",
      "metadata": {
        "id": "c7871d0d"
      },
      "source": [
        "#### 32. Is the following expressions true? (★☆☆)\n",
        "```python\n",
        "np.sqrt(-1) == np.emath.sqrt(-1)\n",
        "```"
      ]
    },
    {
      "cell_type": "markdown",
      "source": [
        "false"
      ],
      "metadata": {
        "id": "SaPqPBlaBKSm"
      },
      "id": "SaPqPBlaBKSm"
    },
    {
      "cell_type": "code",
      "execution_count": null,
      "id": "acc3701a",
      "metadata": {
        "id": "acc3701a"
      },
      "outputs": [],
      "source": []
    },
    {
      "cell_type": "markdown",
      "id": "e0433e30",
      "metadata": {
        "id": "e0433e30"
      },
      "source": [
        "#### 33. How to get the dates of yesterday, today and tomorrow? (★☆☆)"
      ]
    },
    {
      "cell_type": "code",
      "execution_count": null,
      "id": "9c4d2152",
      "metadata": {
        "id": "9c4d2152",
        "colab": {
          "base_uri": "https://localhost:8080/"
        },
        "outputId": "4c1e32e6-c440-45b6-a37d-e9fb349aecb6"
      },
      "outputs": [
        {
          "output_type": "stream",
          "name": "stdout",
          "text": [
            "2025-10-22 2025-10-23 2025-10-24\n"
          ]
        }
      ],
      "source": [
        "today = np.datetime64('today', 'D')\n",
        "yesterday = today - np.timedelta64(1, 'D')\n",
        "tomorrow = today + np.timedelta64(1, 'D')\n",
        "\n",
        "print(yesterday, today, tomorrow)"
      ]
    },
    {
      "cell_type": "markdown",
      "id": "9f52a2ef",
      "metadata": {
        "id": "9f52a2ef"
      },
      "source": [
        "#### 34. How to get all the dates corresponding to the month of July 2016? (★★☆)"
      ]
    },
    {
      "cell_type": "code",
      "execution_count": null,
      "id": "d6c34dec",
      "metadata": {
        "id": "d6c34dec",
        "colab": {
          "base_uri": "https://localhost:8080/"
        },
        "outputId": "adcbb278-0351-400e-e727-a6ef6d7e9a6f"
      },
      "outputs": [
        {
          "output_type": "stream",
          "name": "stdout",
          "text": [
            "['2016-07-01' '2016-07-02' '2016-07-03' '2016-07-04' '2016-07-05'\n",
            " '2016-07-06' '2016-07-07' '2016-07-08' '2016-07-09' '2016-07-10'\n",
            " '2016-07-11' '2016-07-12' '2016-07-13' '2016-07-14' '2016-07-15'\n",
            " '2016-07-16' '2016-07-17' '2016-07-18' '2016-07-19' '2016-07-20'\n",
            " '2016-07-21' '2016-07-22' '2016-07-23' '2016-07-24' '2016-07-25'\n",
            " '2016-07-26' '2016-07-27' '2016-07-28' '2016-07-29' '2016-07-30'\n",
            " '2016-07-31']\n"
          ]
        }
      ],
      "source": [
        "july_2016 = np.arange('2016-07', '2016-08', dtype='datetime64[D]')\n",
        "print(july_2016)"
      ]
    },
    {
      "cell_type": "markdown",
      "id": "4a64e059",
      "metadata": {
        "id": "4a64e059"
      },
      "source": [
        "#### 35. How to compute ((A+B)*(-A/2)) in place (without copy)? (★★☆)"
      ]
    },
    {
      "cell_type": "code",
      "execution_count": null,
      "id": "49267f60",
      "metadata": {
        "id": "49267f60",
        "colab": {
          "base_uri": "https://localhost:8080/"
        },
        "outputId": "62f22944-d303-4a0c-b52e-72203ae80442"
      },
      "outputs": [
        {
          "output_type": "stream",
          "name": "stdout",
          "text": [
            "[[-1. -1. -1.]\n",
            " [-1. -1. -1.]\n",
            " [-1. -1. -1.]]\n"
          ]
        }
      ],
      "source": [
        "A = np.ones((3,3))\n",
        "B = np.ones((3,3))\n",
        "\n",
        "np.add(A, B, out=A)\n",
        "np.divide(A, -2, out=A)\n",
        "print(A)\n"
      ]
    },
    {
      "cell_type": "markdown",
      "id": "8a98c2a8",
      "metadata": {
        "id": "8a98c2a8"
      },
      "source": [
        "#### 36. Extract the integer part of a random array of positive numbers using 4 different methods (★★☆)"
      ]
    },
    {
      "cell_type": "code",
      "execution_count": null,
      "id": "368130b3",
      "metadata": {
        "id": "368130b3",
        "colab": {
          "base_uri": "https://localhost:8080/"
        },
        "outputId": "87c94d8b-2695-4b65-bdd5-e78b660e7813"
      },
      "outputs": [
        {
          "output_type": "stream",
          "name": "stdout",
          "text": [
            "[1.69743808 8.35381057 4.1271719  5.99200484 3.5920263 ]\n",
            "[1. 8. 4. 5. 3.]\n",
            "[-2. -2.  1.  1.]\n",
            "[-1. -1.  1.  1.]\n",
            "[-1 -1  1  1]\n"
          ]
        }
      ],
      "source": [
        "T = np.random.uniform(0,10,5)\n",
        "print(T)\n",
        "\n",
        "print(T - T % 1)\n",
        "print(np.floor(Z))\n",
        "print(np.trunc(Z))\n",
        "print(np.int_(Z))"
      ]
    },
    {
      "cell_type": "markdown",
      "id": "5a2e3d85",
      "metadata": {
        "id": "5a2e3d85"
      },
      "source": [
        "#### 37. Create a 5x5 matrix with row values ranging from 0 to 4 (★★☆)"
      ]
    },
    {
      "cell_type": "code",
      "execution_count": null,
      "id": "1d974e8f",
      "metadata": {
        "id": "1d974e8f",
        "colab": {
          "base_uri": "https://localhost:8080/"
        },
        "outputId": "7065d368-4419-49e1-ae2f-ebb499768605"
      },
      "outputs": [
        {
          "output_type": "stream",
          "name": "stdout",
          "text": [
            "[[0. 1. 2. 3. 4.]\n",
            " [0. 1. 2. 3. 4.]\n",
            " [0. 1. 2. 3. 4.]\n",
            " [0. 1. 2. 3. 4.]\n",
            " [0. 1. 2. 3. 4.]]\n",
            "[[0 1 2 3 4]\n",
            " [0 1 2 3 4]\n",
            " [0 1 2 3 4]\n",
            " [0 1 2 3 4]\n",
            " [0 1 2 3 4]]\n"
          ]
        }
      ],
      "source": [
        "Z = np.zeros((5,5)) + np.arange(5)\n",
        "print(Z)\n",
        "#another method\n",
        "Z = np.tile(np.arange(5), (5,1))\n",
        "print(Z)\n"
      ]
    },
    {
      "cell_type": "markdown",
      "id": "9720e2d5",
      "metadata": {
        "id": "9720e2d5"
      },
      "source": [
        "#### 38. Consider a generator function that generates 10 integers and use it to build an array (★☆☆)"
      ]
    },
    {
      "cell_type": "code",
      "source": [
        "def gen():\n",
        "    for i in range(10):\n",
        "        yield i\n",
        "\n",
        "Z = np.fromiter(gen(), dtype=int, count=-1)\n",
        "print(Z)"
      ],
      "metadata": {
        "colab": {
          "base_uri": "https://localhost:8080/"
        },
        "id": "jfQ89j53DvXm",
        "outputId": "f726236d-3185-4b30-96e9-80b53fc58d4b"
      },
      "id": "jfQ89j53DvXm",
      "execution_count": null,
      "outputs": [
        {
          "output_type": "stream",
          "name": "stdout",
          "text": [
            "[0 1 2 3 4 5 6 7 8 9]\n"
          ]
        }
      ]
    },
    {
      "cell_type": "code",
      "execution_count": null,
      "id": "e5dd8fc9",
      "metadata": {
        "id": "e5dd8fc9"
      },
      "outputs": [],
      "source": []
    },
    {
      "cell_type": "markdown",
      "id": "c6f2c912",
      "metadata": {
        "id": "c6f2c912"
      },
      "source": [
        "#### 39. Create a vector of size 10 with values ranging from 0 to 1, both excluded (★★☆)"
      ]
    },
    {
      "cell_type": "code",
      "execution_count": null,
      "id": "6aaa27d3",
      "metadata": {
        "id": "6aaa27d3",
        "colab": {
          "base_uri": "https://localhost:8080/"
        },
        "outputId": "aac41ad5-d422-4362-ddba-7d68b858203b"
      },
      "outputs": [
        {
          "output_type": "stream",
          "name": "stdout",
          "text": [
            "[0.08333333 0.16666667 0.25       0.33333333 0.41666667 0.5\n",
            " 0.58333333 0.66666667 0.75       0.83333333]\n"
          ]
        }
      ],
      "source": [
        "Z = np.linspace(0, 1, 12, endpoint=False)[1:-1]\n",
        "print(Z)"
      ]
    },
    {
      "cell_type": "markdown",
      "id": "a36d6ee4",
      "metadata": {
        "id": "a36d6ee4"
      },
      "source": [
        "#### 40. Create a random vector of size 10 and sort it (★★☆)"
      ]
    },
    {
      "cell_type": "code",
      "execution_count": null,
      "id": "e589d216",
      "metadata": {
        "id": "e589d216",
        "colab": {
          "base_uri": "https://localhost:8080/"
        },
        "outputId": "693785b3-3d16-4bfc-a9a2-3370d140f89e"
      },
      "outputs": [
        {
          "output_type": "stream",
          "name": "stdout",
          "text": [
            "[0.13601493 0.37561714 0.38169481 0.45662791 0.50192967 0.52163096\n",
            " 0.66151844 0.70913691 0.72047706 0.86451651]\n"
          ]
        }
      ],
      "source": [
        "Z = np.random.random(10)\n",
        "Z.sort()\n",
        "print(Z)\n"
      ]
    },
    {
      "cell_type": "markdown",
      "id": "0fb4ad68",
      "metadata": {
        "id": "0fb4ad68"
      },
      "source": [
        "#### 41. How to sum a small array faster than np.sum? (★★☆)"
      ]
    },
    {
      "cell_type": "code",
      "execution_count": null,
      "id": "a1ba05a0",
      "metadata": {
        "id": "a1ba05a0",
        "colab": {
          "base_uri": "https://localhost:8080/"
        },
        "outputId": "bfb82867-e0de-4e0e-b447-990342349683"
      },
      "outputs": [
        {
          "output_type": "stream",
          "name": "stdout",
          "text": [
            "45\n"
          ]
        }
      ],
      "source": [
        "Z = np.arange(10)\n",
        "result = np.add.reduce(Z)\n",
        "print(result)\n"
      ]
    },
    {
      "cell_type": "markdown",
      "id": "024ac365",
      "metadata": {
        "id": "024ac365"
      },
      "source": [
        "#### 42. Consider two random array A and B, check if they are equal (★★☆)"
      ]
    },
    {
      "cell_type": "code",
      "execution_count": null,
      "id": "7db3846d",
      "metadata": {
        "id": "7db3846d",
        "colab": {
          "base_uri": "https://localhost:8080/"
        },
        "outputId": "bc3768c7-6b41-4081-a500-359b2ad2a044"
      },
      "outputs": [
        {
          "output_type": "stream",
          "name": "stdout",
          "text": [
            "False\n"
          ]
        }
      ],
      "source": [
        "A = np.random.randint(0, 10, 5)\n",
        "B = np.random.randint(0, 10, 5)\n",
        "print(np.array_equal(A, B))\n"
      ]
    },
    {
      "cell_type": "markdown",
      "id": "c68d2401",
      "metadata": {
        "id": "c68d2401"
      },
      "source": [
        "#### 43. Make an array immutable (read-only) (★★☆)"
      ]
    },
    {
      "cell_type": "code",
      "execution_count": null,
      "id": "7828539d",
      "metadata": {
        "id": "7828539d"
      },
      "outputs": [],
      "source": [
        "Z = np.zeros(10)\n",
        "Z.flags.writeable = False\n"
      ]
    },
    {
      "cell_type": "markdown",
      "id": "55df6280",
      "metadata": {
        "id": "55df6280"
      },
      "source": [
        "#### 44. Consider a random 10x2 matrix representing cartesian coordinates, convert them to polar coordinates (★★☆)"
      ]
    },
    {
      "cell_type": "code",
      "execution_count": null,
      "id": "f1c86ea0",
      "metadata": {
        "id": "f1c86ea0",
        "colab": {
          "base_uri": "https://localhost:8080/"
        },
        "outputId": "f4ff9121-5277-48bf-b7e8-fd4533849a9b"
      },
      "outputs": [
        {
          "output_type": "stream",
          "name": "stdout",
          "text": [
            "[[1.07990558 0.56406174]\n",
            " [0.7622918  0.8183931 ]\n",
            " [0.92748941 1.30475343]\n",
            " [1.34976092 0.77304611]\n",
            " [0.80955557 0.6375793 ]\n",
            " [1.36525569 0.751152  ]\n",
            " [1.30062871 0.72589561]\n",
            " [0.8968176  0.60105228]\n",
            " [0.48584775 0.57560413]\n",
            " [0.94597031 0.47967447]]\n"
          ]
        }
      ],
      "source": [
        "import numpy as np\n",
        "coords = np.random.rand(10,2)\n",
        "r = np.sqrt(coords[:, 0]**2 + coords[:, 1]**2)\n",
        "theta = np.arctan2(coords[:, 1], coords[:, 0])\n",
        "\n",
        "polar_coords = np.column_stack((r, theta))\n",
        "print(polar_coords)"
      ]
    },
    {
      "cell_type": "markdown",
      "id": "2f60f1ec",
      "metadata": {
        "id": "2f60f1ec"
      },
      "source": [
        "#### 45. Create random vector of size 10 and replace the maximum value by 0 (★★☆)"
      ]
    },
    {
      "cell_type": "code",
      "execution_count": null,
      "id": "d9f48f1c",
      "metadata": {
        "id": "d9f48f1c",
        "colab": {
          "base_uri": "https://localhost:8080/"
        },
        "outputId": "fcf6553b-990f-4da6-e75d-24712c8bd893"
      },
      "outputs": [
        {
          "output_type": "stream",
          "name": "stdout",
          "text": [
            "[0.94591983 0.78720352 0.02000205 0.45749109 0.         0.1566761\n",
            " 0.8344763  0.9400513  0.47918932 0.24723052]\n"
          ]
        }
      ],
      "source": [
        "v = np.random.rand(10)\n",
        "v[v.argmax()] = 0\n",
        "print(v)\n"
      ]
    },
    {
      "cell_type": "markdown",
      "id": "084e8ad4",
      "metadata": {
        "id": "084e8ad4"
      },
      "source": [
        "#### 46. Create a structured array with `x` and `y` coordinates covering the [0,1]x[0,1] area (★★☆)"
      ]
    },
    {
      "cell_type": "code",
      "execution_count": null,
      "id": "58b47c13",
      "metadata": {
        "id": "58b47c13",
        "colab": {
          "base_uri": "https://localhost:8080/"
        },
        "outputId": "8656ea16-fde1-4060-dea7-61ac24e54cd4"
      },
      "outputs": [
        {
          "output_type": "stream",
          "name": "stdout",
          "text": [
            "[(0.  , 0.  ) (0.25, 0.  ) (0.5 , 0.  ) (0.75, 0.  ) (1.  , 0.  )\n",
            " (0.  , 0.25) (0.25, 0.25) (0.5 , 0.25) (0.75, 0.25) (1.  , 0.25)\n",
            " (0.  , 0.5 ) (0.25, 0.5 ) (0.5 , 0.5 ) (0.75, 0.5 ) (1.  , 0.5 )\n",
            " (0.  , 0.75) (0.25, 0.75) (0.5 , 0.75) (0.75, 0.75) (1.  , 0.75)\n",
            " (0.  , 1.  ) (0.25, 1.  ) (0.5 , 1.  ) (0.75, 1.  ) (1.  , 1.  )]\n"
          ]
        }
      ],
      "source": [
        "x = np.linspace(0, 1, 5)\n",
        "y = np.linspace(0, 1, 5)\n",
        "\n",
        "X, Y = np.meshgrid(x, y)\n",
        "\n",
        "structured = np.zeros(X.size, dtype=[('x', float), ('y', float)])\n",
        "structured['x'] = X.ravel()\n",
        "structured['y'] = Y.ravel()\n",
        "\n",
        "print(structured)\n"
      ]
    },
    {
      "cell_type": "markdown",
      "id": "d7b9bc42",
      "metadata": {
        "id": "d7b9bc42"
      },
      "source": [
        "#### 47. Given two arrays, X and Y, construct the Cauchy matrix C (Cij =1/(xi - yj)) (★★☆)"
      ]
    },
    {
      "cell_type": "code",
      "execution_count": null,
      "id": "a24824fb",
      "metadata": {
        "id": "a24824fb",
        "colab": {
          "base_uri": "https://localhost:8080/"
        },
        "outputId": "1670d7f0-d47e-44c1-fbc7-3586be22d9f2"
      },
      "outputs": [
        {
          "output_type": "stream",
          "name": "stdout",
          "text": [
            "[[  1.38861636 -14.52785199   1.60284905  15.10357781   1.33466707]\n",
            " [  6.17188102  -1.59502493  15.20382515  -2.03290596   5.23192114]\n",
            " [  1.23931742  55.79991162   1.40717524   6.53748793   1.19616509]\n",
            " [  1.58389481  -6.34439078   1.86879971 -44.29331824   1.51408643]\n",
            " [  1.09790157   8.20655167   1.22763219   3.89261614   1.06390031]]\n"
          ]
        }
      ],
      "source": [
        "X = np.random.rand(5)\n",
        "Y = np.random.rand(5)\n",
        "\n",
        "C = 1 / (X[:, None] - Y[None, :])\n",
        "print(C)\n"
      ]
    },
    {
      "cell_type": "markdown",
      "id": "65ebc11b",
      "metadata": {
        "id": "65ebc11b"
      },
      "source": [
        "#### 48. Print the minimum and maximum representable value for each numpy scalar type (★★☆)"
      ]
    },
    {
      "cell_type": "code",
      "execution_count": null,
      "id": "e45d38fb",
      "metadata": {
        "id": "e45d38fb",
        "colab": {
          "base_uri": "https://localhost:8080/"
        },
        "outputId": "751a5d3e-2c0e-4efb-aabc-fcf357e81b61"
      },
      "outputs": [
        {
          "output_type": "stream",
          "name": "stdout",
          "text": [
            "<class 'numpy.int8'>: min=-128, max=127\n",
            "<class 'numpy.int16'>: min=-32768, max=32767\n",
            "<class 'numpy.int32'>: min=-2147483648, max=2147483647\n",
            "<class 'numpy.int64'>: min=-9223372036854775808, max=9223372036854775807\n",
            "<class 'numpy.float32'>: min=-3.4028234663852886e+38, max=3.4028234663852886e+38\n",
            "<class 'numpy.float64'>: min=-1.7976931348623157e+308, max=1.7976931348623157e+308\n"
          ]
        }
      ],
      "source": [
        "for dtype in [np.int8, np.int16, np.int32, np.int64, np.float32, np.float64]:\n",
        "    info = np.iinfo(dtype) if np.issubdtype(dtype, np.integer) else np.finfo(dtype)\n",
        "    print(f\"{dtype}: min={info.min}, max={info.max}\")\n"
      ]
    },
    {
      "cell_type": "markdown",
      "id": "9b317a98",
      "metadata": {
        "id": "9b317a98"
      },
      "source": [
        "#### 49. How to print all the values of an array? (★★☆)"
      ]
    },
    {
      "cell_type": "code",
      "execution_count": null,
      "id": "309cdeb9",
      "metadata": {
        "id": "309cdeb9",
        "colab": {
          "base_uri": "https://localhost:8080/"
        },
        "outputId": "669b7da9-2f59-4922-8f98-edf889eb5203"
      },
      "outputs": [
        {
          "output_type": "stream",
          "name": "stdout",
          "text": [
            "[ 0  1  2  3  4  5  6  7  8  9 10 11 12 13 14 15 16 17 18 19 20 21 22 23\n",
            " 24 25 26 27 28 29 30 31 32 33 34 35 36 37 38 39 40 41 42 43 44 45 46 47\n",
            " 48 49 50 51 52 53 54 55 56 57 58 59 60 61 62 63 64 65 66 67 68 69 70 71\n",
            " 72 73 74 75 76 77 78 79 80 81 82 83 84 85 86 87 88 89 90 91 92 93 94 95\n",
            " 96 97 98 99]\n"
          ]
        }
      ],
      "source": [
        "np.set_printoptions(threshold=np.inf)\n",
        "arr = np.arange(100)\n",
        "print(arr)"
      ]
    },
    {
      "cell_type": "markdown",
      "id": "b580f9d0",
      "metadata": {
        "id": "b580f9d0"
      },
      "source": [
        "#### 50. How to find the closest value (to a given scalar) in a vector? (★★☆)"
      ]
    },
    {
      "cell_type": "code",
      "execution_count": null,
      "id": "ebfb6714",
      "metadata": {
        "id": "ebfb6714",
        "colab": {
          "base_uri": "https://localhost:8080/"
        },
        "outputId": "6e069abd-a76c-47ea-bcdc-583e0a6596e7"
      },
      "outputs": [
        {
          "output_type": "stream",
          "name": "stdout",
          "text": [
            "Vector: [0.35014229 0.13783335 0.95887265 0.08473082 0.90247673 0.37187801\n",
            " 0.62318381 0.59890127 0.76149361 0.4215721 ]\n",
            "Closest value to 0.5 is 0.42157209692671904\n"
          ]
        }
      ],
      "source": [
        "v = np.random.rand(10)\n",
        "scalar = 0.5\n",
        "closest_value = v[np.abs(v - scalar).argmin()]\n",
        "print(\"Vector:\", v)\n",
        "print(\"Closest value to\", scalar, \"is\", closest_value)"
      ]
    },
    {
      "cell_type": "markdown",
      "id": "602e6252",
      "metadata": {
        "id": "602e6252"
      },
      "source": [
        "#### 51. Create a structured array representing a position (x,y) and a color (r,g,b) (★★☆)"
      ]
    },
    {
      "cell_type": "code",
      "execution_count": null,
      "id": "cf002b3a",
      "metadata": {
        "id": "cf002b3a",
        "colab": {
          "base_uri": "https://localhost:8080/"
        },
        "outputId": "a299cdd8-dc21-44ff-86ee-43428fc09fc4"
      },
      "outputs": [
        {
          "output_type": "stream",
          "name": "stdout",
          "text": [
            "[((0.07852658, 0.07881275), (0.50487815, 0.20881993, 0.35968502))\n",
            " ((0.89389854, 0.21406458), (0.46267516, 0.67981598, 0.48259029))\n",
            " ((0.42448076, 0.42321575), (0.14046405, 0.74613313, 0.07601896))\n",
            " ((0.91341676, 0.61581347), (0.73913806, 0.29554311, 0.46201538))\n",
            " ((0.1597992 , 0.45091795), (0.90140492, 0.21382948, 0.38288914))]\n"
          ]
        }
      ],
      "source": [
        "data = np.zeros(5, dtype=[('position', [('x', float), ('y', float)]),\n",
        "                          ('color', [('r', float), ('g', float), ('b', float)])])\n",
        "\n",
        "data['position']['x'] = np.random.rand(5)\n",
        "data['position']['y'] = np.random.rand(5)\n",
        "data['color']['r'] = np.random.rand(5)\n",
        "data['color']['g'] = np.random.rand(5)\n",
        "data['color']['b'] = np.random.rand(5)\n",
        "\n",
        "print(data)\n"
      ]
    },
    {
      "cell_type": "markdown",
      "id": "78bcd92f",
      "metadata": {
        "id": "78bcd92f"
      },
      "source": [
        "#### 52. Consider a random vector with shape (100,2) representing coordinates, find point by point distances (★★☆)"
      ]
    },
    {
      "cell_type": "code",
      "execution_count": null,
      "id": "fea7f9a6",
      "metadata": {
        "id": "fea7f9a6",
        "colab": {
          "base_uri": "https://localhost:8080/"
        },
        "outputId": "cfbbf921-94f2-45d5-ff62-0833ee8f5a2f"
      },
      "outputs": [
        {
          "output_type": "stream",
          "name": "stdout",
          "text": [
            "[[0.         0.53291852 0.64974836 0.61848844 0.41550904 0.41686672\n",
            "  0.27201544 0.5198306  0.18742697 0.40237271 0.51123132 0.38508858\n",
            "  0.27655067 0.22595499 0.09248063 0.57197751 0.71270293 0.31499451\n",
            "  0.74996885 0.53529654 0.16491346 0.4177999  0.44982812 0.68215652\n",
            "  0.37962101 0.54585715 0.0705266  0.77384265 0.40286174 0.34580624\n",
            "  0.76278056 0.5105088  0.11111588 0.95944926 0.14289725 0.89778434\n",
            "  0.13440266 0.32650696 0.47410726 0.50028948 0.13080449 0.25550642\n",
            "  0.61642994 0.38390144 0.31027319 0.0860654  0.58749972 0.22567562\n",
            "  0.3676596  0.01442576 0.5680628  0.4831671  0.17427606 0.61015899\n",
            "  0.26849107 0.3246683  0.14384253 0.7312439  0.5781877  0.59753679\n",
            "  0.72790355 0.80942965 0.60269399 0.39558423 0.70157129 0.54642845\n",
            "  0.38297377 0.20469227 0.78945399 0.73981329 0.42530434 0.64582422\n",
            "  0.44266428 0.6835067  0.20572961 0.21707064 0.66928523 0.0253116\n",
            "  0.53557606 0.54086899 0.41832961 0.04974613 0.62980152 0.40156814\n",
            "  0.57027905 0.6942629  0.61564726 0.07314931 0.69358152 0.09136748\n",
            "  0.60301678 0.50967341 0.72842667 0.69432898 0.39992469 0.85326421\n",
            "  0.5079522  0.35223883 0.14329548 0.61712236]\n",
            " [0.53291852 0.         0.829017   0.18553839 0.12426762 0.12284408\n",
            "  0.55621001 0.49259953 0.35349032 0.83263743 0.41838055 0.69830029\n",
            "  0.60938031 0.6877047  0.54052981 0.43217379 0.19385036 0.6770102\n",
            "  0.75916016 0.80439449 0.53525532 0.27495596 0.15950485 0.15275374\n",
            "  0.42886958 0.20392887 0.47242197 0.43856927 0.56284317 0.78716273\n",
            "  0.35393984 0.76864811 0.63015301 0.4988014  0.41925868 0.42248869\n",
            "  0.45486972 0.55939079 0.3994258  0.25285161 0.4033559  0.3044409\n",
            "  0.12730448 0.71082629 0.83794621 0.47321056 0.09077022 0.68943485\n",
            "  0.66437966 0.52421467 0.16874816 0.77521026 0.58411975 0.45578683\n",
            "  0.78923793 0.20952156 0.43956399 0.33376045 0.53768337 0.78678253\n",
            "  0.61683483 0.38663097 0.08348885 0.13933253 0.64006796 0.48214886\n",
            "  0.32184049 0.44577764 0.43362002 0.88402859 0.20437465 0.50898878\n",
            "  0.53108506 0.78585331 0.60089789 0.70333958 0.13641802 0.52733842\n",
            "  0.72723004 0.38354847 0.63112191 0.48509927 0.1204572  0.92537703\n",
            "  0.73646485 0.77697754 0.76328207 0.5197197  0.52033027 0.62309866\n",
            "  0.32611601 0.2568416  0.58324388 0.34067301 0.47574249 0.39242416\n",
            "  0.58945114 0.42100655 0.48901379 0.13425903]\n",
            " [0.64974836 0.829017   0.         0.74542471 0.73039811 0.79211975\n",
            "  0.91809213 1.11373439 0.71276716 0.40662546 1.07627219 0.27683693\n",
            "  0.92629017 0.48699518 0.74218963 1.12633025 0.8923528  0.35367623\n",
            "  0.24234695 0.14894637 0.48625955 0.92787117 0.66952397 0.9545766\n",
            "  0.9753781  0.98229521 0.61696695 0.66949409 0.28497033 0.43011527\n",
            "  0.75531791 0.15351631 0.60165495 0.9314488  0.58218615 0.91815163\n",
            "  0.55368468 0.33580005 0.43613428 0.59217197 0.64370628 0.76816256\n",
            "  0.80425792 0.28551515 0.66083285 0.59296152 0.8049531  0.48962507\n",
            "  0.28506247 0.63815925 0.71187803 0.19765531 0.47898184 0.45347705\n",
            "  0.61403143 0.73446588 0.5575625  0.73104148 0.33254864 0.05240865\n",
            "  0.39153521 0.7922729  0.83715073 0.76873328 0.32834477 1.12975127\n",
            "  0.92496938 0.82211978 0.69942423 0.09344422 0.88725208 0.42596028\n",
            "  0.29923632 0.10993383 0.85412062 0.5246986  0.92294042 0.62506098\n",
            "  0.11739386 0.48133345 0.2383157  0.63714467 0.94738549 0.67215795\n",
            "  0.0941249  0.13739714 0.06938078 0.72039218 0.46567486 0.674043\n",
            "  0.5877168  0.99047671 0.43356407 0.67196166 1.0107306  0.86856579\n",
            "  0.24074528 0.94837792 0.78021942 0.79744256]\n",
            " [0.61848844 0.18553839 0.74542471 0.         0.22708771 0.2759575\n",
            "  0.70465871 0.67595303 0.46585931 0.83925348 0.60284688 0.67708564\n",
            "  0.75373118 0.72248896 0.65047627 0.61770115 0.14694022 0.67644175\n",
            "  0.62974887 0.75365528 0.57001718 0.45360084 0.16872355 0.229921\n",
            "  0.60096279 0.38747415 0.5498267  0.25370863 0.51562358 0.80260834\n",
            "  0.17244422 0.71832926 0.69748205 0.34593604 0.48263058 0.27975186\n",
            "  0.50933921 0.53939923 0.31363659 0.16324248 0.49001063 0.43850967\n",
            "  0.07402075 0.69252379 0.90112161 0.5425618  0.10008223 0.72481839\n",
            "  0.64310058 0.60684419 0.05104411 0.73588902 0.6182327  0.31710995\n",
            "  0.84702645 0.33127779 0.49446594 0.14930961 0.422962   0.71093767\n",
            "  0.46707599 0.21090216 0.12703764 0.27843933 0.50217837 0.66690997\n",
            "  0.4956007  0.58418578 0.24808329 0.78436219 0.38225266 0.36595136\n",
            "  0.46602661 0.6820142  0.73132257 0.74684561 0.19520542 0.60601373\n",
            "  0.65966021 0.26552273 0.58694773 0.56875501 0.25519229 0.98080004\n",
            "  0.65907955 0.66792442 0.6764326  0.62557688 0.36393219 0.70934698\n",
            "  0.17219424 0.44237826 0.42749003 0.15724709 0.64885684 0.23756696\n",
            "  0.50756441 0.58927065 0.61297374 0.06494282]\n",
            " [0.41550904 0.12426762 0.73039811 0.22708771 0.         0.07152287\n",
            "  0.4776315  0.48138194 0.24517356 0.70929427 0.4162839  0.58009449\n",
            "  0.52670322 0.56346876 0.43306609 0.44682424 0.29767707 0.555128\n",
            "  0.68889119 0.69319162 0.41101052 0.25504849 0.08988051 0.27693727\n",
            "  0.38578129 0.25571669 0.35222904 0.45246771 0.45470695 0.66326376\n",
            "  0.3957635  0.65773496 0.50897257 0.57121617 0.296051   0.50100088\n",
            "  0.33102652 0.44277059 0.31864579 0.20161943 0.28481048 0.21156115\n",
            "  0.20508783 0.5918636  0.71682116 0.35135486 0.17330768 0.56521149\n",
            "  0.54655132 0.40586643 0.1846555  0.66084079 0.45985547 0.40593738\n",
            "  0.66709003 0.10471849 0.31568029 0.36861935 0.46489599 0.68534225\n",
            "  0.56789341 0.43704011 0.18720614 0.05925694 0.57985014 0.48024624\n",
            "  0.28583314 0.35735265 0.45584089 0.79261534 0.1892878  0.4591597\n",
            "  0.43129008 0.69840943 0.50651453 0.57947542 0.25844917 0.40796023\n",
            "  0.62330927 0.32511382 0.52032578 0.36667003 0.23966353 0.80322496\n",
            "  0.63657865 0.6927612  0.66731557 0.41005104 0.48238183 0.50658606\n",
            "  0.30409349 0.28052169 0.54158204 0.35492968 0.43388386 0.4624737\n",
            "  0.49546234 0.37064027 0.38946268 0.20739347]\n",
            " [0.41686672 0.12284408 0.79211975 0.2759575  0.07152287 0.\n",
            "  0.43678696 0.41300058 0.23331559 0.74288762 0.34615198 0.62638347\n",
            "  0.48892706 0.58777746 0.41886631 0.37542903 0.31582124 0.59447552\n",
            "  0.75891081 0.74680005 0.43971238 0.18624653 0.16038249 0.26581904\n",
            "  0.32562118 0.19021642 0.36041929 0.51438081 0.51233217 0.6940334\n",
            "  0.44815247 0.71176862 0.51845995 0.61133609 0.3152477  0.53742153\n",
            "  0.35331078 0.49243403 0.38827849 0.27250446 0.29003956 0.18160527\n",
            "  0.23712563 0.63688916 0.72524595 0.36433788 0.20103171 0.58920999\n",
            "  0.59363625 0.40922467 0.24044624 0.7115097  0.48716594 0.47741991\n",
            "  0.67876311 0.09286001 0.33855042 0.42318545 0.53507369 0.74577105\n",
            "  0.63941494 0.48650376 0.20364887 0.02542929 0.65104389 0.41036778\n",
            "  0.22183477 0.32359446 0.51540988 0.85722515 0.11844808 0.53066878\n",
            "  0.49406027 0.76462616 0.4782535  0.59942076 0.25586204 0.4135892\n",
            "  0.68258699 0.39663049 0.57531111 0.37055943 0.21382971 0.81447642\n",
            "  0.69803584 0.75993373 0.73048996 0.39885303 0.55343455 0.50570685\n",
            "  0.37241566 0.20950954 0.61291751 0.41577903 0.37367906 0.5031984\n",
            "  0.56026666 0.31332456 0.36622503 0.24182957]\n",
            " [0.27201544 0.55621001 0.91809213 0.70465871 0.4776315  0.43678696\n",
            "  0.         0.29496671 0.26245569 0.65829755 0.32017954 0.65701564\n",
            "  0.05641162 0.48601487 0.18141954 0.38024854 0.74982958 0.58677165\n",
            "  0.99593347 0.80720765 0.43202299 0.31845843 0.55074331 0.67632416\n",
            "  0.18670181 0.46605557 0.30270091 0.91690284 0.65666288 0.6019402\n",
            "  0.8724866  0.78190564 0.35537855 1.04677894 0.35274103 0.97390092\n",
            "  0.37120218 0.58706266 0.6727907  0.64063422 0.29604311 0.26723605\n",
            "  0.67361134 0.65590328 0.48578761 0.32694013 0.63776871 0.48499589\n",
            "  0.63869879 0.28198229 0.66147243 0.75517976 0.4462619  0.80301434\n",
            "  0.47009151 0.37440603 0.37162066 0.84431236 0.80140827 0.86570156\n",
            "  0.94368913 0.91452834 0.6391772  0.42845212 0.92886435 0.32925537\n",
            "  0.26416684 0.12572151 0.92489056 1.00649827 0.3698726  0.84779817\n",
            "  0.68448451 0.94345009 0.1017282  0.46631799 0.67721496 0.29536405\n",
            "  0.80231244 0.72339293 0.68269283 0.28125283 0.60988689 0.57483551\n",
            "  0.83515782 0.9515153  0.87967415 0.1991931  0.88843834 0.28642007\n",
            "  0.75211092 0.40348325 0.93446637 0.82366566 0.1757009  0.93820547\n",
            "  0.75470451 0.17121927 0.13956011 0.67790992]\n",
            " [0.5198306  0.49259953 1.11373439 0.67595303 0.48138194 0.41300058\n",
            "  0.29496671 0.         0.40123037 0.92216813 0.07774221 0.88142162\n",
            "  0.33922586 0.74577358 0.44616379 0.10757638 0.66054386 0.82133136\n",
            "  1.13635969 1.02701944 0.65133701 0.22675577 0.57117399 0.55284574\n",
            "  0.14200393 0.31284668 0.51810371 0.92420651 0.83168019 0.86554902\n",
            "  0.84641193 0.99673592 0.62293915 0.97973995 0.53464122 0.90059822\n",
            "  0.56785301 0.77963249 0.7733112  0.68198951 0.47418751 0.34811854\n",
            "  0.61919707 0.88473105 0.7773326  0.53919785 0.58319031 0.74545303\n",
            "  0.8562449  0.52447977 0.64852205 0.97946767 0.68085459 0.88106597\n",
            "  0.7563882  0.41309603 0.56094599 0.82520299 0.91877454 1.06234885\n",
            "  1.03990557 0.87886921 0.56932428 0.42228568 1.04263833 0.03680294\n",
            "  0.20126786 0.31524503 0.92261104 1.19371852 0.2963333  0.93298477\n",
            "  0.83849801 1.11433865 0.39620867 0.73419891 0.56856919 0.53700608\n",
            "  0.99660613 0.79838406 0.87648392 0.50584874 0.48445929 0.86783391\n",
            "  1.02277632 1.11602531 1.06320695 0.45174996 0.96098334 0.56349844\n",
            "  0.78515709 0.24377082 1.01798049 0.82525765 0.12313333 0.8778735\n",
            "  0.91050746 0.16988029 0.37889042 0.62657751]\n",
            " [0.18742697 0.35349032 0.71276716 0.46585931 0.24517356 0.23331559\n",
            "  0.26245569 0.40123037 0.         0.55726667 0.36995293 0.48573583\n",
            "  0.30163663 0.38682592 0.18816654 0.42549535 0.54088708 0.43251223\n",
            "  0.75325696 0.62812424 0.26126662 0.24493464 0.30136328 0.4990307\n",
            "  0.26288436 0.3613105  0.14357843 0.65968589 0.43241092 0.50322845\n",
            "  0.62571137 0.59693938 0.29505924 0.81178748 0.13530492 0.74403807\n",
            "  0.17178254 0.37842371 0.41314995 0.38128472 0.07935855 0.07180471\n",
            "  0.45026134 0.49093955 0.49769827 0.15684809 0.41798571 0.38754196\n",
            "  0.4585037  0.18200304 0.41832101 0.58233193 0.29976123 0.54128377\n",
            "  0.45494506 0.14435865 0.16250242 0.59589278 0.5476631  0.66124102\n",
            "  0.68556208 0.6701081  0.4286936  0.21420836 0.67519453 0.41900846\n",
            "  0.22316812 0.13748886 0.66976411 0.79400412 0.24068256 0.58711881\n",
            "  0.44588583 0.71819466 0.2672921  0.3894663  0.48871727 0.18891849\n",
            "  0.59553068 0.46113067 0.47526774 0.1458343  0.44408852 0.58886481\n",
            "  0.622426   0.72200722 0.66367517 0.16630801 0.62659102 0.27361197\n",
            "  0.49229322 0.33196562 0.67403559 0.56941038 0.30065479 0.70338622\n",
            "  0.51804935 0.23627827 0.14798976 0.45245928]\n",
            " [0.40237271 0.83263743 0.40662546 0.83925348 0.70929427 0.74288762\n",
            "  0.65829755 0.92216813 0.55726667 0.         0.91163106 0.18778964\n",
            "  0.64445815 0.17642486 0.48105778 0.9715085  0.97127686 0.16306668\n",
            "  0.6148194  0.25771258 0.30417802 0.80212563 0.69537954 0.9836967\n",
            "  0.78188705 0.91004354 0.41606468 0.88500436 0.35792194 0.05672802\n",
            "  0.9270215  0.26080782 0.30326995 1.12887429 0.43366377 1.08873213\n",
            "  0.39417079 0.30516828 0.55993904 0.67979567 0.4785552  0.62864562\n",
            "  0.86966686 0.16995913 0.26682992 0.40047074 0.85295407 0.17671516\n",
            "  0.21470531 0.398384   0.79099757 0.2134751  0.25928971 0.66266997\n",
            "  0.2323229  0.65544826 0.40771287 0.89599069 0.56415507 0.36875249\n",
            "  0.6954074  0.97301774 0.87862045 0.71769867 0.6416704  0.94869606\n",
            "  0.77565237 0.60706113 0.91050226 0.4955451  0.79207737 0.66787445\n",
            "  0.42413293 0.49556429 0.56800071 0.19200441 0.96087295 0.38634188\n",
            "  0.34045589 0.63581795 0.30148883 0.42197067 0.94854068 0.26569785\n",
            "  0.37897367 0.51896072 0.41748614 0.47141738 0.72057436 0.37271929\n",
            "  0.73995164 0.88835551 0.72117756 0.8419883  0.80167083 1.03817853\n",
            "  0.43937663 0.75440106 0.54410103 0.86647658]\n",
            " [0.51123132 0.41838055 1.07627219 0.60284688 0.4162839  0.34615198\n",
            "  0.32017954 0.07774221 0.36995293 0.91163106 0.         0.85552265\n",
            "  0.37099242 0.73570218 0.44754548 0.06197949 0.58331327 0.79988959\n",
            "  1.08494706 0.99782164 0.6284226  0.16224582 0.50608402 0.47510639\n",
            "  0.13869257 0.23515679 0.49901918 0.85291684 0.79203109 0.85552955\n",
            "  0.77229647 0.96623865 0.61903196 0.90263824 0.50525417 0.82339733\n",
            "  0.54104772 0.74567164 0.71794884 0.61786292 0.44716517 0.30848733\n",
            "  0.54428889 0.8603027  0.78795026 0.51816604 0.50861937 0.73570345\n",
            "  0.82845469 0.51379805 0.57744104 0.95228479 0.66223927 0.82010669\n",
            "  0.76171259 0.35779768 0.53238739 0.75184064 0.86465986 1.02564994\n",
            "  0.98056745 0.80382398 0.49366203 0.3579523  0.98654272 0.0644919\n",
            "  0.15144543 0.30918595 0.85031123 1.15324924 0.22786098 0.87269218\n",
            "  0.79352462 1.07022767 0.41711265 0.72819222 0.49100703 0.52548901\n",
            "  0.95992017 0.73794943 0.84121143 0.49019538 0.40676193 0.88006637\n",
            "  0.98394013 1.07031996 1.02285179 0.44832375 0.89830294 0.56597118\n",
            "  0.71831028 0.16652977 0.9566209  0.75403168 0.14661854 0.80127923\n",
            "  0.86490285 0.1630363  0.3769971  0.55185894]\n",
            " [0.38508858 0.69830029 0.27683693 0.67708564 0.58009449 0.62638347\n",
            "  0.65701564 0.88142162 0.48573583 0.18778964 0.85552265 0.\n",
            "  0.65925797 0.21104137 0.47692657 0.91113207 0.81599713 0.07684246\n",
            "  0.44541507 0.15020831 0.23084888 0.72309291 0.54863429 0.84408092\n",
            "  0.7397243  0.80824206 0.36557539 0.70098973 0.17343631 0.18171057\n",
            "  0.74971328 0.12737993 0.32595406 0.94947206 0.35052188 0.91358214\n",
            "  0.31457646 0.1399407  0.38156658 0.51434203 0.40859444 0.55124876\n",
            "  0.71609515 0.01786679 0.39861325 0.34319549 0.7042298  0.21377995\n",
            "  0.03427906 0.37511464 0.63145858 0.0988008  0.21082746 0.47657746\n",
            "  0.34685199 0.54870818 0.32323656 0.71940773 0.37636612 0.22749276\n",
            "  0.50950079 0.79477692 0.73261483 0.60104129 0.4577346  0.90234255\n",
            "  0.70828388 0.5740226  0.72724398 0.37014998 0.69775074 0.48023326\n",
            "  0.23845107 0.34017995 0.58502189 0.24963931 0.81787526 0.36171168\n",
            "  0.17778458 0.45528848 0.1137013  0.3817965  0.81798588 0.42911417\n",
            "  0.21784041 0.35941891 0.26241428 0.45783731 0.53285151 0.39926698\n",
            "  0.56259157 0.79978955 0.5339308  0.66365838 0.76932601 0.8626545\n",
            "  0.25202343 0.71193261 0.52346868 0.71177151]\n",
            " [0.27655067 0.60938031 0.92629017 0.75373118 0.52670322 0.48892706\n",
            "  0.05641162 0.33922586 0.30163663 0.64445815 0.37099242 0.65925797\n",
            "  0.         0.47675633 0.18418529 0.42986974 0.80318727 0.58647833\n",
            "  1.01697521 0.8091722  0.44090416 0.37485187 0.59674805 0.73166401\n",
            "  0.24073726 0.52246677 0.31869373 0.96044533 0.67346629 0.58888795\n",
            "  0.92002266 0.78572799 0.34523758 1.09723546 0.37635297 1.0251412\n",
            "  0.38973409 0.60040555 0.70521678 0.68266075 0.3238552  0.31523536\n",
            "  0.72510067 0.656621   0.45379969 0.34263852 0.6895736  0.47540662\n",
            "  0.64351897 0.28839978 0.70947429 0.75621364 0.4490622  0.83758144\n",
            "  0.44398588 0.42256154 0.39228083 0.89132807 0.82899725 0.87408697\n",
            "  0.97381976 0.96275634 0.69201864 0.47940178 0.95587209 0.37470404\n",
            "  0.32057831 0.16995877 0.96951212 1.01629401 0.42556267 0.88071676\n",
            "  0.70592046 0.95791421 0.07658656 0.45313151 0.73194711 0.30135891\n",
            "  0.81200359 0.7593929  0.69405346 0.29523391 0.66553812 0.54009988\n",
            "  0.84632908 0.96745904 0.89149216 0.20740935 0.92305909 0.27243387\n",
            "  0.79383847 0.45972759 0.96688123 0.86858161 0.22474223 0.98854401\n",
            "  0.77473723 0.22676504 0.16337248 0.72912863]\n",
            " [0.22595499 0.6877047  0.48699518 0.72248896 0.56346876 0.58777746\n",
            "  0.48601487 0.74577358 0.38682592 0.17642486 0.73570218 0.21104137\n",
            "  0.47675633 0.         0.30653971 0.79585005 0.84327408 0.1352417\n",
            "  0.64618363 0.34997289 0.15411339 0.63053259 0.56514206 0.8404055\n",
            "  0.60547205 0.74507391 0.2436442  0.81282315 0.32011595 0.11994248\n",
            "  0.8342903  0.3346504  0.13154038 1.0378608  0.2726895  0.98849691\n",
            "  0.23451195 0.24207044 0.48337292 0.57288903 0.30979014 0.45862127\n",
            "  0.74170926 0.20148319 0.20692672 0.23074421 0.7202642  0.00309531\n",
            "  0.21172904 0.22208222 0.6720773  0.29594627 0.10498263 0.60707611\n",
            "  0.14969243 0.49698975 0.24943546 0.80230076 0.53307351 0.43839127\n",
            "  0.67999348 0.88157174 0.74274404 0.56325812 0.63690728 0.77228339\n",
            "  0.60167455 0.43063847 0.83489923 0.58043639 0.62545476 0.62610639\n",
            "  0.38230645 0.54928768 0.40025953 0.03984841 0.82079843 0.21021618\n",
            "  0.3875368  0.56048126 0.2953483  0.24718727 0.79886452 0.26660972\n",
            "  0.42717887 0.56699552 0.47245242 0.29553755 0.67898517 0.20495307\n",
            "  0.65238293 0.71878795 0.6951167  0.75364405 0.62548672 0.93949496\n",
            "  0.42505167 0.57800335 0.36802774 0.73985548]\n",
            " [0.09248063 0.54052981 0.74218963 0.65047627 0.43306609 0.41886631\n",
            "  0.18141954 0.44616379 0.18816654 0.48105778 0.44754548 0.47692657\n",
            "  0.18418529 0.30653971 0.         0.50938697 0.72901979 0.40572039\n",
            "  0.83748273 0.62710505 0.25677263 0.37870361 0.48321796 0.68307054\n",
            "  0.31066688 0.51839779 0.1406815  0.82777027 0.49173806 0.42438259\n",
            "  0.80504833 0.60273185 0.178247   0.99577734 0.20744755 0.92977458\n",
            "  0.21244844 0.41710154 0.54449307 0.5496501  0.16870763 0.24049161\n",
            "  0.63808217 0.47520698 0.34380685 0.16339343 0.60609056 0.30572919\n",
            "  0.46003698 0.10423372 0.601681   0.57466801 0.26615621 0.67989618\n",
            "  0.31428551 0.33227062 0.21779129 0.77433534 0.65805494 0.68995816\n",
            "  0.80608684 0.85057552 0.61674297 0.4012611  0.78333514 0.47553691\n",
            "  0.3355975  0.14001711 0.84088909 0.8321089  0.40115436 0.71896652\n",
            "  0.52791607 0.77454555 0.1154553  0.29013448 0.67471453 0.11717583\n",
            "  0.62782001 0.60625403 0.51006432 0.11581129 0.6248113  0.43678041\n",
            "  0.66224234 0.78468338 0.70748258 0.02791923 0.764632   0.1184446\n",
            "  0.65723464 0.47238295 0.80342167 0.74269076 0.32363807 0.88787837\n",
            "  0.59507248 0.28476066 0.07135318 0.64006573]\n",
            " [0.57197751 0.43217379 1.12633025 0.61770115 0.44682424 0.37542903\n",
            "  0.38024854 0.10757638 0.42549535 0.9715085  0.06197949 0.91113207\n",
            "  0.42986974 0.79585005 0.50938697 0.         0.58327209 0.85711115\n",
            "  1.125818   1.05190791 0.68556026 0.201211   0.5356024  0.46882098\n",
            "  0.20058585 0.23506374 0.55766228 0.87044943 0.84151127 0.91556005\n",
            "  0.78368558 1.01982451 0.68025852 0.90215459 0.5606111  0.82247785\n",
            "  0.597185   0.79818419 0.75657804 0.6477389  0.50368191 0.36117147\n",
            "  0.55472696 0.91643153 0.84992685 0.57621628 0.52038494 0.79591133\n",
            "  0.88340002 0.57420041 0.59682163 1.007249   0.72055287 0.85272582\n",
            "  0.82360082 0.39956189 0.58792722 0.76524862 0.90383108 1.07619339\n",
            "  1.01442606 0.81238731 0.50202016 0.39039185 1.02358652 0.07438514\n",
            "  0.20318419 0.37073642 0.86576528 1.20150964 0.25802289 0.90585562\n",
            "  0.83979881 1.11638765 0.47814769 0.78902997 0.48855606 0.5857166\n",
            "  1.01058946 0.77148601 0.89284724 0.54968567 0.40288221 0.94202662\n",
            "  1.03341403 1.11542617 1.07139435 0.50981831 0.92866749 0.62779187\n",
            "  0.74391011 0.17544292 0.98834559 0.77208928 0.20516441 0.80393065\n",
            "  0.91054693 0.22499953 0.43872511 0.56281329]\n",
            " [0.71270293 0.19385036 0.8923528  0.14694022 0.29767707 0.31582124\n",
            "  0.74982958 0.66054386 0.54088708 0.97127686 0.58331327 0.81599713\n",
            "  0.80318727 0.84327408 0.72901979 0.58327209 0.         0.80965753\n",
            "  0.77038285 0.89850202 0.68920793 0.4578001  0.27825343 0.12344552\n",
            "  0.61515834 0.34941007 0.64794231 0.34480216 0.65875034 0.93142737\n",
            "  0.23141272 0.86300617 0.80269099 0.31943725 0.58711856 0.24008583\n",
            "  0.61871768 0.67682965 0.4599377  0.3067624  0.58189881 0.49674778\n",
            "  0.10184652 0.8308187  1.00984911 0.64495925 0.12544413 0.84537178\n",
            "  0.78178962 0.70267163 0.18574639 0.87891243 0.7382916  0.45887176\n",
            "  0.95819173 0.39684737 0.60336958 0.22772687 0.56852596 0.85777974\n",
            "  0.60098396 0.24448119 0.11261923 0.32952899 0.64110618 0.64391391\n",
            "  0.50848129 0.63935066 0.32772842 0.93033307 0.39042234 0.50509068\n",
            "  0.61139256 0.82776917 0.79399246 0.86405981 0.0959471  0.70410798\n",
            "  0.80599607 0.41201378 0.73005281 0.66354411 0.18135103 1.09380699\n",
            "  0.80592651 0.81302248 0.82333692 0.70682581 0.49616326 0.8039392\n",
            "  0.31348624 0.41681105 0.55851573 0.26678156 0.66063197 0.22154144\n",
            "  0.6543822  0.60987855 0.6806571  0.10482166]\n",
            " [0.31499451 0.6770102  0.35367623 0.67644175 0.555128   0.59447552\n",
            "  0.58677165 0.82133136 0.43251223 0.16306668 0.79988959 0.07684246\n",
            "  0.58647833 0.1352417  0.40572039 0.85711115 0.80965753 0.\n",
            "  0.51380767 0.22345729 0.171551   0.67478828 0.53522043 0.82656016\n",
            "  0.67932873 0.76996543 0.30323744 0.72766245 0.20688662 0.13491327\n",
            "  0.7653362  0.20347415 0.24975158 0.96779118 0.29947331 0.92631457\n",
            "  0.26112158 0.14381222 0.39973783 0.51673065 0.35360031 0.50098214\n",
            "  0.70827134 0.07059062 0.33048391 0.28241256 0.69270145 0.13808169\n",
            "  0.07791003 0.3060533  0.62844276 0.1699471  0.14198408 0.50947858\n",
            "  0.27643366 0.51123992 0.27206802 0.73411116 0.42064451 0.30414852\n",
            "  0.56183464 0.81161457 0.71918482 0.56906115 0.51421344 0.84393693\n",
            "  0.65560993 0.50996028 0.75231572 0.4469714  0.65556723 0.52036948\n",
            "  0.27314719 0.4141363  0.51154208 0.17448181 0.80254469 0.2926665\n",
            "  0.2522951  0.47643586 0.16666118 0.31690695 0.79476886 0.37071165\n",
            "  0.2919621  0.43218053 0.33721113 0.38812707 0.57357791 0.32347112\n",
            "  0.57860821 0.75569575 0.58183308 0.68081673 0.70646296 0.87587794\n",
            "  0.30317287 0.65145343 0.45597729 0.70483761]\n",
            " [0.74996885 0.75916016 0.24234695 0.62974887 0.68889119 0.75891081\n",
            "  0.99593347 1.13635969 0.75325696 0.6148194  1.08494706 0.44541507\n",
            "  1.01697521 0.64618363 0.83748273 1.125818   0.77038285 0.51380767\n",
            "  0.         0.36950119 0.58941142 0.92513204 0.6088746  0.85705344\n",
            "  1.0088353  0.94285277 0.69855918 0.48519131 0.3477464  0.62390994\n",
            "  0.58972307 0.35632091 0.73501371 0.7393941  0.64319739 0.74117523\n",
            "  0.62724654 0.42757162 0.37069738 0.50631592 0.70118116 0.79151927\n",
            "  0.69928348 0.46036324 0.84340227 0.67488373 0.7106603  0.64919783\n",
            "  0.43590092 0.73626106 0.61018228 0.40318238 0.60177686 0.31264539\n",
            "  0.79017938 0.72727455 0.62507901 0.57205979 0.22403162 0.25689504\n",
            "  0.18405253 0.61804088 0.74325208 0.73977941 0.13067667 1.14497428\n",
            "  0.9364798  0.88241082 0.51497473 0.20924095 0.87037365 0.26539362\n",
            "  0.31146777 0.1324999  0.95292256 0.6860276  0.82284107 0.72478608\n",
            "  0.27442434 0.37598822 0.35147475 0.72258838 0.86714459 0.87251525\n",
            "  0.23602459 0.10509741 0.20167984 0.81161627 0.28353135 0.7992621\n",
            "  0.45787354 0.96815285 0.23118657 0.51663366 1.05088394 0.695206\n",
            "  0.24242803 0.98433173 0.85713902 0.69100233]\n",
            " [0.53529654 0.80439449 0.14894637 0.75365528 0.69319162 0.74680005\n",
            "  0.80720765 1.02701944 0.62812424 0.25771258 0.99782164 0.15020831\n",
            "  0.8091722  0.34997289 0.62710505 1.05190791 0.89850202 0.22345729\n",
            "  0.36950119 0.         0.37926409 0.85958127 0.6477242  0.94274308\n",
            "  0.88582236 0.93374778 0.51399476 0.7275633  0.24244948 0.282461\n",
            "  0.79637212 0.03582825 0.47259265 0.98679305 0.49308454 0.96204201\n",
            "  0.45917314 0.25682088 0.44139431 0.59174063 0.55290317 0.69077702\n",
            "  0.80282639 0.15289195 0.51375707 0.49110932 0.79668792 0.35234845\n",
            "  0.17114724 0.5252748  0.71300771 0.05408767 0.36103446 0.50054349\n",
            "  0.46872149 0.67643676 0.46634972 0.76858456 0.38292081 0.11400579\n",
            "  0.48395487 0.83804136 0.8272486  0.72196254 0.4234866  1.04668732\n",
            "  0.84872472 0.72250758 0.75626269 0.23928799 0.82844735 0.48778325\n",
            "  0.28779914 0.24263961 0.73463684 0.38568758 0.91379119 0.51187675\n",
            "  0.11122772 0.50408151 0.17329268 0.53106501 0.924832   0.52321169\n",
            "  0.13931925 0.26792187 0.16782688 0.60802127 0.5357631  0.54663937\n",
            "  0.61491284 0.93163164 0.51896328 0.71000463 0.9168562  0.91116709\n",
            "  0.26051516 0.85815171 0.67325109 0.79725476]\n",
            " [0.16491346 0.53525532 0.48625955 0.57001718 0.41101052 0.43971238\n",
            "  0.43202299 0.65133701 0.26126662 0.30417802 0.6284226  0.23084888\n",
            "  0.44090416 0.15411339 0.25677263 0.68556026 0.68920793 0.171551\n",
            "  0.58941142 0.37926409 0.         0.50470216 0.41115322 0.68774767\n",
            "  0.50944704 0.60639196 0.13479878 0.67660163 0.24172826 0.25432651\n",
            "  0.68851029 0.35173562 0.15763215 0.89147985 0.13054341 0.83926797\n",
            "  0.09119064 0.16276839 0.35340016 0.42434979 0.18215229 0.3305526\n",
            "  0.58769518 0.23342354 0.33796617 0.11239008 0.56615905 0.1561738\n",
            "  0.20849223 0.15254403 0.51935608 0.32952318 0.04920197 0.48550489\n",
            "  0.28139809 0.35135854 0.10388599 0.65640746 0.43309301 0.43390957\n",
            "  0.58398149 0.73593682 0.58880022 0.41471129 0.55115116 0.67316435\n",
            "  0.48420811 0.34332895 0.6966713  0.57554092 0.48940378 0.51322038\n",
            "  0.28865139 0.51879849 0.37062797 0.17690502 0.66744898 0.13976493\n",
            "  0.37120299 0.42805059 0.25341886 0.15223376 0.64825958 0.41206626\n",
            "  0.40547564 0.53004335 0.45077077 0.23421889 0.56422216 0.21189312\n",
            "  0.5109875  0.58768556 0.5906605  0.61045038 0.53848783 0.79095934\n",
            "  0.34922601 0.48160749 0.29524969 0.58593068]\n",
            " [0.4177999  0.27495596 0.92787117 0.45360084 0.25504849 0.18624653\n",
            "  0.31845843 0.22675577 0.24493464 0.80212563 0.16224582 0.72309291\n",
            "  0.37485187 0.63053259 0.37870361 0.201211   0.4578001  0.67478828\n",
            "  0.92513204 0.85958127 0.50470216 0.         0.34492639 0.36700738\n",
            "  0.15798731 0.14809762 0.38693224 0.69880451 0.64290459 0.74784214\n",
            "  0.62554175 0.82657637 0.52890153 0.77216833 0.37531593 0.69461749\n",
            "  0.41388637 0.60373668 0.5567642  0.45630869 0.32405831 0.17420108\n",
            "  0.40212947 0.72990927 0.71985742 0.40165501 0.36535236 0.63109394\n",
            "  0.69371413 0.41627643 0.42337523 0.81707323 0.54456249 0.65788828\n",
            "  0.68405128 0.19836424 0.40273689 0.60277505 0.70379671 0.87829701\n",
            "  0.81833757 0.66051792 0.35621251 0.19624462 0.82486875 0.2255706\n",
            "  0.05477525 0.24451491 0.69829511 1.00156465 0.07135754 0.71044795\n",
            "  0.63908644 0.91551436 0.39203716 0.6304123  0.37385694 0.42573029\n",
            "  0.81293057 0.57570406 0.69668067 0.38486262 0.29826866 0.81281097\n",
            "  0.83451394 0.91431051 0.87172213 0.36973714 0.73637536 0.49070791\n",
            "  0.55847695 0.09368092 0.79445797 0.59991442 0.20283411 0.66682426\n",
            "  0.70959367 0.15666519 0.30947944 0.40876293]\n",
            " [0.44982812 0.15950485 0.66952397 0.16872355 0.08988051 0.16038249\n",
            "  0.55074331 0.57117399 0.30136328 0.69537954 0.50608402 0.54863429\n",
            "  0.59674805 0.56514206 0.48321796 0.5356024  0.27825343 0.53522043\n",
            "  0.6088746  0.6477242  0.41115322 0.34492639 0.         0.29613701\n",
            "  0.47255329 0.33456337 0.38141922 0.36881085 0.40545502 0.65408018\n",
            "  0.32446056 0.61190743 0.53100635 0.51264549 0.31531759 0.44836665\n",
            "  0.34395139 0.40872938 0.2425725  0.11214713 0.3213453  0.28391992\n",
            "  0.17657367 0.56226073 0.7363233  0.37490225 0.15758068 0.56726815\n",
            "  0.51440468 0.4382827  0.11876229 0.62083001 0.46017115 0.31813009\n",
            "  0.68328721 0.17845041 0.32880635 0.29499693 0.38525795 0.62735324\n",
            "  0.48058119 0.36875505 0.18430815 0.14889178 0.49561626 0.57009666\n",
            "  0.37464563 0.42690224 0.374783   0.72547996 0.27874913 0.37162178\n",
            "  0.37169062 0.62820136 0.56850172 0.5866464  0.26924508 0.43770131\n",
            "  0.56814863 0.23879899 0.47478869 0.40008665 0.27874274 0.81819555\n",
            "  0.5769723  0.62034391 0.60392929 0.45786709 0.39309341 0.54078227\n",
            "  0.21493854 0.36671535 0.45290209 0.2734007  0.52048219 0.40507383\n",
            "  0.43016751 0.45600033 0.44932282 0.17482678]\n",
            " [0.68215652 0.15275374 0.9545766  0.229921   0.27693727 0.26581904\n",
            "  0.67632416 0.55284574 0.4990307  0.9836967  0.47510639 0.84408092\n",
            "  0.73166401 0.8404055  0.68307054 0.46882098 0.12344552 0.82656016\n",
            "  0.85705344 0.94274308 0.68774767 0.36700738 0.29613701 0.\n",
            "  0.52443281 0.24020384 0.62348221 0.46130158 0.70029453 0.93899218\n",
            "  0.35185805 0.90691611 0.78150984 0.43523792 0.57180977 0.35553835\n",
            "  0.60759835 0.70434336 0.51863625 0.36304237 0.55378786 0.44309585\n",
            "  0.15791831 0.85731764 0.98907681 0.62513135 0.14984816 0.84214833\n",
            "  0.80992108 0.67406224 0.24775955 0.91687132 0.73668336 0.54485272\n",
            "  0.94106565 0.35748879 0.59230122 0.34439749 0.64411959 0.9155597\n",
            "  0.69697356 0.3676557  0.11743879 0.28657606 0.73084826 0.533129\n",
            "  0.42076607 0.57655583 0.44665277 1.00169941 0.30685182 0.59492577\n",
            "  0.6617804  0.90069675 0.73287724 0.85605836 0.03475544 0.67779556\n",
            "  0.85900424 0.48537107 0.77026908 0.63513054 0.06942906 1.07714828\n",
            "  0.86423363 0.88870896 0.88690285 0.66397752 0.59378949 0.77142354\n",
            "  0.40135287 0.3106767  0.65729217 0.37554297 0.56726369 0.34275683\n",
            "  0.71386464 0.52335271 0.62668421 0.16641908]\n",
            " [0.37962101 0.42886958 0.9753781  0.60096279 0.38578129 0.32562118\n",
            "  0.18670181 0.14200393 0.26288436 0.78188705 0.13869257 0.7397243\n",
            "  0.24073726 0.60547205 0.31066688 0.20058585 0.61515834 0.67932873\n",
            "  1.0088353  0.88582236 0.50944704 0.15798731 0.47255329 0.52443281\n",
            "  0.         0.29548195 0.37609978 0.83805165 0.69517308 0.72538511\n",
            "  0.77338185 0.85588166 0.48490588 0.92756663 0.39438304 0.85066922\n",
            "  0.42671591 0.64030866 0.65283395 0.57867748 0.33344532 0.21743636\n",
            "  0.55493883 0.74286458 0.64949748 0.39724387 0.51801417 0.6052536\n",
            "  0.71488427 0.38364328 0.56588296 0.83790986 0.53890099 0.76878492\n",
            "  0.62423588 0.30016669 0.42031096 0.74877649 0.79548191 0.92369928\n",
            "  0.92366929 0.8106199  0.511459   0.32759539 0.92138698 0.16681278\n",
            "  0.10707681 0.17507331 0.8403701  1.05688212 0.22518632 0.81907819\n",
            "  0.70587228 0.9801123  0.28000663 0.59539034 0.53183989 0.39597707\n",
            "  0.8580567  0.68592144 0.73750833 0.36402439 0.45537819 0.74149053\n",
            "  0.88529303 0.98305713 0.92652925 0.31349015 0.85139403 0.42904329\n",
            "  0.68694127 0.22730194 0.90544235 0.74004188 0.04814523 0.8212489\n",
            "  0.77810642 0.02787663 0.24111404 0.56100486]\n",
            " [0.54585715 0.20392887 0.98229521 0.38747415 0.25571669 0.19021642\n",
            "  0.46605557 0.31284668 0.3613105  0.91004354 0.23515679 0.80824206\n",
            "  0.52246677 0.74507391 0.51839779 0.23506374 0.34941007 0.76996543\n",
            "  0.94285277 0.93374778 0.60639196 0.14809762 0.33456337 0.24020384\n",
            "  0.29548195 0.         0.50412276 0.64117968 0.70173895 0.85814774\n",
            "  0.5500748  0.89906103 0.65557818 0.66881144 0.47638207 0.58932397\n",
            "  0.51588315 0.6777975  0.57367891 0.44284481 0.43556204 0.29069924\n",
            "  0.32145406 0.817552   0.85396021 0.51454178 0.28834333 0.74604464\n",
            "  0.7763853  0.54206285 0.37244678 0.89650749 0.65085593 0.64980424\n",
            "  0.81433982 0.25959464 0.50253955 0.53291334 0.71889421 0.93575873\n",
            "  0.81226449 0.5776702  0.26791774 0.21368432 0.82997652 0.29462372\n",
            "  0.20190176 0.38933326 0.63461383 1.04717747 0.1207057  0.70342746\n",
            "  0.68425119 0.95385748 0.5396016  0.75019719 0.25606615 0.54981393\n",
            "  0.8723208  0.57265504 0.76346885 0.50701002 0.17161282 0.94633018\n",
            "  0.88819839 0.94845706 0.92067977 0.50628617 0.71929045 0.62539825\n",
            "  0.52742594 0.07116598 0.78132678 0.54395872 0.33430045 0.56927137\n",
            "  0.75009189 0.30008473 0.45153898 0.3298188 ]\n",
            " [0.0705266  0.47242197 0.61696695 0.5498267  0.35222904 0.36041929\n",
            "  0.30270091 0.51810371 0.14357843 0.41606468 0.49901918 0.36557539\n",
            "  0.31869373 0.2436442  0.1406815  0.55766228 0.64794231 0.30323744\n",
            "  0.69855918 0.51399476 0.13479878 0.38693224 0.38141922 0.62348221\n",
            "  0.37609978 0.50412276 0.         0.70352778 0.3550596  0.36120292\n",
            "  0.69249924 0.48604919 0.15812989 0.88967949 0.07262149 0.82871657\n",
            "  0.0718465  0.28437607 0.40733605 0.42977128 0.07059507 0.21534211\n",
            "  0.55036394 0.36763369 0.36561264 0.02424086 0.52251607 0.24426227\n",
            "  0.34304644 0.05756632 0.4991983  0.46429646 0.16336645 0.54329714\n",
            "  0.31834553 0.26756017 0.07755906 0.66091614 0.51749283 0.56456517\n",
            "  0.66590696 0.73921847 0.53919032 0.33773949 0.6426542  0.54110235\n",
            "  0.35970079 0.20853445 0.7189922  0.7043851  0.38374189 0.58059342\n",
            "  0.38805778 0.64096862 0.25530642 0.24610293 0.60874873 0.05639327\n",
            "  0.50051512 0.47239243 0.38035719 0.02511669 0.57424821 0.45410821\n",
            "  0.53271184 0.64958878 0.57705933 0.11371659 0.62736729 0.15972958\n",
            "  0.53265718 0.47533021 0.66429601 0.62380403 0.40393881 0.78380747\n",
            "  0.4561966  0.34822354 0.16360276 0.55067827]\n",
            " [0.77384265 0.43856927 0.66949409 0.25370863 0.45246771 0.51438081\n",
            "  0.91690284 0.92420651 0.65968589 0.88500436 0.85291684 0.70098973\n",
            "  0.96044533 0.81282315 0.82777027 0.87044943 0.34480216 0.72766245\n",
            "  0.48519131 0.7275633  0.67660163 0.69880451 0.36881085 0.46130158\n",
            "  0.83805165 0.64117968 0.70352778 0.         0.52778572 0.86248546\n",
            "  0.11823717 0.69644296 0.82716309 0.26202097 0.63096212 0.25598578\n",
            "  0.64511628 0.58445312 0.33016017 0.27900036 0.65911884 0.65162486\n",
            "  0.32276619 0.71861872 1.01298977 0.68909893 0.35333636 0.8156633\n",
            "  0.67104709 0.76022664 0.275686   0.7281506  0.71821536 0.22774917\n",
            "  0.95555549 0.54721348 0.63278498 0.11721419 0.34525123 0.65084659\n",
            "  0.30130806 0.13467024 0.37748276 0.51047369 0.35754534 0.91729476\n",
            "  0.73607983 0.79177242 0.03013534 0.67867558 0.62812372 0.2439371\n",
            "  0.46265717 0.57863249 0.9248511  0.84547811 0.42797461 0.7554592\n",
            "  0.6184732  0.25275848 0.59096708 0.72666895 0.50143121 1.07939939\n",
            "  0.60248607 0.55690999 0.60239263 0.80049552 0.20598303 0.85860377\n",
            "  0.17094166 0.69500668 0.2541839  0.09894894 0.8861867  0.2108654\n",
            "  0.46805504 0.8230736  0.80590048 0.31386973]\n",
            " [0.40286174 0.56284317 0.28497033 0.51562358 0.45470695 0.51233217\n",
            "  0.65666288 0.83168019 0.43241092 0.35792194 0.79203109 0.17343631\n",
            "  0.67346629 0.32011595 0.49173806 0.84151127 0.65875034 0.20688662\n",
            "  0.3477464  0.24244948 0.24172826 0.64290459 0.40545502 0.70029453\n",
            "  0.69517308 0.70173895 0.3550596  0.52778572 0.         0.34045458\n",
            "  0.57749094 0.20662196 0.39081762 0.77638076 0.30760541 0.74204858\n",
            "  0.28546253 0.08183918 0.21028353 0.35256354 0.36855469 0.48457298\n",
            "  0.5616765  0.19094589 0.52657516 0.33095876 0.55453195 0.32320921\n",
            "  0.14337475 0.38935308 0.47300397 0.22028975 0.25750542 0.30484856\n",
            "  0.46972555 0.450269   0.28585213 0.54756579 0.21461591 0.23573638\n",
            "  0.35989347 0.62213463 0.58491942 0.48819513 0.31806531 0.84646368\n",
            "  0.64061655 0.55041798 0.55387429 0.36203849 0.60327822 0.31350786\n",
            "  0.06657713 0.28783653 0.60711628 0.35885106 0.6714298  0.37760016\n",
            "  0.17102992 0.28235795 0.07134037 0.37823303 0.68317449 0.57562383\n",
            "  0.19194658 0.29486532 0.23153074 0.46659971 0.36670566 0.45244478\n",
            "  0.3908088  0.70669028 0.37654454 0.49116182 0.73266076 0.69103093\n",
            "  0.10867695 0.66868706 0.51710346 0.55639463]\n",
            " [0.34580624 0.78716273 0.43011527 0.80260834 0.66326376 0.6940334\n",
            "  0.6019402  0.86554902 0.50322845 0.05672802 0.85552955 0.18171057\n",
            "  0.58888795 0.11994248 0.42438259 0.91556005 0.93142737 0.13491327\n",
            "  0.62390994 0.282461   0.25432651 0.74784214 0.65408018 0.93899218\n",
            "  0.72538511 0.85814774 0.36120292 0.86248546 0.34045458 0.\n",
            "  0.8981798  0.27857164 0.24673289 1.10109802 0.38218725 1.05793654\n",
            "  0.3428502  0.27820852 0.5340304  0.6455355  0.42494013 0.57481601\n",
            "  0.82960863 0.1651591  0.23138964 0.34639348 0.81137194 0.1201337\n",
            "  0.2015398  0.3420173  0.75352521 0.23262979 0.20765702 0.64414898\n",
            "  0.18918696 0.60537856 0.35684585 0.86674669 0.55245918 0.3877938\n",
            "  0.68988503 0.94471958 0.83609414 0.66900892 0.63916436 0.89219786\n",
            "  0.72044346 0.55049751 0.88700019 0.52166378 0.73953568 0.65374519\n",
            "  0.406986   0.51096364 0.51235845 0.1358823  0.91716512 0.33008895\n",
            "  0.3508518  0.61095113 0.29229623 0.3663116  0.90173129 0.24860992\n",
            "  0.39065142 0.53269635 0.43222662 0.41469612 0.7068746  0.31677863\n",
            "  0.71196309 0.83484333 0.71242223 0.81422259 0.74497132 1.0077617\n",
            "  0.43126322 0.69793278 0.48739247 0.82682918]\n",
            " [0.76278056 0.35393984 0.75531791 0.17244422 0.3957635  0.44815247\n",
            "  0.8724866  0.84641193 0.62571137 0.9270215  0.77229647 0.74971328\n",
            "  0.92002266 0.8342903  0.80504833 0.78368558 0.23141272 0.7653362\n",
            "  0.58972307 0.79637212 0.68851029 0.62554175 0.32446056 0.35185805\n",
            "  0.77338185 0.5500748  0.69249924 0.11823717 0.57749094 0.8981798\n",
            "  0.         0.76321114 0.82991463 0.20362246 0.62159061 0.16569927\n",
            "  0.6423312  0.62193624 0.36821147 0.26555928 0.63924314 0.60533204\n",
            "  0.22895915 0.76672562 1.02614339 0.68158759 0.26382351 0.83692917\n",
            "  0.71758035 0.75006179 0.21117046 0.78995514 0.73390892 0.30199747\n",
            "  0.96988385 0.49808057 0.62850698 0.0321086  0.42337752 0.73092664\n",
            "  0.40817489 0.04743222 0.2821779  0.4495235  0.45960206 0.83594712\n",
            "  0.66802936 0.75006838 0.09710289 0.77423175 0.55418812 0.3331309\n",
            "  0.51653648 0.67219659 0.89293568 0.86346356 0.31995536 0.74730878\n",
            "  0.6911725  0.29553    0.64562366 0.71370759 0.39857052 1.09937125\n",
            "  0.68051696 0.65255932 0.68657247 0.77891951 0.30621848 0.85159342\n",
            "  0.18726297 0.60933775 0.36182124 0.08664336 0.82129203 0.11479844\n",
            "  0.53646155 0.76145926 0.77369963 0.22094164]\n",
            " [0.5105088  0.76864811 0.15351631 0.71832926 0.65773496 0.71176862\n",
            "  0.78190564 0.99673592 0.59693938 0.26080782 0.96623865 0.12737993\n",
            "  0.78572799 0.3346504  0.60273185 1.01982451 0.86300617 0.20347415\n",
            "  0.35632091 0.03582825 0.35173562 0.82657637 0.61190743 0.90691611\n",
            "  0.85588166 0.89906103 0.48604919 0.69644296 0.20662196 0.27857164\n",
            "  0.76321114 0.         0.45314757 0.95483925 0.46225513 0.92890967\n",
            "  0.42920722 0.22307557 0.4064587  0.55624659 0.52256582 0.658656\n",
            "  0.76715836 0.13362595 0.50823302 0.46282395 0.76090099 0.33720253\n",
            "  0.14337296 0.49998577 0.6774575  0.04734747 0.3367069  0.46898406\n",
            "  0.46070043 0.64220239 0.4357931  0.73514989 0.35277088 0.10923366\n",
            "  0.45987605 0.80527111 0.79143998 0.68699076 0.40064848 1.01583163\n",
            "  0.81668241 0.69430375 0.7249118  0.24670604 0.79446365 0.45826414\n",
            "  0.25271153 0.23475979 0.7118759  0.37182226 0.87797862 0.48663653\n",
            "  0.08656109 0.47009761 0.1376073  0.50393211 0.88907903 0.52405856\n",
            "  0.1209541  0.25831522 0.15680323 0.58279475 0.50717383 0.52660853\n",
            "  0.58093682 0.89774643 0.49317429 0.67673188 0.88774993 0.87797659\n",
            "  0.22853326 0.82829629 0.64669096 0.76161962]\n",
            " [0.11111588 0.63015301 0.60165495 0.69748205 0.50897257 0.51845995\n",
            "  0.35537855 0.62293915 0.29505924 0.30326995 0.61903196 0.32595406\n",
            "  0.34523758 0.13154038 0.178247   0.68025852 0.80269099 0.24975158\n",
            "  0.73501371 0.47259265 0.15763215 0.52890153 0.53100635 0.78150984\n",
            "  0.48490588 0.65557818 0.15812989 0.82716309 0.39081762 0.24673289\n",
            "  0.82991463 0.45314757 0.         1.03079257 0.21597658 0.97371465\n",
            "  0.18855056 0.30910985 0.50895326 0.56438188 0.22842783 0.36488344\n",
            "  0.70370105 0.32016571 0.20787038 0.15783383 0.67731347 0.13025577\n",
            "  0.31732091 0.11353738 0.64646311 0.41866964 0.13346816 0.64232552\n",
            "  0.16053038 0.42560402 0.2031553  0.79789667 0.58985633 0.55093814\n",
            "  0.74061703 0.87721675 0.69531069 0.49586649 0.70576959 0.65118877\n",
            "  0.49375837 0.31021678 0.84573884 0.69443803 0.53488932 0.67081544\n",
            "  0.44322778 0.65170957 0.2687752  0.11188892 0.76635487 0.10621596\n",
            "  0.4941967  0.58214578 0.38689786 0.14955392 0.73227098 0.29601653\n",
            "  0.53216183 0.66633146 0.57814067 0.17144301 0.72168056 0.07442997\n",
            "  0.65878019 0.6206374  0.74815362 0.75561897 0.50105889 0.9271273\n",
            "  0.49948969 0.45805614 0.24415022 0.70343205]\n",
            " [0.95944926 0.4988014  0.9314488  0.34593604 0.57121617 0.61133609\n",
            "  1.04677894 0.97973995 0.81178748 1.12887429 0.90263824 0.94947206\n",
            "  1.09723546 1.0378608  0.99577734 0.90215459 0.31943725 0.96779118\n",
            "  0.7393941  0.98679305 0.89147985 0.77216833 0.51264549 0.43523792\n",
            "  0.92756663 0.66881144 0.88967949 0.26202097 0.77638076 1.10109802\n",
            "  0.20362246 0.95483925 1.03079257 0.         0.8199335  0.07974086\n",
            "  0.8425669  0.82413479 0.56904114 0.4674839  0.8331111  0.78260183\n",
            "  0.37452205 0.96671569 1.22875678 0.88012134 0.41116341 1.04049134\n",
            "  0.91792025 0.94717032 0.39409962 0.98441764 0.93720001 0.4863614\n",
            "  1.17273572 0.67591052 0.82840827 0.23556437 0.60606658 0.91265516\n",
            "  0.55598176 0.15654474 0.41616373 0.6183338  0.61534876 0.96335019\n",
            "  0.8204955  0.92841392 0.23224706 0.93813821 0.7025936  0.50593446\n",
            "  0.7136034  0.83922258 1.07702525 1.06681669 0.41360259 0.94519449\n",
            "  0.87874366 0.49418775 0.84294925 0.90995268 0.49932948 1.30273418\n",
            "  0.86395736 0.81677541 0.86441346 0.97051233 0.46675268 1.04932978\n",
            "  0.38919474 0.73610987 0.50921937 0.28697588 0.97418325 0.1087438\n",
            "  0.72639273 0.91968465 0.9588602  0.3695176 ]\n",
            " [0.14289725 0.41925868 0.58218615 0.48263058 0.296051   0.3152477\n",
            "  0.35274103 0.53464122 0.13530492 0.43366377 0.50525417 0.35052188\n",
            "  0.37635297 0.2726895  0.20744755 0.5606111  0.58711856 0.29947331\n",
            "  0.64319739 0.49308454 0.13054341 0.37531593 0.31531759 0.57180977\n",
            "  0.39438304 0.47638207 0.07262149 0.63096212 0.30760541 0.38218725\n",
            "  0.62159061 0.46225513 0.21597658 0.8199335  0.         0.76039358\n",
            "  0.03951398 0.246451   0.33715933 0.35794504 0.06154234 0.20168995\n",
            "  0.4877896  0.35604294 0.42273057 0.06020107 0.46186722 0.27406045\n",
            "  0.32321492 0.12942629 0.43171909 0.44703248 0.17459332 0.47279148\n",
            "  0.37159418 0.22433701 0.02747085 0.58987763 0.45319153 0.53020475\n",
            "  0.59978559 0.66849071 0.48082778 0.29092592 0.57970163 0.55363729\n",
            "  0.35785442 0.24281319 0.6465888  0.66595786 0.35891851 0.51152207\n",
            "  0.33176919 0.59543331 0.31889239 0.28477387 0.55447704 0.12577305\n",
            "  0.46479663 0.40061605 0.3439022  0.09647373 0.52733414 0.50760336\n",
            "  0.49374085 0.60168882 0.5364203  0.17960219 0.55733263 0.23003593\n",
            "  0.46012151 0.45724463 0.59611879 0.55182996 0.42858546 0.71476294\n",
            "  0.4023032  0.36703356 0.21436504 0.48746418]\n",
            " [0.89778434 0.42248869 0.91815163 0.27975186 0.50100088 0.53742153\n",
            "  0.97390092 0.90059822 0.74403807 1.08873213 0.82339733 0.91358214\n",
            "  1.0251412  0.98849691 0.92977458 0.82247785 0.24008583 0.92631457\n",
            "  0.74117523 0.96204201 0.83926797 0.69461749 0.44836665 0.35553835\n",
            "  0.85066922 0.58932397 0.82871657 0.25598578 0.74204858 1.05793654\n",
            "  0.16569927 0.92890967 0.97371465 0.07974086 0.76039358 0.\n",
            "  0.78516483 0.78362416 0.53210765 0.41560849 0.76971039 0.7115208\n",
            "  0.3003269  0.93042278 1.17471343 0.82053699 0.33647915 0.99102183\n",
            "  0.88108695 0.88594123 0.32977179 0.95550296 0.88612442 0.46595305\n",
            "  1.11947902 0.60562246 0.77062442 0.19456675 0.58735728 0.89524364\n",
            "  0.55727627 0.12588606 0.33933302 0.54574151 0.61314558 0.88391331\n",
            "  0.74360454 0.85713279 0.22629911 0.93274521 0.62551343 0.49323669\n",
            "  0.68179138 0.83167429 1.00751498 1.01574951 0.33392234 0.88471515\n",
            "  0.85655009 0.46073012 0.8106826  0.84808711 0.41962631 1.25132888\n",
            "  0.84516163 0.81085434 0.84980107 0.90510325 0.46049245 0.9884021\n",
            "  0.35124055 0.65688815 0.510141   0.25225764 0.89700224 0.05105783\n",
            "  0.70201598 0.84346287 0.89013593 0.29603216]\n",
            " [0.13440266 0.45486972 0.55368468 0.50933921 0.33102652 0.35331078\n",
            "  0.37120218 0.56785301 0.17178254 0.39417079 0.54104772 0.31457646\n",
            "  0.38973409 0.23451195 0.21244844 0.597185   0.61871768 0.26112158\n",
            "  0.62724654 0.45917314 0.09119064 0.41388637 0.34395139 0.60759835\n",
            "  0.42671591 0.51588315 0.0718465  0.64511628 0.28546253 0.3428502\n",
            "  0.6423312  0.42920722 0.18855056 0.8425669  0.03951398 0.78516483\n",
            "  0.         0.21841913 0.33982954 0.37709481 0.09403131 0.23989955\n",
            "  0.51849231 0.31930545 0.39237589 0.04951996 0.4938895  0.23599548\n",
            "  0.28845697 0.12001424 0.45829764 0.41195496 0.13520377 0.47585939\n",
            "  0.33962475 0.26306197 0.01540427 0.6103908  0.44609957 0.50143314\n",
            "  0.59497381 0.68953249 0.51405171 0.32874866 0.57095791 0.58798743\n",
            "  0.39492814 0.26846255 0.6621772  0.63928897 0.39840312 0.51149408\n",
            "  0.31641777 0.57258644 0.32714653 0.24847438 0.58935703 0.11257427\n",
            "  0.43652346 0.40762317 0.31563493 0.09664519 0.56455113 0.4750906\n",
            "  0.46711366 0.58032252 0.51072962 0.18556309 0.55918175 0.21370172\n",
            "  0.47505733 0.4964952  0.59441733 0.56971345 0.4589571  0.73862163\n",
            "  0.38502058 0.39910039 0.23164471 0.51771084]\n",
            " [0.32650696 0.55939079 0.33580005 0.53939923 0.44277059 0.49243403\n",
            "  0.58706266 0.77963249 0.37842371 0.30516828 0.74567164 0.1399407\n",
            "  0.60040555 0.24207044 0.41710154 0.79818419 0.67682965 0.14381222\n",
            "  0.42757162 0.25682088 0.16276839 0.60373668 0.40872938 0.70434336\n",
            "  0.64030866 0.6777975  0.28437607 0.58445312 0.08183918 0.27820852\n",
            "  0.62193624 0.22307557 0.30910985 0.82413479 0.246451   0.78362416\n",
            "  0.21841913 0.         0.25593903 0.377557   0.30794196 0.43733474\n",
            "  0.57657827 0.15409588 0.44899687 0.26014423 0.56432613 0.24514188\n",
            "  0.10568561 0.31347348 0.49292335 0.21907949 0.17572045 0.36923141\n",
            "  0.39165543 0.41976576 0.22179356 0.5908458  0.29113107 0.28376049\n",
            "  0.43916101 0.66806722 0.59267454 0.46732218 0.39928418 0.79702848\n",
            "  0.59529098 0.48679905 0.60880904 0.42088187 0.57162819 0.38484507\n",
            "  0.14037529 0.35751672 0.5319618  0.27995753 0.67797446 0.30120105\n",
            "  0.21844405 0.33274884 0.09748438 0.30619992 0.67939643 0.50287363\n",
            "  0.24876244 0.36776088 0.29275037 0.39299697 0.4379269  0.37172122\n",
            "  0.43500731 0.67481745 0.45309546 0.53716409 0.67503641 0.73303245\n",
            "  0.19047937 0.613133   0.44790769 0.57240307]\n",
            " [0.47410726 0.3994258  0.43613428 0.31363659 0.31864579 0.38827849\n",
            "  0.6727907  0.7733112  0.41314995 0.55993904 0.71794884 0.38156658\n",
            "  0.70521678 0.48337292 0.54449307 0.75657804 0.4599377  0.39973783\n",
            "  0.37069738 0.44139431 0.35340016 0.5567642  0.2425725  0.51863625\n",
            "  0.65283395 0.57367891 0.40733605 0.33016017 0.21028353 0.5340304\n",
            "  0.36821147 0.4064587  0.50895326 0.56904114 0.33715933 0.53210765\n",
            "  0.33982954 0.25593903 0.         0.15607407 0.38218212 0.43695776\n",
            "  0.36865042 0.39852767 0.68569737 0.38825416 0.36889464 0.48625433\n",
            "  0.34937205 0.45976266 0.27657546 0.4275856  0.39173929 0.13605565\n",
            "  0.62799924 0.36065337 0.33053387 0.3378421  0.14732702 0.3987886\n",
            "  0.2727733  0.41358794 0.40119907 0.36911184 0.26934816 0.77932153\n",
            "  0.5721402  0.54995766 0.35354709 0.48526412 0.50009246 0.1755262\n",
            "  0.15382955 0.38643998 0.65396949 0.51696685 0.48682441 0.45228378\n",
            "  0.34607207 0.07740618 0.28008254 0.43224431 0.51485299 0.74974327\n",
            "  0.34706106 0.37786743 0.36826876 0.51659934 0.22017533 0.5504271\n",
            "  0.18102673 0.59745581 0.26177666 0.28242374 0.69755609 0.48114276\n",
            "  0.19574395 0.63031759 0.54207182 0.36211053]\n",
            " [0.50028948 0.25285161 0.59217197 0.16324248 0.20161943 0.27250446\n",
            "  0.64063422 0.68198951 0.38128472 0.67979567 0.61786292 0.51434203\n",
            "  0.68266075 0.57288903 0.5496501  0.6477389  0.3067624  0.51673065\n",
            "  0.50631592 0.59174063 0.42434979 0.45630869 0.11214713 0.36304237\n",
            "  0.57867748 0.44284481 0.42977128 0.27900036 0.35256354 0.6455355\n",
            "  0.26555928 0.55624659 0.56438188 0.4674839  0.35794504 0.41560849\n",
            "  0.37709481 0.377557   0.15607407 0.         0.381322   0.37870533\n",
            "  0.21288097 0.52998581 0.7612875  0.41753786 0.21319587 0.57541343\n",
            "  0.4804715  0.48716361 0.12147761 0.57285328 0.47073316 0.20713562\n",
            "  0.705379   0.27939154 0.36348746 0.23352093 0.28566251 0.55463982\n",
            "  0.36972295 0.31290777 0.24569686 0.26006521 0.38826636 0.68173538\n",
            "  0.4838255  0.51503349 0.29123907 0.63902316 0.39080268 0.26076206\n",
            "  0.30488805 0.53863131 0.64585977 0.60041119 0.33091406 0.48366082\n",
            "  0.50061194 0.13092737 0.42390327 0.45192656 0.36321068 0.83619151\n",
            "  0.50298361 0.52784333 0.52413795 0.5226048  0.28094632 0.58782221\n",
            "  0.1115096  0.47821951 0.3409497  0.19409444 0.62618998 0.36678966\n",
            "  0.35180139 0.56049261 0.52697288 0.20661322]\n",
            " [0.13080449 0.4033559  0.64370628 0.49001063 0.28481048 0.29003956\n",
            "  0.29604311 0.47418751 0.07935855 0.4785552  0.44716517 0.40859444\n",
            "  0.3238552  0.30979014 0.16870763 0.50368191 0.58189881 0.35360031\n",
            "  0.70118116 0.55290317 0.18215229 0.32405831 0.3213453  0.55378786\n",
            "  0.33344532 0.43556204 0.07059507 0.65911884 0.36855469 0.42494013\n",
            "  0.63924314 0.52256582 0.22842783 0.8331111  0.06154234 0.76971039\n",
            "  0.09403131 0.30794196 0.38218212 0.381322   0.         0.15013138\n",
            "  0.48581646 0.41314027 0.43542132 0.07905063 0.45670338 0.31067349\n",
            "  0.38238288 0.12111192 0.44003307 0.50595792 0.22050737 0.51601954\n",
            "  0.38881637 0.19719154 0.0868673  0.60815647 0.50586441 0.59170238\n",
            "  0.64997054 0.68531124 0.47201616 0.26761734 0.63314035 0.4939978\n",
            "  0.30205583 0.1822587  0.67250695 0.72745898 0.31568801 0.55767052\n",
            "  0.390211   0.65628602 0.27250192 0.31509648 0.53977062 0.12403455\n",
            "  0.52632016 0.44012923 0.40540892 0.08191038 0.5038435  0.52444136\n",
            "  0.55525549 0.66209438 0.5978457  0.14138051 0.60131026 0.2220913\n",
            "  0.48853268 0.40991216 0.64347809 0.57481721 0.36712072 0.72610257\n",
            "  0.4613934  0.30597702 0.16048888 0.48664431]\n",
            " [0.25550642 0.3044409  0.76816256 0.43850967 0.21156115 0.18160527\n",
            "  0.26723605 0.34811854 0.07180471 0.62864562 0.30848733 0.55124876\n",
            "  0.31523536 0.45862127 0.24049161 0.36117147 0.49674778 0.50098214\n",
            "  0.79151927 0.69077702 0.3305526  0.17420108 0.28391992 0.44309585\n",
            "  0.21743636 0.29069924 0.21534211 0.65162486 0.48457298 0.57481601\n",
            "  0.60533204 0.658656   0.36488344 0.78260183 0.20168995 0.7115208\n",
            "  0.23989955 0.43733474 0.43695776 0.37870533 0.15013138 0.\n",
            "  0.41261526 0.5573749  0.56493126 0.22843578 0.37807214 0.45934376\n",
            "  0.52279847 0.25138319 0.39445542 0.646569   0.37052135 0.55726872\n",
            "  0.52394454 0.1073644  0.22915932 0.57707766 0.57837362 0.7173467\n",
            "  0.70900033 0.64767706 0.38420266 0.16756992 0.70467318 0.36189215\n",
            "  0.15803927 0.14581817 0.65858648 0.84644049 0.17000589 0.60614621\n",
            "  0.49051278 0.76622084 0.29756242 0.46105256 0.43617967 0.25916019\n",
            "  0.65159183 0.47495053 0.53272417 0.21653364 0.38432462 0.65680096\n",
            "  0.67624945 0.76803924 0.71592023 0.22317908 0.64131806 0.33799308\n",
            "  0.48993016 0.26018714 0.69299307 0.55723616 0.26088806 0.67386253\n",
            "  0.56260723 0.19373832 0.18468825 0.4160485 ]\n",
            " [0.61642994 0.12730448 0.80425792 0.07402075 0.20508783 0.23712563\n",
            "  0.67361134 0.61919707 0.45026134 0.86966686 0.54428889 0.71609515\n",
            "  0.72510067 0.74170926 0.63808217 0.55472696 0.10184652 0.70827134\n",
            "  0.69928348 0.80282639 0.58769518 0.40212947 0.17657367 0.15791831\n",
            "  0.55493883 0.32145406 0.55036394 0.32276619 0.5616765  0.82960863\n",
            "  0.22895915 0.76715836 0.70370105 0.37452205 0.4877896  0.3003269\n",
            "  0.51849231 0.57657827 0.36865042 0.21288097 0.48581646 0.41261526\n",
            "  0.         0.73066462 0.91032309 0.54628509 0.03692466 0.74382904\n",
            "  0.68184118 0.60589888 0.09246373 0.78132576 0.63673423 0.38695863\n",
            "  0.85811437 0.30831544 0.50319528 0.21162999 0.48804301 0.76741579\n",
            "  0.53968259 0.2596735  0.05471708 0.24581937 0.5729313  0.6076252\n",
            "  0.44811793 0.55775498 0.31401501 0.8476036  0.33129364 0.43704619\n",
            "  0.51718447 0.74592298 0.709773   0.76290562 0.12356319 0.6067058\n",
            "  0.71340527 0.32933709 0.63278841 0.56694462 0.18146099 0.99347973\n",
            "  0.71570868 0.73306127 0.73583288 0.61480762 0.43713551 0.70779558\n",
            "  0.24361108 0.38050751 0.50077001 0.22889917 0.60214093 0.26689989\n",
            "  0.56434463 0.54591411 0.59380273 0.00913068]\n",
            " [0.38390144 0.71082629 0.28551515 0.69252379 0.5918636  0.63688916\n",
            "  0.65590328 0.88473105 0.49093955 0.16995913 0.8603027  0.01786679\n",
            "  0.656621   0.20148319 0.47520698 0.91643153 0.8308187  0.07059062\n",
            "  0.46036324 0.15289195 0.23342354 0.72990927 0.56226073 0.85731764\n",
            "  0.74286458 0.817552   0.36763369 0.71861872 0.19094589 0.1651591\n",
            "  0.76672562 0.13362595 0.32016571 0.96671569 0.35604294 0.93042278\n",
            "  0.31930545 0.15409588 0.39852767 0.52998581 0.41314027 0.5573749\n",
            "  0.73066462 0.         0.38474266 0.34574586 0.71827933 0.20410995\n",
            "  0.04960426 0.37442825 0.64658101 0.09959265 0.20983994 0.49436131\n",
            "  0.33383692 0.55795753 0.32863216 0.73634124 0.39419803 0.23731454\n",
            "  0.52692699 0.81188872 0.74640822 0.61150474 0.47482542 0.90624086\n",
            "  0.71387509 0.57569133 0.74480956 0.37895821 0.7060847  0.49809842\n",
            "  0.2561557  0.35288835 0.58187923 0.23934179 0.8314367  0.36101575\n",
            "  0.19058424 0.47253004 0.13153204 0.38292528 0.83026511 0.41313794\n",
            "  0.23074317 0.37278788 0.27467299 0.45690944 0.55071072 0.39400566\n",
            "  0.57954928 0.80773376 0.55160589 0.68074845 0.77157086 0.87952037\n",
            "  0.26970106 0.71502843 0.52365278 0.72645583]\n",
            " [0.31027319 0.83794621 0.66083285 0.90112161 0.71682116 0.72524595\n",
            "  0.48578761 0.7773326  0.49769827 0.26682992 0.78795026 0.39861325\n",
            "  0.45379969 0.20692672 0.34380685 0.84992685 1.00984911 0.33048391\n",
            "  0.84340227 0.51375707 0.33796617 0.71985742 0.7363233  0.98907681\n",
            "  0.64949748 0.85396021 0.36561264 1.01298977 0.52657516 0.23138964\n",
            "  1.02614339 0.50823302 0.20787038 1.22875678 0.42273057 1.17471343\n",
            "  0.39237589 0.44899687 0.68569737 0.7612875  0.43542132 0.56493126\n",
            "  0.91032309 0.38474266 0.         0.36553916 0.88457712 0.20385508\n",
            "  0.40816308 0.3165211  0.85009108 0.46317848 0.29477817 0.81232145\n",
            "  0.05780292 0.63248472 0.40752394 0.9940348  0.73996485 0.617085\n",
            "  0.88642525 1.07357554 0.9030009  0.70303502 0.84209578 0.80958067\n",
            "  0.67890343 0.48364888 1.03380365 0.75281106 0.73392992 0.83269114\n",
            "  0.58921066 0.73724177 0.38446843 0.16983791 0.9741913  0.31165832\n",
            "  0.57521222 0.76210129 0.49665426 0.35478371 0.93886686 0.09304269\n",
            "  0.61536915 0.75751492 0.65870399 0.35016621 0.8854581  0.22919554\n",
            "  0.84873538 0.81321636 0.90202771 0.94841498 0.65458242 1.12709379\n",
            "  0.63013279 0.62505441 0.41508837 0.90978136]\n",
            " [0.0860654  0.47321056 0.59296152 0.5425618  0.35135486 0.36433788\n",
            "  0.32694013 0.53919785 0.15684809 0.40047074 0.51816604 0.34319549\n",
            "  0.34263852 0.23074421 0.16339343 0.57621628 0.64495925 0.28241256\n",
            "  0.67488373 0.49110932 0.11239008 0.40165501 0.37490225 0.62513135\n",
            "  0.39724387 0.51454178 0.02424086 0.68909893 0.33095876 0.34639348\n",
            "  0.68158759 0.46282395 0.15783383 0.88012134 0.06020107 0.82053699\n",
            "  0.04951996 0.26014423 0.38825416 0.41753786 0.07905063 0.22843578\n",
            "  0.54628509 0.34574586 0.36553916 0.         0.51955297 0.23162286\n",
            "  0.32003446 0.07188341 0.49169478 0.4417998  0.14442552 0.52430831\n",
            "  0.31602739 0.27178134 0.05779384 0.64983463 0.4955884  0.54056562\n",
            "  0.64449126 0.7285354  0.53749467 0.3409251  0.62029409 0.56152465\n",
            "  0.37673591 0.23149065 0.70528224 0.6802384  0.39473667 0.56058715\n",
            "  0.36468319 0.61674239 0.27846886 0.23676716 0.60917305 0.06637892\n",
            "  0.47642824 0.45481336 0.35619495 0.04774214 0.57790353 0.45216909\n",
            "  0.50852219 0.62541775 0.55284033 0.1368827  0.60795142 0.17029294\n",
            "  0.51847718 0.4885531  0.64375313 0.61121063 0.42613341 0.77495825\n",
            "  0.43247942 0.36938639 0.18780158 0.54620216]\n",
            " [0.58749972 0.09077022 0.8049531  0.10008223 0.17330768 0.20103171\n",
            "  0.63776871 0.58319031 0.41798571 0.85295407 0.50861937 0.7042298\n",
            "  0.6895736  0.7202642  0.60609056 0.52038494 0.12544413 0.69270145\n",
            "  0.7106603  0.79668792 0.56615905 0.36535236 0.15758068 0.14984816\n",
            "  0.51801417 0.28834333 0.52251607 0.35333636 0.55453195 0.81137194\n",
            "  0.26382351 0.76090099 0.67731347 0.41116341 0.46186722 0.33647915\n",
            "  0.4938895  0.56432613 0.36889464 0.21319587 0.45670338 0.37807214\n",
            "  0.03692466 0.71827933 0.88457712 0.51955297 0.         0.72228968\n",
            "  0.66995329 0.57735974 0.10078866 0.77293147 0.61533678 0.39995585\n",
            "  0.83315761 0.27495161 0.47851567 0.24491505 0.49528252 0.76640009\n",
            "  0.55633437 0.2958675  0.03276701 0.21075639 0.58630897 0.57216201\n",
            "  0.41119786 0.52278056 0.34627203 0.85194293 0.29444787 0.45144622\n",
            "  0.51351435 0.75110195 0.67553027 0.74009819 0.11809965 0.57870305\n",
            "  0.71058415 0.33677461 0.62516308 0.53825786 0.15940655 0.96890095\n",
            "  0.71495589 0.73944749 0.73715684 0.58330337 0.45548759 0.67878743\n",
            "  0.26012302 0.34563699 0.51913178 0.25732918 0.56522175 0.30371915\n",
            "  0.56430462 0.50903438 0.5602463  0.04349172]\n",
            " [0.22567562 0.68943485 0.48962507 0.72481839 0.56521149 0.58920999\n",
            "  0.48499589 0.74545303 0.38754196 0.17671516 0.73570345 0.21377995\n",
            "  0.47540662 0.00309531 0.30572919 0.79591133 0.84537178 0.13808169\n",
            "  0.64919783 0.35234845 0.1561738  0.63109394 0.56726815 0.84214833\n",
            "  0.6052536  0.74604464 0.24426227 0.8156633  0.32320921 0.1201337\n",
            "  0.83692917 0.33720253 0.13025577 1.04049134 0.27406045 0.99102183\n",
            "  0.23599548 0.24514188 0.48625433 0.57541343 0.31067349 0.45934376\n",
            "  0.74382904 0.20410995 0.20385508 0.23162286 0.72228968 0.\n",
            "  0.21466368 0.22199497 0.6743834  0.29833854 0.10709798 0.61005943\n",
            "  0.14660645 0.49832365 0.25096064 0.80493423 0.53615313 0.44108812\n",
            "  0.68308583 0.88421761 0.74469216 0.56472293 0.64000151 0.77206637\n",
            "  0.60200481 0.43036785 0.83770789 0.58306814 0.62635681 0.62914677\n",
            "  0.385385   0.55216131 0.39888774 0.03682999 0.82262859 0.21021974\n",
            "  0.39037322 0.56334754 0.29839331 0.24749528 0.80043016 0.2637966\n",
            "  0.43003431 0.56991024 0.47528585 0.29498527 0.68201999 0.20345069\n",
            "  0.65511468 0.71948975 0.6981938  0.75634547 0.62504896 0.94204629\n",
            "  0.42814451 0.57781009 0.36754122 0.74200229]\n",
            " [0.3676596  0.66437966 0.28506247 0.64310058 0.54655132 0.59363625\n",
            "  0.63869879 0.8562449  0.4585037  0.21470531 0.82845469 0.03427906\n",
            "  0.64351897 0.21172904 0.46003698 0.88340002 0.78178962 0.07791003\n",
            "  0.43590092 0.17114724 0.20849223 0.69371413 0.51440468 0.80992108\n",
            "  0.71488427 0.7763853  0.34304644 0.67104709 0.14337475 0.2015398\n",
            "  0.71758035 0.14337296 0.31732091 0.91792025 0.32321492 0.88108695\n",
            "  0.28845697 0.10568561 0.34937205 0.4804715  0.38238288 0.52279847\n",
            "  0.68184118 0.04960426 0.40816308 0.32003446 0.66995329 0.21466368\n",
            "  0.         0.35689493 0.59733518 0.12385619 0.19466596 0.44797536\n",
            "  0.35433406 0.51701343 0.29619303 0.68710589 0.35146323 0.23382678\n",
            "  0.48860145 0.76287788 0.69835741 0.56833368 0.43906933 0.87637264\n",
            "  0.68032108 0.55149344 0.69694774 0.37737037 0.66682057 0.45398935\n",
            "  0.2094365  0.33809601 0.57031844 0.25136965 0.78364881 0.34357806\n",
            "  0.17758689 0.42380339 0.09107743 0.3606204  0.78415893 0.44522084\n",
            "  0.21652692 0.35532282 0.26226116 0.43967859 0.50691652 0.38913122\n",
            "  0.5303556  0.76919573 0.51092136 0.63171723 0.74571029 0.83020931\n",
            "  0.22980219 0.68718004 0.50332039 0.67753498]\n",
            " [0.01442576 0.52421467 0.63815925 0.60684419 0.40586643 0.40922467\n",
            "  0.28198229 0.52447977 0.18200304 0.398384   0.51379805 0.37511464\n",
            "  0.28839978 0.22208222 0.10423372 0.57420041 0.70267163 0.3060533\n",
            "  0.73626106 0.5252748  0.15254403 0.41627643 0.4382827  0.67406224\n",
            "  0.38364328 0.54206285 0.05756632 0.76022664 0.38935308 0.3420173\n",
            "  0.75006179 0.49998577 0.11353738 0.94717032 0.12942629 0.88594123\n",
            "  0.12001424 0.31347348 0.45976266 0.48716361 0.12111192 0.25138319\n",
            "  0.60589888 0.37442825 0.3165211  0.07188341 0.57735974 0.22199497\n",
            "  0.35689493 0.         0.55630983 0.47345811 0.16458905 0.5958109\n",
            "  0.27294718 0.31670862 0.12961027 0.71847139 0.56382863 0.58588979\n",
            "  0.7135097  0.79678479 0.59306845 0.38753295 0.6873028  0.55041462\n",
            "  0.38299669 0.20927291 0.77600368 0.72791414 0.42138471 0.63140955\n",
            "  0.42861653 0.67070426 0.21850289 0.21571778 0.66062832 0.01341312\n",
            "  0.52360917 0.52668765 0.40588882 0.03920325 0.62257154 0.40708958\n",
            "  0.55801899 0.68122263 0.60328707 0.08281078 0.67919595 0.10250365\n",
            "  0.5894501  0.50753667 0.71400092 0.68114617 0.40545016 0.84119103\n",
            "  0.49415001 0.35608331 0.15037652 0.60644559]\n",
            " [0.5680628  0.16874816 0.71187803 0.05104411 0.1846555  0.24044624\n",
            "  0.66147243 0.64852205 0.41832101 0.79099757 0.57744104 0.63145858\n",
            "  0.70947429 0.6720773  0.601681   0.59682163 0.18574639 0.62844276\n",
            "  0.61018228 0.71300771 0.51935608 0.42337523 0.11876229 0.24775955\n",
            "  0.56588296 0.37244678 0.4991983  0.275686   0.47300397 0.75352521\n",
            "  0.21117046 0.6774575  0.64646311 0.39409962 0.43171909 0.32977179\n",
            "  0.45829764 0.49292335 0.27657546 0.12147761 0.44003307 0.39445542\n",
            "  0.09246373 0.64658101 0.85009108 0.49169478 0.10078866 0.6743834\n",
            "  0.59733518 0.55630983 0.         0.6931786  0.56768337 0.29917098\n",
            "  0.79603909 0.28711713 0.44343048 0.18408799 0.39646027 0.67535426\n",
            "  0.45601011 0.25328652 0.13316185 0.23949131 0.48552705 0.64187069\n",
            "  0.46215682 0.53959469 0.27516299 0.75532812 0.35252443 0.35070772\n",
            "  0.42636154 0.65379937 0.6847199  0.69612657 0.21420645 0.55532695\n",
            "  0.62195434 0.23768087 0.54430824 0.51835013 0.25959615 0.92990135\n",
            "  0.62360278 0.64127355 0.64340258 0.57648998 0.356053   0.65880125\n",
            "  0.16046298 0.42163502 0.41957925 0.17673726 0.61398792 0.28633872\n",
            "  0.4721497  0.55262179 0.56593639 0.0855834 ]\n",
            " [0.4831671  0.77521026 0.19765531 0.73588902 0.66084079 0.7115097\n",
            "  0.75517976 0.97946767 0.58233193 0.2134751  0.95228479 0.0988008\n",
            "  0.75621364 0.29594627 0.57466801 1.007249   0.87891243 0.1699471\n",
            "  0.40318238 0.05408767 0.32952318 0.81707323 0.62083001 0.91687132\n",
            "  0.83790986 0.89650749 0.46429646 0.7281506  0.22028975 0.23262979\n",
            "  0.78995514 0.04734747 0.41866964 0.98441764 0.44703248 0.95550296\n",
            "  0.41195496 0.21907949 0.4275856  0.57285328 0.50595792 0.646569\n",
            "  0.78132576 0.09959265 0.46317848 0.4417998  0.77293147 0.29833854\n",
            "  0.12385619 0.47345811 0.6931786  0.         0.30893498 0.50041191\n",
            "  0.41683013 0.63780671 0.41995937 0.76112618 0.38739166 0.15588343\n",
            "  0.50128338 0.83302976 0.80272107 0.68640156 0.44319678 0.99994239\n",
            "  0.80415641 0.67277993 0.75610405 0.28993114 0.78870465 0.49339784\n",
            "  0.27444654 0.28208963 0.68143978 0.33186472 0.88896212 0.46004669\n",
            "  0.13095458 0.49501376 0.1489507  0.48059586 0.89559104 0.47708488\n",
            "  0.16734406 0.30564764 0.20413652 0.55607854 0.54351752 0.49278549\n",
            "  0.60547737 0.89145326 0.53290216 0.70331461 0.86792128 0.90446391\n",
            "  0.26090181 0.81015144 0.62215409 0.77622071]\n",
            " [0.17427606 0.58411975 0.47898184 0.6182327  0.45985547 0.48716594\n",
            "  0.4462619  0.68085459 0.29976123 0.25928971 0.66223927 0.21082746\n",
            "  0.4490622  0.10498263 0.26615621 0.72055287 0.7382916  0.14198408\n",
            "  0.60177686 0.36103446 0.04920197 0.54456249 0.46017115 0.73668336\n",
            "  0.53890099 0.65085593 0.16336645 0.71821536 0.25750542 0.20765702\n",
            "  0.73390892 0.3367069  0.13346816 0.93720001 0.17459332 0.88612442\n",
            "  0.13520377 0.17572045 0.39173929 0.47073316 0.22050737 0.37052135\n",
            "  0.63673423 0.20983994 0.29477817 0.14442552 0.61533678 0.10709798\n",
            "  0.19466596 0.16458905 0.56768337 0.30893498 0.         0.52103061\n",
            "  0.2374414  0.39786776 0.14922494 0.7018346  0.46004262 0.42719515\n",
            "  0.61028088 0.78130052 0.63800064 0.4623063  0.57355957 0.70434002\n",
            "  0.52106192 0.36829054 0.73908537 0.57043586 0.53279551 0.54551171\n",
            "  0.31156797 0.52165246 0.37565283 0.12968505 0.71655089 0.15117631\n",
            "  0.36739162 0.46769194 0.25553592 0.17535966 0.69660942 0.36556228\n",
            "  0.40404279 0.53518031 0.44995108 0.2471441  0.59741033 0.19916489\n",
            "  0.55445178 0.62955429 0.62009044 0.65475191 0.56497102 0.83751904\n",
            "  0.36617883 0.51103361 0.31409552 0.63490583]\n",
            " [0.61015899 0.45578683 0.45347705 0.31710995 0.40593738 0.47741991\n",
            "  0.80301434 0.88106597 0.54128377 0.66266997 0.82010669 0.47657746\n",
            "  0.83758144 0.60707611 0.67989618 0.85272582 0.45887176 0.50947858\n",
            "  0.31264539 0.50054349 0.48550489 0.65788828 0.31813009 0.54485272\n",
            "  0.76878492 0.64980424 0.54329714 0.22774917 0.30484856 0.64414898\n",
            "  0.30199747 0.46898406 0.64232552 0.4863614  0.47279148 0.46595305\n",
            "  0.47585939 0.36923141 0.13605565 0.20713562 0.51601954 0.55726872\n",
            "  0.38695863 0.49436131 0.81232145 0.52430831 0.39995585 0.61005943\n",
            "  0.44797536 0.5958109  0.29917098 0.50041191 0.52103061 0.\n",
            "  0.75452109 0.46982928 0.4665806  0.27764568 0.12143923 0.42929059\n",
            "  0.16259297 0.34039889 0.43228053 0.46276352 0.18635887 0.88330117\n",
            "  0.68051145 0.67875454 0.25595331 0.47737994 0.59488308 0.05363163\n",
            "  0.23853899 0.3745187  0.78838102 0.64259649 0.5105085  0.58827052\n",
            "  0.3924754  0.0829171  0.36493572 0.56816666 0.55813456 0.8713927\n",
            "  0.37933247 0.357234   0.38461345 0.65198263 0.08548569 0.68585877\n",
            "  0.14551345 0.68484149 0.13697452 0.2186759  0.81500639 0.41584074\n",
            "  0.24046935 0.7480218  0.67498015 0.37858304]\n",
            " [0.26849107 0.78923793 0.61403143 0.84702645 0.66709003 0.67876311\n",
            "  0.47009151 0.7563882  0.45494506 0.2323229  0.76171259 0.34685199\n",
            "  0.44398588 0.14969243 0.31428551 0.82360082 0.95819173 0.27643366\n",
            "  0.79017938 0.46872149 0.28139809 0.68405128 0.68328721 0.94106565\n",
            "  0.62423588 0.81433982 0.31834553 0.95555549 0.46972555 0.18918696\n",
            "  0.96988385 0.46070043 0.16053038 1.17273572 0.37159418 1.11947902\n",
            "  0.33962475 0.39165543 0.62799924 0.705379   0.38881637 0.52394454\n",
            "  0.85811437 0.33383692 0.05780292 0.31602739 0.83315761 0.14660645\n",
            "  0.35433406 0.27294718 0.79603909 0.41683013 0.2374414  0.75452109\n",
            "  0.         0.58590497 0.3549205  0.93777849 0.6827318  0.56880307\n",
            "  0.82961894 1.0173131  0.85242136 0.65597006 0.78595338 0.78734592\n",
            "  0.64566411 0.45389281 0.97652544 0.70672443 0.6937947  0.77503776\n",
            "  0.53195776 0.68671415 0.37084703 0.11211046 0.92515776 0.26653532\n",
            "  0.52435104 0.70447326 0.44173239 0.30992194 0.89259267 0.13615128\n",
            "  0.56449071 0.70626889 0.60848597 0.31660846 0.8277712  0.19613758\n",
            "  0.79173225 0.77677114 0.84474638 0.8916759  0.63325519 1.07159232\n",
            "  0.57398727 0.59876669 0.3853359  0.85731972]\n",
            " [0.3246683  0.20952156 0.73446588 0.33127779 0.10471849 0.09286001\n",
            "  0.37440603 0.41309603 0.14435865 0.65544826 0.35779768 0.54870818\n",
            "  0.42256154 0.49698975 0.33227062 0.39956189 0.39684737 0.51123992\n",
            "  0.72727455 0.67643676 0.35135854 0.19836424 0.17845041 0.35748879\n",
            "  0.30016669 0.25959464 0.26756017 0.54721348 0.450269   0.60537856\n",
            "  0.49808057 0.64220239 0.42560402 0.67591052 0.22433701 0.60562246\n",
            "  0.26306197 0.41976576 0.36065337 0.27939154 0.19719154 0.1073644\n",
            "  0.30831544 0.55795753 0.63248472 0.27178134 0.27495161 0.49832365\n",
            "  0.51701343 0.31670862 0.28711713 0.63780671 0.39786776 0.46982928\n",
            "  0.58590497 0.         0.24867921 0.47001278 0.50698991 0.68595765\n",
            "  0.62718122 0.54031625 0.28448082 0.07093188 0.6298047  0.41870698\n",
            "  0.21183262 0.25290861 0.55307448 0.80559361 0.15305694 0.52098423\n",
            "  0.44207462 0.71796648 0.40195537 0.50748928 0.34537746 0.32084977\n",
            "  0.62122745 0.3869181  0.50832869 0.27791563 0.30668803 0.72162045\n",
            "  0.64058876 0.71626725 0.67637497 0.31065231 0.55165596 0.41415323\n",
            "  0.38919918 0.25654014 0.60675907 0.4516912  0.34729144 0.56717093\n",
            "  0.51197619 0.28121304 0.28548755 0.31116916]\n",
            " [0.14384253 0.43956399 0.5575625  0.49446594 0.31568029 0.33855042\n",
            "  0.37162066 0.56094599 0.16250242 0.40771287 0.53238739 0.32323656\n",
            "  0.39228083 0.24943546 0.21779129 0.58792722 0.60336958 0.27206802\n",
            "  0.62507901 0.46634972 0.10388599 0.40273689 0.32880635 0.59230122\n",
            "  0.42031096 0.50253955 0.07755906 0.63278498 0.28585213 0.35684585\n",
            "  0.62850698 0.4357931  0.2031553  0.82840827 0.02747085 0.77062442\n",
            "  0.01540427 0.22179356 0.33053387 0.36348746 0.0868673  0.22915932\n",
            "  0.50319528 0.32863216 0.40752394 0.05779384 0.47851567 0.25096064\n",
            "  0.29619303 0.12961027 0.44343048 0.41995937 0.14922494 0.4665806\n",
            "  0.3549205  0.24867921 0.         0.59660474 0.44028368 0.50544582\n",
            "  0.58842215 0.67565792 0.49864834 0.31390606 0.56585018 0.58034637\n",
            "  0.38524501 0.26547191 0.64949917 0.64219621 0.3855829  0.50324123\n",
            "  0.31374966 0.57353813 0.33159259 0.26380065 0.57398833 0.12326939\n",
            "  0.44023145 0.39709426 0.31926304 0.10267529 0.54949318 0.49043784\n",
            "  0.46994051 0.58056823 0.51308366 0.19043248 0.55034385 0.22582185\n",
            "  0.46246234 0.48433224 0.58677575 0.5564748  0.45369449 0.72422957\n",
            "  0.38327887 0.39284219 0.23230024 0.50244859]\n",
            " [0.7312439  0.33376045 0.73104148 0.14930961 0.36861935 0.42318545\n",
            "  0.84431236 0.82520299 0.59589278 0.89599069 0.75184064 0.71940773\n",
            "  0.89132807 0.80230076 0.77433534 0.76524862 0.22772687 0.73411116\n",
            "  0.57205979 0.76858456 0.65640746 0.60277505 0.29499693 0.34439749\n",
            "  0.74877649 0.53291334 0.66091614 0.11721419 0.54756579 0.86674669\n",
            "  0.0321086  0.73514989 0.79789667 0.23556437 0.58987763 0.19456675\n",
            "  0.6103908  0.5908458  0.3378421  0.23352093 0.60815647 0.57707766\n",
            "  0.21162999 0.73634124 0.9940348  0.64983463 0.24491505 0.80493423\n",
            "  0.68710589 0.71847139 0.18408799 0.76112618 0.7018346  0.27764568\n",
            "  0.93777849 0.47001278 0.59660474 0.         0.39858087 0.70537444\n",
            "  0.39252728 0.07954076 0.26593337 0.42342217 0.44148827 0.81578548\n",
            "  0.64403894 0.72137845 0.10326048 0.75267387 0.53144707 0.31191802\n",
            "  0.48725352 0.65024616 0.86317983 0.8314009  0.31134325 0.71562058\n",
            "  0.66424605 0.26620737 0.61611585 0.68224297 0.38670019 1.06731212\n",
            "  0.65464584 0.63132215 0.66204973 0.74809213 0.28889793 0.81990249\n",
            "  0.15682977 0.59027987 0.34694958 0.05917962 0.79679531 0.14351482\n",
            "  0.50921985 0.73618331 0.74387008 0.20313189]\n",
            " [0.5781877  0.53768337 0.33254864 0.422962   0.46489599 0.53507369\n",
            "  0.80140827 0.91877454 0.5476631  0.56415507 0.86465986 0.37636612\n",
            "  0.82899725 0.53307351 0.65805494 0.90383108 0.56852596 0.42064451\n",
            "  0.22403162 0.38292081 0.43309301 0.70379671 0.38525795 0.64411959\n",
            "  0.79548191 0.71889421 0.51749283 0.34525123 0.21461591 0.55245918\n",
            "  0.42337752 0.35277088 0.58985633 0.60606658 0.45319153 0.58735728\n",
            "  0.44609957 0.29113107 0.14732702 0.28566251 0.50586441 0.57837362\n",
            "  0.48804301 0.39419803 0.73996485 0.4955884  0.49528252 0.53615313\n",
            "  0.35146323 0.56382863 0.39646027 0.38739166 0.46004262 0.12143923\n",
            "  0.6827318  0.50698991 0.44028368 0.39858087 0.         0.30791257\n",
            "  0.15090264 0.46172671 0.52804948 0.51627575 0.12763369 0.92565161\n",
            "  0.71788783 0.68195881 0.37435772 0.36192203 0.64741248 0.1060398\n",
            "  0.15077525 0.25924993 0.77158081 0.57108776 0.61066606 0.55420205\n",
            "  0.27326682 0.15878117 0.26266638 0.54253162 0.64868771 0.79021748\n",
            "  0.25822941 0.24511148 0.26347545 0.63070848 0.15723981 0.64323332\n",
            "  0.2576173  0.74444764 0.16211189 0.3394611  0.83921559 0.53727892\n",
            "  0.12717785 0.77210828 0.66597006 0.48033072]\n",
            " [0.59753679 0.78678253 0.05240865 0.71093767 0.68534225 0.74577105\n",
            "  0.86570156 1.06234885 0.66124102 0.36875249 1.02564994 0.22749276\n",
            "  0.87408697 0.43839127 0.68995816 1.07619339 0.85777974 0.30414852\n",
            "  0.25689504 0.11400579 0.43390957 0.87829701 0.62735324 0.9155597\n",
            "  0.92369928 0.93575873 0.56456517 0.65084659 0.23573638 0.3877938\n",
            "  0.73092664 0.10923366 0.55093814 0.91265516 0.53020475 0.89524364\n",
            "  0.50143314 0.28376049 0.3987886  0.55463982 0.59170238 0.7173467\n",
            "  0.76741579 0.23731454 0.617085   0.54056562 0.76640009 0.44108812\n",
            "  0.23382678 0.58588979 0.67535426 0.15588343 0.42719515 0.42929059\n",
            "  0.56880307 0.68595765 0.50544582 0.70537444 0.30791257 0.\n",
            "  0.38598273 0.76963923 0.79829826 0.7220776  0.32353022 1.07869991\n",
            "  0.87445535 0.76984052 0.68044379 0.14354437 0.8389269  0.40706632\n",
            "  0.25570829 0.12863465 0.80207976 0.47660362 0.88449962 0.57281063\n",
            "  0.06577436 0.44940392 0.18630796 0.58473802 0.90588621 0.63296015\n",
            "  0.05186067 0.15411545 0.05650885 0.66807036 0.45054079 0.622958\n",
            "  0.55798173 0.94229444 0.42496177 0.64619686 0.95878564 0.84507951\n",
            "  0.20340741 0.89663701 0.72781078 0.76089879]\n",
            " [0.72790355 0.61683483 0.39153521 0.46707599 0.56789341 0.63941494\n",
            "  0.94368913 1.03990557 0.68556208 0.6954074  0.98056745 0.50950079\n",
            "  0.97381976 0.67999348 0.80608684 1.01442606 0.60098396 0.56183464\n",
            "  0.18405253 0.48395487 0.58398149 0.81833757 0.48058119 0.69697356\n",
            "  0.92366929 0.81226449 0.66590696 0.30130806 0.35989347 0.68988503\n",
            "  0.40817489 0.45987605 0.74061703 0.55598176 0.59978559 0.55727627\n",
            "  0.59497381 0.43916101 0.2727733  0.36972295 0.64997054 0.70900033\n",
            "  0.53968259 0.52692699 0.88642525 0.64449126 0.55633437 0.68308583\n",
            "  0.48860145 0.7135097  0.45601011 0.50128338 0.61028088 0.16259297\n",
            "  0.82961894 0.62718122 0.58842215 0.39252728 0.15090264 0.38598273\n",
            "  0.         0.43470703 0.58801617 0.62411807 0.06319175 1.04335372\n",
            "  0.83881504 0.8219086  0.33100891 0.38419032 0.75643204 0.10898997\n",
            "  0.29929047 0.28936709 0.91867574 0.71859116 0.66227508 0.70415465\n",
            "  0.37374878 0.2429476  0.39761923 0.69100952 0.71557075 0.93254581\n",
            "  0.34585893 0.26474347 0.33121461 0.77852942 0.10498692 0.79405838\n",
            "  0.29643822 0.84728494 0.04714674 0.33949198 0.96902062 0.51170443\n",
            "  0.2589007  0.90180254 0.81045932 0.53092038]\n",
            " [0.80942965 0.38663097 0.7922729  0.21090216 0.43704011 0.48650376\n",
            "  0.91452834 0.87886921 0.6701081  0.97301774 0.80382398 0.79477692\n",
            "  0.96275634 0.88157174 0.85057552 0.81238731 0.24448119 0.81161457\n",
            "  0.61804088 0.83804136 0.73593682 0.66051792 0.36875505 0.3676557\n",
            "  0.8106199  0.5776702  0.73921847 0.13467024 0.62213463 0.94471958\n",
            "  0.04743222 0.80527111 0.87721675 0.15654474 0.66849071 0.12588606\n",
            "  0.68953249 0.66806722 0.41358794 0.31290777 0.68531124 0.64767706\n",
            "  0.2596735  0.81188872 1.07357554 0.7285354  0.2958675  0.88421761\n",
            "  0.76287788 0.79678479 0.25328652 0.83302976 0.78130052 0.34039889\n",
            "  1.0173131  0.54031625 0.67565792 0.07954076 0.46172671 0.76963923\n",
            "  0.43470703 0.         0.31063591 0.48932946 0.48908701 0.86696228\n",
            "  0.70457971 0.79288103 0.10678043 0.80744461 0.58930289 0.36744999\n",
            "  0.56040437 0.7061276  0.93713497 0.91083957 0.33779314 0.79416414\n",
            "  0.73177408 0.33980905 0.68968151 0.76026537 0.41989928 1.14674148\n",
            "  0.71971953 0.68556413 0.72395587 0.82460739 0.33589947 0.89844519\n",
            "  0.23307185 0.63931573 0.38772702 0.1311665  0.85832677 0.077331\n",
            "  0.57767615 0.79962756 0.81804041 0.25239583]\n",
            " [0.60269399 0.08348885 0.83715073 0.12703764 0.18720614 0.20364887\n",
            "  0.6391772  0.56932428 0.4286936  0.87862045 0.49366203 0.73261483\n",
            "  0.69201864 0.74274404 0.61674297 0.50202016 0.11261923 0.71918482\n",
            "  0.74325208 0.8272486  0.58880022 0.35621251 0.18430815 0.11743879\n",
            "  0.511459   0.26791774 0.53919032 0.37748276 0.58491942 0.83609414\n",
            "  0.2821779  0.79143998 0.69531069 0.41616373 0.48082778 0.33933302\n",
            "  0.51405171 0.59267454 0.40119907 0.24569686 0.47201616 0.38420266\n",
            "  0.05471708 0.74640822 0.9030009  0.53749467 0.03276701 0.74469216\n",
            "  0.69835741 0.59306845 0.13316185 0.80272107 0.63800064 0.43228053\n",
            "  0.85242136 0.28448082 0.49864834 0.26593337 0.52804948 0.79829826\n",
            "  0.58801617 0.31063591 0.         0.21691199 0.61863865 0.5565099\n",
            "  0.40438219 0.52723577 0.36856002 0.88457398 0.28642987 0.48356448\n",
            "  0.54493981 0.78379831 0.68156305 0.76143116 0.08659251 0.59506077\n",
            "  0.74210596 0.36953257 0.65532713 0.55387385 0.12868969 0.98841359\n",
            "  0.74692028 0.77219666 0.76946457 0.59481449 0.48666647 0.69371325\n",
            "  0.2916219  0.32869546 0.55033783 0.2832991  0.5580196  0.31067167\n",
            "  0.59645053 0.50416378 0.56803838 0.06364415]\n",
            " [0.39558423 0.13933253 0.76873328 0.27843933 0.05925694 0.02542929\n",
            "  0.42845212 0.42228568 0.21420836 0.71769867 0.3579523  0.60104129\n",
            "  0.47940178 0.56325812 0.4012611  0.39039185 0.32952899 0.56906115\n",
            "  0.73977941 0.72196254 0.41471129 0.19624462 0.14889178 0.28657606\n",
            "  0.32759539 0.21368432 0.33773949 0.51047369 0.48819513 0.66900892\n",
            "  0.4495235  0.68699076 0.49586649 0.6183338  0.29092592 0.54574151\n",
            "  0.32874866 0.46732218 0.36911184 0.26006521 0.26761734 0.16756992\n",
            "  0.24581937 0.61150474 0.70303502 0.3409251  0.21075639 0.56472293\n",
            "  0.56833368 0.38753295 0.23949131 0.68640156 0.4623063  0.46276352\n",
            "  0.65597006 0.07093188 0.31390606 0.42342217 0.51627575 0.7220776\n",
            "  0.62411807 0.48932946 0.21691199 0.         0.63383637 0.42170303\n",
            "  0.22670859 0.31203465 0.51298147 0.83473501 0.13237322 0.51569959\n",
            "  0.47117303 0.74285115 0.46513059 0.57539475 0.27467636 0.39148578\n",
            "  0.65866596 0.38117263 0.55071175 0.34866675 0.23698886 0.79183719\n",
            "  0.6746203  0.73864648 0.70755573 0.38039495 0.54035442 0.48506318\n",
            "  0.36334769 0.22853053 0.59894592 0.41247148 0.37573701 0.50979703\n",
            "  0.53801981 0.31335198 0.35112986 0.24972907]\n",
            " [0.70157129 0.64006796 0.32834477 0.50217837 0.57985014 0.65104389\n",
            "  0.92886435 1.04263833 0.67519453 0.6416704  0.98654272 0.4577346\n",
            "  0.95587209 0.63690728 0.78333514 1.02358652 0.64110618 0.51421344\n",
            "  0.13067667 0.4234866  0.55115116 0.82486875 0.49561626 0.73084826\n",
            "  0.92138698 0.82997652 0.6426542  0.35754534 0.31806531 0.63916436\n",
            "  0.45960206 0.40064848 0.70576959 0.61534876 0.57970163 0.61314558\n",
            "  0.57095791 0.39928418 0.26934816 0.38826636 0.63314035 0.70467318\n",
            "  0.5729313  0.47482542 0.84209578 0.62029409 0.58630897 0.64000151\n",
            "  0.43906933 0.6873028  0.48552705 0.44319678 0.57355957 0.18635887\n",
            "  0.78595338 0.6298047  0.56585018 0.44148827 0.12763369 0.32353022\n",
            "  0.06319175 0.48908701 0.61863865 0.63383637 0.         1.04829387\n",
            "  0.84143608 0.80959174 0.38756707 0.32306802 0.7659684  0.1362969\n",
            "  0.2626608  0.22670621 0.8974322  0.67609363 0.6964034  0.67718781\n",
            "  0.31417106 0.25753024 0.34810056 0.66758521 0.74430955 0.88424616\n",
            "  0.28469656 0.20259178 0.26842167 0.75619495 0.15347293 0.7627895\n",
            "  0.32998444 0.8603716  0.10710195 0.38595774 0.96555759 0.56638589\n",
            "  0.21197485 0.89837561 0.79303704 0.5644599 ]\n",
            " [0.54642845 0.48214886 1.12975127 0.66690997 0.48024624 0.41036778\n",
            "  0.32925537 0.03680294 0.41900846 0.94869606 0.0644919  0.90234255\n",
            "  0.37470404 0.77228339 0.47553691 0.07438514 0.64391391 0.84393693\n",
            "  1.14497428 1.04668732 0.67316435 0.2255706  0.57009666 0.533129\n",
            "  0.16681278 0.29462372 0.54110235 0.91729476 0.84646368 0.89219786\n",
            "  0.83594712 1.01583163 0.65118877 0.96335019 0.55363729 0.88391331\n",
            "  0.58798743 0.79702848 0.77932153 0.68173538 0.4939978  0.36189215\n",
            "  0.6076252  0.90624086 0.80958067 0.56152465 0.57216201 0.77206637\n",
            "  0.87637264 0.55041462 0.64187069 0.99994239 0.70434002 0.88330117\n",
            "  0.78734592 0.41870698 0.58034637 0.81578548 0.92565161 1.07869991\n",
            "  1.04335372 0.86696228 0.5565099  0.42170303 1.04829387 0.\n",
            "  0.20867997 0.34181966 0.91452174 1.2083091  0.29219568 0.9357212\n",
            "  0.85058101 1.1270337  0.43003496 0.76197229 0.55060355 0.56269489\n",
            "  1.01292557 0.80097111 0.89337392 0.53004707 0.46561249 0.90050965\n",
            "  1.03808698 1.12787145 1.07779535 0.47975582 0.96194349 0.59344966\n",
            "  0.78264434 0.22814977 1.01995582 0.81842628 0.15512906 0.86292851\n",
            "  0.92230345 0.19433661 0.4070799  0.6152984 ]\n",
            " [0.38297377 0.32184049 0.92496938 0.4956007  0.28583314 0.22183477\n",
            "  0.26416684 0.20126786 0.22316812 0.77565237 0.15144543 0.70828388\n",
            "  0.32057831 0.60167455 0.3355975  0.20318419 0.50848129 0.65560993\n",
            "  0.9364798  0.84872472 0.48420811 0.05477525 0.37464563 0.42076607\n",
            "  0.10707681 0.20190176 0.35970079 0.73607983 0.64061655 0.72044346\n",
            "  0.66802936 0.81668241 0.49375837 0.8204955  0.35785442 0.74360454\n",
            "  0.39492814 0.59529098 0.5721402  0.4838255  0.30205583 0.15803927\n",
            "  0.44811793 0.71387509 0.67890343 0.37673591 0.41119786 0.60200481\n",
            "  0.68032108 0.38299669 0.46215682 0.80415641 0.52106192 0.68051145\n",
            "  0.64566411 0.21183262 0.38524501 0.64403894 0.71788783 0.87445535\n",
            "  0.83881504 0.70457971 0.40438219 0.22670859 0.84143608 0.20867997\n",
            "  0.         0.19779089 0.73722315 1.00180847 0.11819061 0.73216574\n",
            "  0.64248429 0.91912207 0.34048267 0.59860268 0.42651003 0.39342603\n",
            "  0.80875243 0.5977116  0.69037864 0.3545122  0.35231804 0.77194488\n",
            "  0.83253987 0.91955298 0.8714067  0.32932761 0.76116937 0.45052065\n",
            "  0.58956503 0.14203485 0.81748032 0.63757233 0.15402516 0.71425124\n",
            "  0.71403391 0.10260295 0.26496249 0.4542936 ]\n",
            " [0.20469227 0.44577764 0.82211978 0.58418578 0.35735265 0.32359446\n",
            "  0.12572151 0.31524503 0.13748886 0.60706113 0.30918595 0.5740226\n",
            "  0.16995877 0.43063847 0.14001711 0.37073642 0.63935066 0.50996028\n",
            "  0.88241082 0.72250758 0.34332895 0.24451491 0.42690224 0.57655583\n",
            "  0.17507331 0.38933326 0.20853445 0.79177242 0.55041798 0.55049751\n",
            "  0.75006838 0.69430375 0.31021678 0.92841392 0.24281319 0.85713279\n",
            "  0.26846255 0.48679905 0.54995766 0.51503349 0.1822587  0.14581817\n",
            "  0.55775498 0.57569133 0.48364888 0.23149065 0.52278056 0.43036785\n",
            "  0.55149344 0.20927291 0.53959469 0.67277993 0.36829054 0.67875454\n",
            "  0.45389281 0.25290861 0.26547191 0.72137845 0.68195881 0.76984052\n",
            "  0.8219086  0.79288103 0.52723577 0.31203465 0.80959174 0.34181966\n",
            "  0.19779089 0.         0.80024412 0.9075553  0.27799156 0.7243534\n",
            "  0.57201394 0.83824608 0.15632922 0.42036706 0.57334302 0.22189687\n",
            "  0.70498553 0.59858818 0.58409093 0.19305465 0.51337858 0.57654821\n",
            "  0.73531613 0.84431196 0.77855543 0.13914816 0.76407563 0.25776027\n",
            "  0.62648398 0.33766714 0.81121147 0.69916163 0.19679666 0.81967629\n",
            "  0.64344307 0.1479333  0.06867132 0.56141157]\n",
            " [0.78945399 0.43362002 0.69942423 0.24808329 0.45584089 0.51540988\n",
            "  0.92489056 0.92261104 0.66976411 0.91050226 0.85031123 0.72724398\n",
            "  0.96951212 0.83489923 0.84088909 0.86576528 0.32772842 0.75231572\n",
            "  0.51497473 0.75626269 0.6966713  0.69829511 0.374783   0.44665277\n",
            "  0.8403701  0.63461383 0.7189922  0.03013534 0.55387429 0.88700019\n",
            "  0.09710289 0.7249118  0.84573884 0.23224706 0.6465888  0.22629911\n",
            "  0.6621772  0.60880904 0.35354709 0.29123907 0.67250695 0.65858648\n",
            "  0.31401501 0.74480956 1.03380365 0.70528224 0.34627203 0.83770789\n",
            "  0.69694774 0.77600368 0.27516299 0.75610405 0.73908537 0.25595331\n",
            "  0.97652544 0.55307448 0.64949917 0.10326048 0.37435772 0.68044379\n",
            "  0.33100891 0.10678043 0.36856002 0.51298147 0.38756707 0.91452174\n",
            "  0.73722315 0.80024412 0.         0.70880588 0.62724151 0.27370695\n",
            "  0.48917349 0.60876217 0.93596571 0.86697813 0.41398506 0.77165704\n",
            "  0.64745767 0.27624667 0.61786686 0.74176753 0.48995796 1.10150449\n",
            "  0.63190727 0.58704398 0.63221781 0.81382598 0.23611835 0.87522952\n",
            "  0.18715724 0.69046112 0.28386632 0.1013873  0.88851044 0.18195552\n",
            "  0.49641774 0.82624978 0.81674973 0.30534494]\n",
            " [0.73981329 0.88402859 0.09344422 0.78436219 0.79261534 0.85722515\n",
            "  1.00649827 1.19371852 0.79400412 0.4955451  1.15324924 0.37014998\n",
            "  1.01629401 0.58043639 0.8321089  1.20150964 0.93033307 0.4469714\n",
            "  0.20924095 0.23928799 0.57554092 1.00156465 0.72547996 1.00169941\n",
            "  1.05688212 1.04717747 0.7043851  0.67867558 0.36203849 0.52166378\n",
            "  0.77423175 0.24670604 0.69443803 0.93813821 0.66595786 0.93274521\n",
            "  0.63928897 0.42088187 0.48526412 0.63902316 0.72745898 0.84644049\n",
            "  0.8476036  0.37895821 0.75281106 0.6802384  0.85194293 0.58306814\n",
            "  0.37737037 0.72791414 0.75532812 0.28993114 0.57043586 0.47737994\n",
            "  0.70672443 0.80559361 0.64219621 0.75267387 0.36192203 0.14354437\n",
            "  0.38419032 0.80744461 0.88457398 0.83473501 0.32306802 1.2083091\n",
            "  1.00180847 0.9075553  0.70880588 0.         0.95731475 0.44111476\n",
            "  0.36404983 0.10292525 0.94480249 0.61813167 0.96896425 0.71493579\n",
            "  0.20434183 0.51899394 0.32405908 0.72525593 1.00011674 0.76121292\n",
            "  0.17225651 0.1218911  0.13052716 0.80972943 0.47273653 0.76650138\n",
            "  0.61914235 1.05984547 0.42996541 0.69451188 1.09360738 0.88466307\n",
            "  0.29716493 1.03022385 0.86795111 0.84021073]\n",
            " [0.42530434 0.20437465 0.88725208 0.38225266 0.1892878  0.11844808\n",
            "  0.3698726  0.2963333  0.24068256 0.79207737 0.22786098 0.69775074\n",
            "  0.42556267 0.62545476 0.40115436 0.25802289 0.39042234 0.65556723\n",
            "  0.87037365 0.82844735 0.48940378 0.07135754 0.27874913 0.30685182\n",
            "  0.22518632 0.1207057  0.38374189 0.62812372 0.60327822 0.73953568\n",
            "  0.55418812 0.79446365 0.53488932 0.7025936  0.35891851 0.62551343\n",
            "  0.39840312 0.57162819 0.50009246 0.39080268 0.31568801 0.17000589\n",
            "  0.33129364 0.7060847  0.73392992 0.39473667 0.29444787 0.62635681\n",
            "  0.66682057 0.42138471 0.35252443 0.78870465 0.53279551 0.59488308\n",
            "  0.6937947  0.15305694 0.3855829  0.53144707 0.64741248 0.8389269\n",
            "  0.75643204 0.58930289 0.28642987 0.13237322 0.7659684  0.29219568\n",
            "  0.11819061 0.27799156 0.62724151 0.95731475 0.         0.64792717\n",
            "  0.59334998 0.86810832 0.43254604 0.62984464 0.31011335 0.42910835\n",
            "  0.77426091 0.51348553 0.66118934 0.38632132 0.2400143  0.82613167\n",
            "  0.79329516 0.86528661 0.82854546 0.38763799 0.6716569  0.50579208\n",
            "  0.4904554  0.10349937 0.73079715 0.52919206 0.27158999 0.59669846\n",
            "  0.66230214 0.21958898 0.33641472 0.3377892 ]\n",
            " [0.64582422 0.50898878 0.42596028 0.36595136 0.4591597  0.53066878\n",
            "  0.84779817 0.93298477 0.58711881 0.66787445 0.87269218 0.48023326\n",
            "  0.88071676 0.62610639 0.71896652 0.90585562 0.50509068 0.52036948\n",
            "  0.26539362 0.48778325 0.51322038 0.71044795 0.37162178 0.59492577\n",
            "  0.81907819 0.70342746 0.58059342 0.2439371  0.31350786 0.65374519\n",
            "  0.3331309  0.45826414 0.67081544 0.50593446 0.51152207 0.49323669\n",
            "  0.51149408 0.38484507 0.1755262  0.26076206 0.55767052 0.60614621\n",
            "  0.43704619 0.49809842 0.83269114 0.56058715 0.45144622 0.62914677\n",
            "  0.45398935 0.63140955 0.35070772 0.49339784 0.54551171 0.05363163\n",
            "  0.77503776 0.52098423 0.50324123 0.31191802 0.1060398  0.40706632\n",
            "  0.10898997 0.36744999 0.48356448 0.51569959 0.1362969  0.9357212\n",
            "  0.73216574 0.7243534  0.27370695 0.44111476 0.64792717 0.\n",
            "  0.24728882 0.33911185 0.82920772 0.66293623 0.56041522 0.62315024\n",
            "  0.37735665 0.1347517  0.36675397 0.60564248 0.61012047 0.88739603\n",
            "  0.35924392 0.31952868 0.35852257 0.69112319 0.05322802 0.71818224\n",
            "  0.1937693  0.7383353  0.08701222 0.25441488 0.86497251 0.44436491\n",
            "  0.23312402 0.79786488 0.7175961  0.42850698]\n",
            " [0.44266428 0.53108506 0.29923632 0.46602661 0.43129008 0.49406027\n",
            "  0.68448451 0.83849801 0.44588583 0.42413293 0.79352462 0.23845107\n",
            "  0.70592046 0.38230645 0.52791607 0.83979881 0.61139256 0.27314719\n",
            "  0.31146777 0.28779914 0.28865139 0.63908644 0.37169062 0.6617804\n",
            "  0.70587228 0.68425119 0.38805778 0.46265717 0.06657713 0.406986\n",
            "  0.51653648 0.25271153 0.44322778 0.7136034  0.33176919 0.68179138\n",
            "  0.31641777 0.14037529 0.15382955 0.30488805 0.390211   0.49051278\n",
            "  0.51718447 0.2561557  0.58921066 0.36468319 0.51351435 0.385385\n",
            "  0.2094365  0.42861653 0.42636154 0.27444654 0.31156797 0.23853899\n",
            "  0.53195776 0.44207462 0.31374966 0.48725352 0.15077525 0.25570829\n",
            "  0.29929047 0.56040437 0.54493981 0.47117303 0.2626608  0.85058101\n",
            "  0.64248429 0.57201394 0.48917349 0.36404983 0.59334998 0.24728882\n",
            "  0.         0.27672439 0.64314496 0.4203294  0.63144747 0.41782213\n",
            "  0.19723219 0.22106306 0.12935448 0.41242022 0.65032657 0.64072265\n",
            "  0.20576547 0.27753228 0.23642988 0.50156454 0.30051385 0.50047117\n",
            "  0.33116864 0.69579812 0.31281802 0.42993847 0.74595103 0.63073361\n",
            "  0.07224499 0.68033624 0.5456822  0.51124174]\n",
            " [0.6835067  0.78585331 0.10993383 0.6820142  0.69840943 0.76462616\n",
            "  0.94345009 1.11433865 0.71819466 0.49556429 1.07022767 0.34017995\n",
            "  0.95791421 0.54928768 0.77454555 1.11638765 0.82776917 0.4141363\n",
            "  0.1324999  0.24263961 0.51879849 0.91551436 0.62820136 0.90069675\n",
            "  0.9801123  0.95385748 0.64096862 0.57863249 0.28783653 0.51096364\n",
            "  0.67219659 0.23475979 0.65170957 0.83922258 0.59543331 0.83167429\n",
            "  0.57258644 0.35751672 0.38643998 0.53863131 0.65628602 0.76622084\n",
            "  0.74592298 0.35288835 0.73724177 0.61674239 0.75110195 0.55216131\n",
            "  0.33809601 0.67070426 0.65379937 0.28208963 0.52165246 0.3745187\n",
            "  0.68671415 0.71796648 0.57353813 0.65024616 0.25924993 0.12863465\n",
            "  0.28936709 0.7061276  0.78379831 0.74285115 0.22670621 1.1270337\n",
            "  0.91912207 0.83824608 0.60876217 0.10292525 0.86810832 0.33911185\n",
            "  0.27672439 0.         0.88918569 0.58861754 0.86772845 0.65824407\n",
            "  0.16241002 0.4168863  0.26641228 0.66335848 0.90083084 0.75816158\n",
            "  0.12235019 0.02746367 0.07874233 0.75050869 0.37272235 0.72070922\n",
            "  0.51626955 0.96975457 0.33366651 0.591938   1.01884564 0.78323295\n",
            "  0.20599037 0.95407554 0.80395602 0.7384258 ]\n",
            " [0.20572961 0.60089789 0.85412062 0.73132257 0.50651453 0.4782535\n",
            "  0.1017282  0.39620867 0.2672921  0.56800071 0.41711265 0.58502189\n",
            "  0.07658656 0.40025953 0.1154553  0.47814769 0.79399246 0.51154208\n",
            "  0.95292256 0.73463684 0.37062797 0.39203716 0.56850172 0.73287724\n",
            "  0.28000663 0.5396016  0.25530642 0.9248511  0.60711628 0.51235845\n",
            "  0.89293568 0.7118759  0.2687752  1.07702525 0.31889239 1.00751498\n",
            "  0.32714653 0.5319618  0.65396949 0.64585977 0.27250192 0.29756242\n",
            "  0.709773   0.58187923 0.38446843 0.27846886 0.67553027 0.39888774\n",
            "  0.57031844 0.21850289 0.6847199  0.68143978 0.37565283 0.78838102\n",
            "  0.37084703 0.40195537 0.33159259 0.86317983 0.77158081 0.80207976\n",
            "  0.91867574 0.93713497 0.68156305 0.46513059 0.8974322  0.43003496\n",
            "  0.34048267 0.15632922 0.93596571 0.94480249 0.43254604 0.82920772\n",
            "  0.64314496 0.88918569 0.         0.37657303 0.7295252  0.23095721\n",
            "  0.74076193 0.71255327 0.62402393 0.23074478 0.6694609  0.47315832\n",
            "  0.77582742 0.89968765 0.82127538 0.14161517 0.87357736 0.19584731\n",
            "  0.75575505 0.4825012  0.9144426  0.83606873 0.27545078 0.96837115\n",
            "  0.71050518 0.26012064 0.11938186 0.71292633]\n",
            " [0.21707064 0.70333958 0.5246986  0.74684561 0.57947542 0.59942076\n",
            "  0.46631799 0.73419891 0.3894663  0.19200441 0.72819222 0.24963931\n",
            "  0.45313151 0.03984841 0.29013448 0.78902997 0.86405981 0.17448181\n",
            "  0.6860276  0.38568758 0.17690502 0.6304123  0.5866464  0.85605836\n",
            "  0.59539034 0.75019719 0.24610293 0.84547811 0.35885106 0.1358823\n",
            "  0.86346356 0.37182226 0.11188892 1.06681669 0.28477387 1.01574951\n",
            "  0.24847438 0.27995753 0.51696685 0.60041119 0.31509648 0.46105256\n",
            "  0.76290562 0.23934179 0.16983791 0.23676716 0.74009819 0.03682999\n",
            "  0.25136965 0.21571778 0.69612657 0.33186472 0.12968505 0.64259649\n",
            "  0.11211046 0.50748928 0.26380065 0.8314009  0.57108776 0.47660362\n",
            "  0.71859116 0.91083957 0.76143116 0.57539475 0.67609363 0.76197229\n",
            "  0.59860268 0.42036706 0.86697813 0.61813167 0.62984464 0.66293623\n",
            "  0.4203294  0.58861754 0.37657303 0.         0.83771387 0.20520662\n",
            "  0.4266721  0.59373829 0.33517747 0.24557894 0.81206002 0.23591753\n",
            "  0.46641766 0.60653153 0.51156008 0.28244895 0.71566119 0.18090212\n",
            "  0.68321429 0.72037089 0.73300934 0.78390161 0.61262635 0.96719243\n",
            "  0.46434664 0.56829361 0.35531209 0.76145357]\n",
            " [0.66928523 0.13641802 0.92294042 0.19520542 0.25844917 0.25586204\n",
            "  0.67721496 0.56856919 0.48871727 0.96087295 0.49100703 0.81787526\n",
            "  0.73194711 0.82079843 0.67471453 0.48855606 0.0959471  0.80254469\n",
            "  0.82284107 0.91379119 0.66744898 0.37385694 0.26924508 0.03475544\n",
            "  0.53183989 0.25606615 0.60874873 0.42797461 0.6714298  0.91716512\n",
            "  0.31995536 0.87797862 0.76635487 0.41360259 0.55447704 0.33392234\n",
            "  0.58935703 0.67797446 0.48682441 0.33091406 0.53977062 0.43617967\n",
            "  0.12356319 0.8314367  0.9741913  0.60917305 0.11809965 0.82262859\n",
            "  0.78364881 0.66062832 0.21420645 0.88896212 0.71655089 0.5105085\n",
            "  0.92515776 0.34537746 0.57398833 0.31134325 0.61066606 0.88449962\n",
            "  0.66227508 0.33779314 0.08659251 0.27467636 0.6964034  0.55060355\n",
            "  0.42651003 0.57334302 0.41398506 0.96896425 0.31011335 0.56041522\n",
            "  0.63144747 0.86772845 0.7295252  0.83771387 0.         0.66374284\n",
            "  0.82857828 0.4518856  0.7417569  0.62151653 0.08578335 1.061309\n",
            "  0.83305009 0.85544496 0.85503586 0.65462262 0.55904624 0.75933984\n",
            "  0.3667778  0.32499756 0.62254281 0.34126517 0.57594218 0.31743017\n",
            "  0.68233893 0.52895889 0.62068951 0.13194694]\n",
            " [0.0253116  0.52733842 0.62506098 0.60601373 0.40796023 0.4135892\n",
            "  0.29536405 0.53700608 0.18891849 0.38634188 0.52548901 0.36171168\n",
            "  0.30135891 0.21021618 0.11717583 0.5857166  0.70410798 0.2926665\n",
            "  0.72478608 0.51187675 0.13976493 0.42573029 0.43770131 0.67779556\n",
            "  0.39597707 0.54981393 0.05639327 0.7554592  0.37760016 0.33008895\n",
            "  0.74730878 0.48663653 0.10621596 0.94519449 0.12577305 0.88471515\n",
            "  0.11257427 0.30120105 0.45228378 0.48366082 0.12403455 0.25916019\n",
            "  0.6067058  0.36101575 0.31165832 0.06637892 0.57870305 0.21021974\n",
            "  0.34357806 0.01341312 0.55532695 0.46004669 0.15117631 0.58827052\n",
            "  0.26653532 0.32084977 0.12326939 0.71562058 0.55420205 0.57281063\n",
            "  0.70415465 0.79416414 0.59506077 0.39148578 0.67718781 0.56269489\n",
            "  0.39342603 0.22189687 0.77165704 0.71493579 0.42910835 0.62315024\n",
            "  0.41782213 0.65824407 0.23095721 0.20520662 0.66374284 0.\n",
            "  0.51065588 0.52009945 0.3931778  0.04338781 0.62722763 0.4014346\n",
            "  0.54520954 0.6689591  0.59053388 0.096178   0.67131609 0.10428467\n",
            "  0.58485452 0.5165267  0.70530507 0.67744602 0.41827589 0.83959017\n",
            "  0.48283885 0.36836036 0.16364    0.60705111]\n",
            " [0.53557606 0.72723004 0.11739386 0.65966021 0.62330927 0.68258699\n",
            "  0.80231244 0.99660613 0.59553068 0.34045589 0.95992017 0.17778458\n",
            "  0.81200359 0.3875368  0.62782001 1.01058946 0.80599607 0.2522951\n",
            "  0.27442434 0.11122772 0.37120299 0.81293057 0.56814863 0.85900424\n",
            "  0.8580567  0.8723208  0.50051512 0.6184732  0.17102992 0.3508518\n",
            "  0.6911725  0.08656109 0.4941967  0.87874366 0.46479663 0.85655009\n",
            "  0.43652346 0.21844405 0.34607207 0.50061194 0.52632016 0.65159183\n",
            "  0.71340527 0.19058424 0.57521222 0.47642824 0.71058415 0.39037322\n",
            "  0.17758689 0.52360917 0.62195434 0.13095458 0.36739162 0.3924754\n",
            "  0.52435104 0.62122745 0.44023145 0.66424605 0.27326682 0.06577436\n",
            "  0.37374878 0.73177408 0.74210596 0.65866596 0.31417106 1.01292557\n",
            "  0.80875243 0.70498553 0.64745767 0.20434183 0.77426091 0.37735665\n",
            "  0.19723219 0.16241002 0.74076193 0.4266721  0.82857828 0.51065588\n",
            "  0.         0.40270769 0.12096919 0.52111653 0.8468912  0.59914804\n",
            "  0.04016158 0.18237411 0.08492052 0.60538765 0.42479188 0.56500926\n",
            "  0.51295523 0.87769234 0.40795801 0.60528986 0.89333673 0.8058907\n",
            "  0.15526648 0.83102845 0.66398226 0.70722466]\n",
            " [0.54086899 0.38354847 0.48133345 0.26552273 0.32511382 0.39663049\n",
            "  0.72339293 0.79838406 0.46113067 0.63581795 0.73794943 0.45528848\n",
            "  0.7593929  0.56048126 0.60625403 0.77148601 0.41201378 0.47643586\n",
            "  0.37598822 0.50408151 0.42805059 0.57570406 0.23879899 0.48537107\n",
            "  0.68592144 0.57265504 0.47239243 0.25275848 0.28235795 0.61095113\n",
            "  0.29553    0.47009761 0.58214578 0.49418775 0.40061605 0.46073012\n",
            "  0.40762317 0.33274884 0.07740618 0.13092737 0.44012923 0.47495053\n",
            "  0.32933709 0.47253004 0.76210129 0.45481336 0.33677461 0.56334754\n",
            "  0.42380339 0.52668765 0.23768087 0.49501376 0.46769194 0.0829171\n",
            "  0.70447326 0.3869181  0.39709426 0.26620737 0.15878117 0.44940392\n",
            "  0.2429476  0.33980905 0.36953257 0.38117263 0.25753024 0.80097111\n",
            "  0.5977116  0.59858818 0.27624667 0.51899394 0.51348553 0.1347517\n",
            "  0.22106306 0.4168863  0.71255327 0.59373829 0.4518856  0.52009945\n",
            "  0.40270769 0.         0.35009435 0.49688895 0.49153981 0.82694823\n",
            "  0.39769342 0.40372443 0.41207473 0.57835775 0.16640944 0.62036178\n",
            "  0.11084204 0.60504308 0.21985052 0.20899636 0.73220928 0.40967257\n",
            "  0.24772374 0.66526422 0.59756145 0.32169798]\n",
            " [0.41832961 0.63112191 0.2383157  0.58694773 0.52032578 0.57531111\n",
            "  0.68269283 0.87648392 0.47526774 0.30148883 0.84121143 0.1137013\n",
            "  0.69405346 0.2953483  0.51006432 0.89284724 0.73005281 0.16666118\n",
            "  0.35147475 0.17329268 0.25341886 0.69668067 0.47478869 0.77026908\n",
            "  0.73750833 0.76346885 0.38035719 0.59096708 0.07134037 0.29229623\n",
            "  0.64562366 0.1376073  0.38689786 0.84294925 0.3439022  0.8106826\n",
            "  0.31563493 0.09748438 0.28008254 0.42390327 0.40540892 0.53272417\n",
            "  0.63278841 0.13153204 0.49665426 0.35619495 0.62516308 0.29839331\n",
            "  0.09107743 0.40588882 0.54430824 0.1489507  0.25553592 0.36493572\n",
            "  0.44173239 0.50832869 0.31926304 0.61611585 0.26266638 0.18630796\n",
            "  0.39761923 0.68968151 0.65532713 0.55071175 0.34810056 0.89337392\n",
            "  0.69037864 0.58409093 0.61786686 0.32405908 0.66118934 0.36675397\n",
            "  0.12935448 0.26641228 0.62402393 0.33517747 0.7417569  0.3931778\n",
            "  0.12096919 0.35009435 0.         0.40145583 0.75156666 0.53614611\n",
            "  0.15249324 0.27967324 0.19743937 0.4868776  0.41925858 0.45469975\n",
            "  0.45966139 0.764668   0.42069944 0.55907675 0.77247899 0.75962951\n",
            "  0.13902258 0.71039858 0.54394733 0.62757272]\n",
            " [0.04974613 0.48509927 0.63714467 0.56875501 0.36667003 0.37055943\n",
            "  0.28125283 0.50584874 0.1458343  0.42197067 0.49019538 0.3817965\n",
            "  0.29523391 0.24718727 0.11581129 0.54968567 0.66354411 0.31690695\n",
            "  0.72258838 0.53106501 0.15223376 0.38486262 0.40008665 0.63513054\n",
            "  0.36402439 0.50701002 0.02511669 0.72666895 0.37823303 0.3663116\n",
            "  0.71370759 0.50393211 0.14955392 0.90995268 0.09647373 0.84808711\n",
            "  0.09664519 0.30619992 0.43224431 0.45192656 0.08191038 0.21653364\n",
            "  0.56694462 0.38292528 0.35478371 0.04774214 0.53825786 0.24749528\n",
            "  0.3606204  0.03920325 0.51835013 0.48059586 0.17535966 0.56816666\n",
            "  0.30992194 0.27791563 0.10267529 0.68224297 0.54253162 0.58473802\n",
            "  0.69100952 0.76026537 0.55387385 0.34866675 0.66758521 0.53004707\n",
            "  0.3545122  0.19305465 0.74176753 0.72525593 0.38632132 0.60564248\n",
            "  0.41242022 0.66335848 0.23074478 0.24557894 0.62151653 0.04338781\n",
            "  0.52111653 0.49688895 0.40145583 0.         0.5840911  0.44477668\n",
            "  0.55393564 0.67241182 0.59855551 0.08914449 0.65231866 0.14097897\n",
            "  0.5557419  0.47492514 0.68939641 0.64602016 0.38963084 0.80365364\n",
            "  0.48017349 0.33619251 0.14319826 0.56756458]\n",
            " [0.62980152 0.1204572  0.94738549 0.25519229 0.23966353 0.21382971\n",
            "  0.60988689 0.48445929 0.44408852 0.94854068 0.40676193 0.81798588\n",
            "  0.66553812 0.79886452 0.6248113  0.40288221 0.18135103 0.79476886\n",
            "  0.86714459 0.924832   0.64825958 0.29826866 0.27874274 0.06942906\n",
            "  0.45537819 0.17161282 0.57424821 0.50143121 0.68317449 0.90173129\n",
            "  0.39857052 0.88907903 0.73227098 0.49932948 0.52733414 0.41962631\n",
            "  0.56455113 0.67939643 0.51485299 0.36321068 0.5038435  0.38432462\n",
            "  0.18146099 0.83026511 0.93886686 0.57790353 0.15940655 0.80043016\n",
            "  0.78415893 0.62257154 0.25959615 0.89559104 0.69660942 0.55813456\n",
            "  0.89259267 0.30668803 0.54949318 0.38670019 0.64868771 0.90588621\n",
            "  0.71557075 0.41989928 0.12868969 0.23698886 0.74430955 0.46561249\n",
            "  0.35231804 0.51337858 0.48995796 1.00011674 0.2400143  0.61012047\n",
            "  0.65032657 0.90083084 0.6694609  0.81206002 0.08578335 0.62722763\n",
            "  0.8468912  0.49153981 0.75156666 0.5840911  0.         1.02828448\n",
            "  0.85529235 0.89079369 0.88105638 0.60697657 0.6148923  0.71763747\n",
            "  0.41950581 0.24165038 0.6785382  0.40980953 0.49796076 0.40287381\n",
            "  0.70718737 0.45482129 0.56601075 0.1905916 ]\n",
            " [0.40156814 0.92537703 0.67215795 0.98080004 0.80322496 0.81447642\n",
            "  0.57483551 0.86783391 0.58886481 0.26569785 0.88006637 0.42911417\n",
            "  0.54009988 0.26660972 0.43678041 0.94202662 1.09380699 0.37071165\n",
            "  0.87251525 0.52321169 0.41206626 0.81281097 0.81819555 1.07714828\n",
            "  0.74149053 0.94633018 0.45410821 1.07939939 0.57562383 0.24860992\n",
            "  1.09937125 0.52405856 0.29601653 1.30273418 0.50760336 1.25132888\n",
            "  0.4750906  0.50287363 0.74974327 0.83619151 0.52444136 0.65680096\n",
            "  0.99347973 0.41313794 0.09304269 0.45216909 0.96890095 0.2637966\n",
            "  0.44522084 0.40708958 0.92990135 0.47708488 0.36556228 0.8713927\n",
            "  0.13615128 0.72162045 0.49043784 1.06731212 0.79021748 0.63296015\n",
            "  0.93254581 1.14674148 0.98841359 0.79183719 0.88424616 0.90050965\n",
            "  0.77194488 0.57654821 1.10150449 0.76121292 0.82613167 0.88739603\n",
            "  0.64072265 0.75816158 0.47315832 0.23591753 1.061309   0.4014346\n",
            "  0.59914804 0.82694823 0.53614611 0.44477668 1.02828448 0.\n",
            "  0.63877287 0.78049602 0.67954353 0.44316411 0.94056557 0.32210664\n",
            "  0.91861982 0.90612505 0.9519482  1.01957388 0.74539852 1.2029304\n",
            "  0.67381417 0.71730782 0.50802862 0.99253465]\n",
            " [0.57027905 0.73646485 0.0941249  0.65907955 0.63657865 0.69803584\n",
            "  0.83515782 1.02277632 0.622426   0.37897367 0.98394013 0.21784041\n",
            "  0.84632908 0.42717887 0.66224234 1.03341403 0.80592651 0.2919621\n",
            "  0.23602459 0.13931925 0.40547564 0.83451394 0.5769723  0.86423363\n",
            "  0.88529303 0.88819839 0.53271184 0.60248607 0.19194658 0.39065142\n",
            "  0.68051696 0.1209541  0.53216183 0.86395736 0.49374085 0.84516163\n",
            "  0.46711366 0.24876244 0.34706106 0.50298361 0.55525549 0.67624945\n",
            "  0.71570868 0.23074317 0.61536915 0.50852219 0.71495589 0.43003431\n",
            "  0.21652692 0.55801899 0.62360278 0.16734406 0.40404279 0.37933247\n",
            "  0.56449071 0.64058876 0.46994051 0.65464584 0.25822941 0.05186067\n",
            "  0.34585893 0.71971953 0.74692028 0.6746203  0.28469656 1.03808698\n",
            "  0.83253987 0.73531613 0.63190727 0.17225651 0.79329516 0.35924392\n",
            "  0.20576547 0.12235019 0.77582742 0.46641766 0.83305009 0.54520954\n",
            "  0.04016158 0.39769342 0.15249324 0.55393564 0.85529235 0.63877287\n",
            "  0.         0.1422715  0.04598657 0.63926803 0.40431155 0.60236802\n",
            "  0.5065059  0.89647389 0.38254206 0.59548468 0.92162312 0.79485499\n",
            "  0.15156853 0.85851446 0.69631459 0.70915914]\n",
            " [0.6942629  0.77697754 0.13739714 0.66792442 0.6927612  0.75993373\n",
            "  0.9515153  1.11602531 0.72200722 0.51896072 1.07031996 0.35941891\n",
            "  0.96745904 0.56699552 0.78468338 1.11542617 0.81302248 0.43218053\n",
            "  0.10509741 0.26792187 0.53004335 0.91431051 0.62034391 0.88870896\n",
            "  0.98305713 0.94845706 0.64958878 0.55690999 0.29486532 0.53269635\n",
            "  0.65255932 0.25831522 0.66633146 0.81677541 0.60168882 0.81085434\n",
            "  0.58032252 0.36776088 0.37786743 0.52784333 0.66209438 0.76803924\n",
            "  0.73306127 0.37278788 0.75751492 0.62541775 0.73944749 0.56991024\n",
            "  0.35532282 0.68122263 0.64127355 0.30564764 0.53518031 0.357234\n",
            "  0.70626889 0.71626725 0.58056823 0.63132215 0.24511148 0.15411545\n",
            "  0.26474347 0.68556413 0.77219666 0.73864648 0.20259178 1.12787145\n",
            "  0.91955298 0.84431196 0.58704398 0.1218911  0.86528661 0.31952868\n",
            "  0.27753228 0.02746367 0.89968765 0.60653153 0.85544496 0.6689591\n",
            "  0.18237411 0.40372443 0.27967324 0.67241182 0.89079369 0.78049602\n",
            "  0.1422715  0.         0.10151204 0.76018591 0.35093808 0.73434213\n",
            "  0.50047224 0.96630704 0.30969368 0.57337787 1.02255484 0.76279263\n",
            "  0.20557846 0.95731129 0.81195522 0.72539659]\n",
            " [0.61564726 0.76328207 0.06938078 0.6764326  0.66731557 0.73048996\n",
            "  0.87967415 1.06320695 0.66367517 0.41748614 1.02285179 0.26241428\n",
            "  0.89149216 0.47245242 0.70748258 1.07139435 0.82333692 0.33721113\n",
            "  0.20167984 0.16782688 0.45077077 0.87172213 0.60392929 0.88690285\n",
            "  0.92652925 0.92067977 0.57705933 0.60239263 0.23153074 0.43222662\n",
            "  0.68657247 0.15680323 0.57814067 0.86441346 0.5364203  0.84980107\n",
            "  0.51072962 0.29275037 0.36826876 0.52413795 0.5978457  0.71592023\n",
            "  0.73583288 0.27467299 0.65870399 0.55284033 0.73715684 0.47528585\n",
            "  0.26226116 0.60328707 0.64340258 0.20413652 0.44995108 0.38461345\n",
            "  0.60848597 0.67637497 0.51308366 0.66204973 0.26347545 0.05650885\n",
            "  0.33121461 0.72395587 0.76946457 0.70755573 0.26842167 1.07779535\n",
            "  0.8714067  0.77855543 0.63221781 0.13052716 0.82854546 0.35852257\n",
            "  0.23642988 0.07874233 0.82127538 0.51156008 0.85503586 0.59053388\n",
            "  0.08492052 0.41207473 0.19743937 0.59855551 0.88105638 0.67954353\n",
            "  0.04598657 0.10151204 0.         0.68430324 0.39984405 0.64834171\n",
            "  0.51833654 0.93138142 0.37126959 0.60293629 0.96352327 0.80005738\n",
            "  0.17387982 0.89993264 0.74063252 0.72892933]\n",
            " [0.07314931 0.5197197  0.72039218 0.62557688 0.41005104 0.39885303\n",
            "  0.1991931  0.45174996 0.16630801 0.47141738 0.44832375 0.45783731\n",
            "  0.20740935 0.29553755 0.02791923 0.50981831 0.70682581 0.38812707\n",
            "  0.81161627 0.60802127 0.23421889 0.36973714 0.45786709 0.66397752\n",
            "  0.31349015 0.50628617 0.11371659 0.80049552 0.46659971 0.41469612\n",
            "  0.77891951 0.58279475 0.17144301 0.97051233 0.17960219 0.90510325\n",
            "  0.18556309 0.39299697 0.51659934 0.5226048  0.14138051 0.22317908\n",
            "  0.61480762 0.45690944 0.35016621 0.1368827  0.58330337 0.29498527\n",
            "  0.43967859 0.08281078 0.57648998 0.55607854 0.2471441  0.65198263\n",
            "  0.31660846 0.31065231 0.19043248 0.74809213 0.63070848 0.66807036\n",
            "  0.77852942 0.82460739 0.59481449 0.38039495 0.75619495 0.47975582\n",
            "  0.32932761 0.13914816 0.81382598 0.80972943 0.38763799 0.69112319\n",
            "  0.50156454 0.75050869 0.14161517 0.28244895 0.65462262 0.096178\n",
            "  0.60538765 0.57835775 0.4868776  0.08914449 0.60697657 0.44316411\n",
            "  0.63926803 0.76018591 0.68430324 0.         0.73673095 0.12123336\n",
            "  0.62987165 0.4631956  0.77564653 0.71586936 0.33040126 0.86279861\n",
            "  0.56918935 0.28673846 0.07287076 0.61657387]\n",
            " [0.69358152 0.52033027 0.46567486 0.36393219 0.48238183 0.55343455\n",
            "  0.88843834 0.96098334 0.62659102 0.72057436 0.89830294 0.53285151\n",
            "  0.92305909 0.67898517 0.764632   0.92866749 0.49616326 0.57357791\n",
            "  0.28353135 0.5357631  0.56422216 0.73637536 0.39309341 0.59378949\n",
            "  0.85139403 0.71929045 0.62736729 0.20598303 0.36670566 0.7068746\n",
            "  0.30621848 0.50717383 0.72168056 0.46675268 0.55733263 0.46049245\n",
            "  0.55918175 0.4379269  0.22017533 0.28094632 0.60131026 0.64131806\n",
            "  0.43713551 0.55071072 0.8854581  0.60795142 0.45548759 0.68201999\n",
            "  0.50691652 0.67919595 0.356053   0.54351752 0.59741033 0.08548569\n",
            "  0.8277712  0.55165596 0.55034385 0.28889793 0.15723981 0.45054079\n",
            "  0.10498692 0.33589947 0.48666647 0.54035442 0.15347293 0.96194349\n",
            "  0.76116937 0.76407563 0.23611835 0.47273653 0.6716569  0.05322802\n",
            "  0.30051385 0.37272235 0.87357736 0.71566119 0.55904624 0.67131609\n",
            "  0.42479188 0.16640944 0.41925858 0.65231866 0.6148923  0.94056557\n",
            "  0.40431155 0.35093808 0.39984405 0.73673095 0.         0.76761744\n",
            "  0.19559402 0.75837257 0.06367543 0.23483539 0.89794602 0.41322849\n",
            "  0.28430801 0.83112741 0.76041806 0.42826399]\n",
            " [0.09136748 0.62309866 0.674043   0.70934698 0.50658606 0.50570685\n",
            "  0.28642007 0.56349844 0.27361197 0.37271929 0.56597118 0.39926698\n",
            "  0.27243387 0.20495307 0.1184446  0.62779187 0.8039392  0.32347112\n",
            "  0.7992621  0.54663937 0.21189312 0.49070791 0.54078227 0.77142354\n",
            "  0.42904329 0.62539825 0.15972958 0.85860377 0.45244478 0.31677863\n",
            "  0.85159342 0.52660853 0.07442997 1.04932978 0.23003593 0.9884021\n",
            "  0.21370172 0.37172122 0.5504271  0.58782221 0.2220913  0.33799308\n",
            "  0.70779558 0.39400566 0.22919554 0.17029294 0.67878743 0.20345069\n",
            "  0.38913122 0.10250365 0.65880125 0.49278549 0.19916489 0.68585877\n",
            "  0.19613758 0.41415323 0.22582185 0.81990249 0.64323332 0.622958\n",
            "  0.79405838 0.89844519 0.69371325 0.48506318 0.7627895  0.59344966\n",
            "  0.45052065 0.25776027 0.87522952 0.76650138 0.50579208 0.71818224\n",
            "  0.50047117 0.72070922 0.19584731 0.18090212 0.75933984 0.10428467\n",
            "  0.56500926 0.62036178 0.45469975 0.14097897 0.71763747 0.32210664\n",
            "  0.60236802 0.73434213 0.64834171 0.12123336 0.76761744 0.\n",
            "  0.68825137 0.58402736 0.79835022 0.78149162 0.44058075 0.94353572\n",
            "  0.56059181 0.4032041  0.18924252 0.7084873 ]\n",
            " [0.60301678 0.32611601 0.5877168  0.17219424 0.30409349 0.37241566\n",
            "  0.75211092 0.78515709 0.49229322 0.73995164 0.71831028 0.56259157\n",
            "  0.79383847 0.65238293 0.65723464 0.74391011 0.31348624 0.57860821\n",
            "  0.45787354 0.61491284 0.5109875  0.55847695 0.21493854 0.40135287\n",
            "  0.68694127 0.52742594 0.53265718 0.17094166 0.3908088  0.71196309\n",
            "  0.18726297 0.58093682 0.65878019 0.38919474 0.46012151 0.35124055\n",
            "  0.47505733 0.43500731 0.18102673 0.1115096  0.48853268 0.48993016\n",
            "  0.24361108 0.57954928 0.84873538 0.51847718 0.26012302 0.65511468\n",
            "  0.5303556  0.5894501  0.16046298 0.60547737 0.55445178 0.14551345\n",
            "  0.79173225 0.38919918 0.46246234 0.15682977 0.2576173  0.55798173\n",
            "  0.29643822 0.23307185 0.2916219  0.36334769 0.32998444 0.78264434\n",
            "  0.58956503 0.62648398 0.18715724 0.61914235 0.4904554  0.1937693\n",
            "  0.33116864 0.51626955 0.75575505 0.68321429 0.3667778  0.58485452\n",
            "  0.51295523 0.11084204 0.45966139 0.5557419  0.41950581 0.91861982\n",
            "  0.5065059  0.50047224 0.51833654 0.62987165 0.19559402 0.68825137\n",
            "  0.         0.57076431 0.25915164 0.10225977 0.73472676 0.30023002\n",
            "  0.35774303 0.66961498 0.63721896 0.23497144]\n",
            " [0.50967341 0.2568416  0.99047671 0.44237826 0.28052169 0.20950954\n",
            "  0.40348325 0.24377082 0.33196562 0.88835551 0.16652977 0.79978955\n",
            "  0.45972759 0.71878795 0.47238295 0.17544292 0.41681105 0.75569575\n",
            "  0.96815285 0.93163164 0.58768556 0.09368092 0.36671535 0.3106767\n",
            "  0.22730194 0.07116598 0.47533021 0.69500668 0.70669028 0.83484333\n",
            "  0.60933775 0.89774643 0.6206374  0.73610987 0.45724463 0.65688815\n",
            "  0.4964952  0.67481745 0.59745581 0.47821951 0.40991216 0.26018714\n",
            "  0.38050751 0.80773376 0.81321636 0.4885531  0.34563699 0.71948975\n",
            "  0.76919573 0.50753667 0.42163502 0.89145326 0.62955429 0.68484149\n",
            "  0.77677114 0.25654014 0.48433224 0.59027987 0.74444764 0.94229444\n",
            "  0.84728494 0.63931573 0.32869546 0.22853053 0.8603716  0.22814977\n",
            "  0.14203485 0.33766714 0.69046112 1.05984547 0.10349937 0.7383353\n",
            "  0.69579812 0.96975457 0.4825012  0.72037089 0.32499756 0.5165267\n",
            "  0.87769234 0.60504308 0.764668   0.47492514 0.24165038 0.90612505\n",
            "  0.89647389 0.96630704 0.93138142 0.4631956  0.75837257 0.58402736\n",
            "  0.57076431 0.         0.81910285 0.5966625  0.26433417 0.63494032\n",
            "  0.76420671 0.23439096 0.4030906  0.38840482]\n",
            " [0.72842667 0.58324388 0.43356407 0.42749003 0.54158204 0.61291751\n",
            "  0.93446637 1.01798049 0.67403559 0.72117756 0.9566209  0.5339308\n",
            "  0.96688123 0.6951167  0.80342167 0.98834559 0.55851573 0.58183308\n",
            "  0.23118657 0.51896328 0.5906605  0.79445797 0.45290209 0.65729217\n",
            "  0.90544235 0.78132678 0.66429601 0.2541839  0.37654454 0.71242223\n",
            "  0.36182124 0.49317429 0.74815362 0.50921937 0.59611879 0.510141\n",
            "  0.59441733 0.45309546 0.26177666 0.3409497  0.64347809 0.69299307\n",
            "  0.50077001 0.55160589 0.90202771 0.64375313 0.51913178 0.6981938\n",
            "  0.51092136 0.71400092 0.41957925 0.53290216 0.62009044 0.13697452\n",
            "  0.84474638 0.60675907 0.58677575 0.34694958 0.16211189 0.42496177\n",
            "  0.04714674 0.38772702 0.55033783 0.59894592 0.10710195 1.01995582\n",
            "  0.81748032 0.81121147 0.28386632 0.42996541 0.73079715 0.08701222\n",
            "  0.31281802 0.33366651 0.9144426  0.73300934 0.62254281 0.70530507\n",
            "  0.40795801 0.21985052 0.42069944 0.68939641 0.6785382  0.9519482\n",
            "  0.38254206 0.30969368 0.37126959 0.77564653 0.06367543 0.79835022\n",
            "  0.25915164 0.81910285 0.         0.29502381 0.95149677 0.46466475\n",
            "  0.28190803 0.88443615 0.8036432  0.49188729]\n",
            " [0.69432898 0.34067301 0.67196166 0.15724709 0.35492968 0.41577903\n",
            "  0.82366566 0.82525765 0.56941038 0.8419883  0.75403168 0.66365838\n",
            "  0.86858161 0.75364405 0.74269076 0.77208928 0.26678156 0.68081673\n",
            "  0.51663366 0.71000463 0.61045038 0.59991442 0.2734007  0.37554297\n",
            "  0.74004188 0.54395872 0.62380403 0.09894894 0.49116182 0.81422259\n",
            "  0.08664336 0.67673188 0.75561897 0.28697588 0.55182996 0.25225764\n",
            "  0.56971345 0.53716409 0.28242374 0.19409444 0.57481721 0.55723616\n",
            "  0.22889917 0.68074845 0.94841498 0.61121063 0.25732918 0.75634547\n",
            "  0.63171723 0.68114617 0.17673726 0.70331461 0.65475191 0.2186759\n",
            "  0.8916759  0.4516912  0.5564748  0.05917962 0.3394611  0.64619686\n",
            "  0.33949198 0.1311665  0.2832991  0.41247148 0.38595774 0.81842628\n",
            "  0.63757233 0.69916163 0.1013873  0.69451188 0.52919206 0.25441488\n",
            "  0.42993847 0.591938   0.83606873 0.78390161 0.34126517 0.67744602\n",
            "  0.60528986 0.20899636 0.55907675 0.64602016 0.40980953 1.01957388\n",
            "  0.59548468 0.57337787 0.60293629 0.71586936 0.23483539 0.78149162\n",
            "  0.10225977 0.5966625  0.29502381 0.         0.78818677 0.20126898\n",
            "  0.45036018 0.72552124 0.71674816 0.21982446]\n",
            " [0.39992469 0.47574249 1.0107306  0.64885684 0.43388386 0.37367906\n",
            "  0.1757009  0.12313333 0.30065479 0.80167083 0.14661854 0.76932601\n",
            "  0.22474223 0.62548672 0.32363807 0.20516441 0.66063197 0.70646296\n",
            "  1.05088394 0.9168562  0.53848783 0.20283411 0.52048219 0.56726369\n",
            "  0.04814523 0.33430045 0.40393881 0.8861867  0.73266076 0.74497132\n",
            "  0.82129203 0.88774993 0.50105889 0.97418325 0.42858546 0.89700224\n",
            "  0.4589571  0.67503641 0.69755609 0.62618998 0.36712072 0.26088806\n",
            "  0.60214093 0.77157086 0.65458242 0.42613341 0.56522175 0.62504896\n",
            "  0.74571029 0.40545016 0.61398792 0.86792128 0.56497102 0.81500639\n",
            "  0.63325519 0.34729144 0.45369449 0.79679531 0.83921559 0.95878564\n",
            "  0.96902062 0.85832677 0.5580196  0.37573701 0.96555759 0.15512906\n",
            "  0.15402516 0.19679666 0.88851044 1.09360738 0.27158999 0.86497251\n",
            "  0.74595103 1.01884564 0.27545078 0.61262635 0.57594218 0.41827589\n",
            "  0.89333673 0.73220928 0.77247899 0.38963084 0.49796076 0.74539852\n",
            "  0.92162312 1.02255484 0.96352327 0.33040126 0.89794602 0.44058075\n",
            "  0.73472676 0.26433417 0.95149677 0.78818677 0.         0.86816538\n",
            "  0.81818468 0.0672406  0.25759799 0.60831433]\n",
            " [0.85326421 0.39242416 0.86856579 0.23756696 0.4624737  0.5031984\n",
            "  0.93820547 0.8778735  0.70338622 1.03817853 0.80127923 0.8626545\n",
            "  0.98854401 0.93949496 0.88787837 0.80393065 0.22154144 0.87587794\n",
            "  0.695206   0.91116709 0.79095934 0.66682426 0.40507383 0.34275683\n",
            "  0.8212489  0.56927137 0.78380747 0.2108654  0.69103093 1.0077617\n",
            "  0.11479844 0.87797659 0.9271273  0.1087438  0.71476294 0.05105783\n",
            "  0.73862163 0.73303245 0.48114276 0.36678966 0.72610257 0.67386253\n",
            "  0.26689989 0.87952037 1.12709379 0.77495825 0.30371915 0.94204629\n",
            "  0.83020931 0.84119103 0.28633872 0.90446391 0.83751904 0.41584074\n",
            "  1.07159232 0.56717093 0.72422957 0.14351482 0.53727892 0.84507951\n",
            "  0.51170443 0.077331   0.31067167 0.50979703 0.56638589 0.86292851\n",
            "  0.71425124 0.81967629 0.18195552 0.88466307 0.59669846 0.44436491\n",
            "  0.63073361 0.78323295 0.96837115 0.96719243 0.31743017 0.83959017\n",
            "  0.8058907  0.40967257 0.75962951 0.80365364 0.40287381 1.2029304\n",
            "  0.79485499 0.76279263 0.80005738 0.86279861 0.41322849 0.94353572\n",
            "  0.30023002 0.63494032 0.46466475 0.20126898 0.86816538 0.\n",
            "  0.65124323 0.81271646 0.85030351 0.26155271]\n",
            " [0.5079522  0.58945114 0.24074528 0.50756441 0.49546234 0.56026666\n",
            "  0.75470451 0.91050746 0.51804935 0.43937663 0.86490285 0.25202343\n",
            "  0.77473723 0.42505167 0.59507248 0.91054693 0.6543822  0.30317287\n",
            "  0.24242803 0.26051516 0.34922601 0.70959367 0.43016751 0.71386464\n",
            "  0.77810642 0.75009189 0.4561966  0.46805504 0.10867695 0.43126322\n",
            "  0.53646155 0.22853326 0.49948969 0.72639273 0.4023032  0.70201598\n",
            "  0.38502058 0.19047937 0.19574395 0.35180139 0.4613934  0.56260723\n",
            "  0.56434463 0.26970106 0.63013279 0.43247942 0.56430462 0.42814451\n",
            "  0.22980219 0.49415001 0.4721497  0.26090181 0.36617883 0.24046935\n",
            "  0.57398727 0.51197619 0.38327887 0.50921985 0.12717785 0.20340741\n",
            "  0.2589007  0.57767615 0.59645053 0.53801981 0.21197485 0.92230345\n",
            "  0.71403391 0.64344307 0.49641774 0.29716493 0.66230214 0.23312402\n",
            "  0.07224499 0.20599037 0.71050518 0.46434664 0.68233893 0.48283885\n",
            "  0.15526648 0.24772374 0.13902258 0.48017349 0.70718737 0.67381417\n",
            "  0.15156853 0.20557846 0.17387982 0.56918935 0.28430801 0.56059181\n",
            "  0.35774303 0.76420671 0.28190803 0.45036018 0.81818468 0.65124323\n",
            "  0.         0.7525811  0.61555661 0.55772393]\n",
            " [0.35223883 0.42100655 0.94837792 0.58927065 0.37064027 0.31332456\n",
            "  0.17121927 0.16988029 0.23627827 0.75440106 0.1630363  0.71193261\n",
            "  0.22676504 0.57800335 0.28476066 0.22499953 0.60987855 0.65145343\n",
            "  0.98433173 0.85815171 0.48160749 0.15666519 0.45600033 0.52335271\n",
            "  0.02787663 0.30008473 0.34822354 0.8230736  0.66868706 0.69793278\n",
            "  0.76145926 0.82829629 0.45805614 0.91968465 0.36703356 0.84346287\n",
            "  0.39910039 0.613133   0.63031759 0.56049261 0.30597702 0.19373832\n",
            "  0.54591411 0.71502843 0.62505441 0.36938639 0.50903438 0.57781009\n",
            "  0.68718004 0.35608331 0.55262179 0.81015144 0.51103361 0.7480218\n",
            "  0.59876669 0.28121304 0.39284219 0.73618331 0.77210828 0.89663701\n",
            "  0.90180254 0.79962756 0.50416378 0.31335198 0.89837561 0.19433661\n",
            "  0.10260295 0.1479333  0.82624978 1.03022385 0.21958898 0.79786488\n",
            "  0.68033624 0.95407554 0.26012064 0.56829361 0.52895889 0.36836036\n",
            "  0.83102845 0.66526422 0.71039858 0.33619251 0.45482129 0.71730782\n",
            "  0.85851446 0.95731129 0.89993264 0.28673846 0.83112741 0.4032041\n",
            "  0.66961498 0.23439096 0.88443615 0.72552124 0.0672406  0.81271646\n",
            "  0.7525811  0.         0.2146695  0.55164879]\n",
            " [0.14329548 0.48901379 0.78021942 0.61297374 0.38946268 0.36622503\n",
            "  0.13956011 0.37889042 0.14798976 0.54410103 0.3769971  0.52346868\n",
            "  0.16337248 0.36802774 0.07135318 0.43872511 0.6806571  0.45597729\n",
            "  0.85713902 0.67325109 0.29524969 0.30947944 0.44932282 0.62668421\n",
            "  0.24111404 0.45153898 0.16360276 0.80590048 0.51710346 0.48739247\n",
            "  0.77369963 0.64669096 0.24415022 0.9588602  0.21436504 0.89013593\n",
            "  0.23164471 0.44790769 0.54207182 0.52697288 0.16048888 0.18468825\n",
            "  0.59380273 0.52365278 0.41508837 0.18780158 0.5602463  0.36754122\n",
            "  0.50332039 0.15037652 0.56593639 0.62215409 0.31409552 0.67498015\n",
            "  0.3853359  0.28548755 0.23230024 0.74387008 0.66597006 0.72781078\n",
            "  0.81045932 0.81804041 0.56803838 0.35112986 0.79303704 0.4070799\n",
            "  0.26496249 0.06867132 0.81674973 0.86795111 0.33641472 0.7175961\n",
            "  0.5456822  0.80395602 0.11938186 0.35531209 0.62068951 0.16364\n",
            "  0.66398226 0.59756145 0.54394733 0.14319826 0.56601075 0.50802862\n",
            "  0.69631459 0.81195522 0.74063252 0.07287076 0.76041806 0.18924252\n",
            "  0.63721896 0.4030906  0.8036432  0.71674816 0.25759799 0.85030351\n",
            "  0.61555661 0.2146695  0.         0.5965903 ]\n",
            " [0.61712236 0.13425903 0.79744256 0.06494282 0.20739347 0.24182957\n",
            "  0.67790992 0.62657751 0.45245928 0.86647658 0.55185894 0.71177151\n",
            "  0.72912863 0.73985548 0.64006573 0.56281329 0.10482166 0.70483761\n",
            "  0.69100233 0.79725476 0.58593068 0.40876293 0.17482678 0.16641908\n",
            "  0.56100486 0.3298188  0.55067827 0.31386973 0.55639463 0.82682918\n",
            "  0.22094164 0.76161962 0.70343205 0.3695176  0.48746418 0.29603216\n",
            "  0.51771084 0.57240307 0.36211053 0.20661322 0.48664431 0.4160485\n",
            "  0.00913068 0.72645583 0.90978136 0.54620216 0.04349172 0.74200229\n",
            "  0.67753498 0.60644559 0.0855834  0.77622071 0.63490583 0.37858304\n",
            "  0.85731972 0.31116916 0.50244859 0.20313189 0.48033072 0.76089879\n",
            "  0.53092038 0.25239583 0.06364415 0.24972907 0.5644599  0.6152984\n",
            "  0.4542936  0.56141157 0.30534494 0.84021073 0.3377892  0.42850698\n",
            "  0.51124174 0.7384258  0.71292633 0.76145357 0.13194694 0.60705111\n",
            "  0.70722466 0.32169798 0.62757272 0.56756458 0.1905916  0.99253465\n",
            "  0.70915914 0.72539659 0.72892933 0.61657387 0.42826399 0.7084873\n",
            "  0.23497144 0.38840482 0.49188729 0.21982446 0.60831433 0.26155271\n",
            "  0.55772393 0.55164879 0.5965903  0.        ]]\n"
          ]
        }
      ],
      "source": [
        "coords = np.random.rand(100, 2)\n",
        "\n",
        "distances = np.sqrt(((coords[:, np.newaxis, :] - coords[np.newaxis, :, :]) ** 2).sum(axis=2))\n",
        "print(distances)\n"
      ]
    },
    {
      "cell_type": "markdown",
      "id": "343c5a85",
      "metadata": {
        "id": "343c5a85"
      },
      "source": [
        "#### 53. How to convert a float (32 bits) array into an integer (32 bits) in place?"
      ]
    },
    {
      "cell_type": "code",
      "execution_count": null,
      "id": "fc1b687b",
      "metadata": {
        "id": "fc1b687b",
        "colab": {
          "base_uri": "https://localhost:8080/"
        },
        "outputId": "a295ca13-9126-4054-d0aa-8b6738ef2ab2"
      },
      "outputs": [
        {
          "output_type": "stream",
          "name": "stdout",
          "text": [
            "[0 1 2 3 4 5 6 7 8 9]\n",
            "int32\n"
          ]
        }
      ],
      "source": [
        "A = np.arange(10, dtype=np.float32)\n",
        "A = A.astype(np.int32, copy=False)\n",
        "print(A)\n",
        "print(A.dtype)\n"
      ]
    },
    {
      "cell_type": "markdown",
      "id": "a69e1ace",
      "metadata": {
        "id": "a69e1ace"
      },
      "source": [
        "#### 54. How to read the following file? (★★☆)\n",
        "```\n",
        "1, 2, 3, 4, 5\n",
        "6,  ,  , 7, 8\n",
        " ,  , 9,10,11\n",
        "```"
      ]
    },
    {
      "cell_type": "markdown",
      "id": "c23bd80d",
      "metadata": {
        "id": "c23bd80d"
      },
      "source": [
        "#### 55. What is the equivalent of enumerate for numpy arrays? (★★☆)"
      ]
    },
    {
      "cell_type": "code",
      "execution_count": 4,
      "id": "d95d9578",
      "metadata": {
        "id": "d95d9578",
        "colab": {
          "base_uri": "https://localhost:8080/"
        },
        "outputId": "921ff3d7-0b06-4fb0-c79f-3fa4374857a1"
      },
      "outputs": [
        {
          "output_type": "stream",
          "name": "stdout",
          "text": [
            "(0, 0) 10\n",
            "(0, 1) 20\n",
            "(1, 0) 30\n",
            "(1, 1) 40\n"
          ]
        }
      ],
      "source": [
        "arr = np.array([[10, 20], [30, 40]])\n",
        "\n",
        "for index, value in np.ndenumerate(arr):\n",
        "    print(index, value)\n"
      ]
    },
    {
      "cell_type": "markdown",
      "id": "2153a5ec",
      "metadata": {
        "id": "2153a5ec"
      },
      "source": [
        "#### 56. Generate a generic 2D Gaussian-like array (★★☆)"
      ]
    },
    {
      "cell_type": "code",
      "execution_count": 5,
      "id": "61122d1e",
      "metadata": {
        "id": "61122d1e",
        "colab": {
          "base_uri": "https://localhost:8080/"
        },
        "outputId": "37b9038a-743c-4c7b-dda6-41f37e6ed3a2"
      },
      "outputs": [
        {
          "output_type": "stream",
          "name": "stdout",
          "text": [
            "[[0.36787944 0.44822088 0.51979489 0.57375342 0.60279818 0.60279818\n",
            "  0.57375342 0.51979489 0.44822088 0.36787944]\n",
            " [0.44822088 0.54610814 0.63331324 0.69905581 0.73444367 0.73444367\n",
            "  0.69905581 0.63331324 0.54610814 0.44822088]\n",
            " [0.51979489 0.63331324 0.73444367 0.81068432 0.85172308 0.85172308\n",
            "  0.81068432 0.73444367 0.63331324 0.51979489]\n",
            " [0.57375342 0.69905581 0.81068432 0.89483932 0.9401382  0.9401382\n",
            "  0.89483932 0.81068432 0.69905581 0.57375342]\n",
            " [0.60279818 0.73444367 0.85172308 0.9401382  0.98773022 0.98773022\n",
            "  0.9401382  0.85172308 0.73444367 0.60279818]\n",
            " [0.60279818 0.73444367 0.85172308 0.9401382  0.98773022 0.98773022\n",
            "  0.9401382  0.85172308 0.73444367 0.60279818]\n",
            " [0.57375342 0.69905581 0.81068432 0.89483932 0.9401382  0.9401382\n",
            "  0.89483932 0.81068432 0.69905581 0.57375342]\n",
            " [0.51979489 0.63331324 0.73444367 0.81068432 0.85172308 0.85172308\n",
            "  0.81068432 0.73444367 0.63331324 0.51979489]\n",
            " [0.44822088 0.54610814 0.63331324 0.69905581 0.73444367 0.73444367\n",
            "  0.69905581 0.63331324 0.54610814 0.44822088]\n",
            " [0.36787944 0.44822088 0.51979489 0.57375342 0.60279818 0.60279818\n",
            "  0.57375342 0.51979489 0.44822088 0.36787944]]\n"
          ]
        }
      ],
      "source": [
        "x, y = np.meshgrid(np.linspace(-1, 1, 10), np.linspace(-1, 1, 10))\n",
        "\n",
        "d = np.sqrt(x*x + y*y)\n",
        "sigma, mu = 1.0, 0.0\n",
        "g = np.exp(-((d - mu)**2 / (2.0 * sigma**2)))\n",
        "\n",
        "print(g)"
      ]
    },
    {
      "cell_type": "markdown",
      "id": "2e76d589",
      "metadata": {
        "id": "2e76d589"
      },
      "source": [
        "#### 57. How to randomly place p elements in a 2D array? (★★☆)"
      ]
    },
    {
      "cell_type": "code",
      "execution_count": 10,
      "id": "0c2e4fcc",
      "metadata": {
        "id": "0c2e4fcc",
        "colab": {
          "base_uri": "https://localhost:8080/"
        },
        "outputId": "5329ed4b-4c3f-4cae-e9b7-bdc9f6cd3c2e"
      },
      "outputs": [
        {
          "output_type": "stream",
          "name": "stdout",
          "text": [
            "[[0 0 0 0 1]\n",
            " [0 0 0 0 0]\n",
            " [0 0 0 0 1]\n",
            " [0 0 1 1 0]\n",
            " [1 0 0 0 0]]\n"
          ]
        }
      ],
      "source": [
        "n, m = 5, 5\n",
        "p = 5\n",
        "arr = np.zeros((n, m), dtype=int)\n",
        "indices = np.random.choice(n * m, p, replace=False)\n",
        "np.put(arr, indices, 1)\n",
        "print(arr)\n"
      ]
    },
    {
      "cell_type": "markdown",
      "id": "8b3933eb",
      "metadata": {
        "id": "8b3933eb"
      },
      "source": [
        "#### 58. Subtract the mean of each row of a matrix (★★☆)"
      ]
    },
    {
      "cell_type": "code",
      "execution_count": 14,
      "id": "a306c9ef",
      "metadata": {
        "id": "a306c9ef",
        "colab": {
          "base_uri": "https://localhost:8080/"
        },
        "outputId": "a315eda7-28d7-44fa-b3c7-238d554d17c2"
      },
      "outputs": [
        {
          "output_type": "stream",
          "name": "stdout",
          "text": [
            "[[ 0.05395652 -0.3069823   0.46560119 -0.26573563  0.05316023]\n",
            " [-0.2733007  -0.26530476  0.30473995  0.38297646 -0.14911094]\n",
            " [ 0.1657386   0.27440601 -0.66853981  0.21149722  0.01689799]]\n"
          ]
        }
      ],
      "source": [
        "X = np.random.rand(3, 5)\n",
        "X_centered = X - X.mean(axis=1, keepdims=True)\n",
        "\n",
        "print(X_centered)"
      ]
    },
    {
      "cell_type": "markdown",
      "id": "ea8807c0",
      "metadata": {
        "id": "ea8807c0"
      },
      "source": [
        "#### 59. How to sort an array by the nth column? (★★☆)"
      ]
    },
    {
      "cell_type": "code",
      "execution_count": 17,
      "id": "cc89a699",
      "metadata": {
        "id": "cc89a699",
        "colab": {
          "base_uri": "https://localhost:8080/"
        },
        "outputId": "85f8612e-c32e-4add-fc66-f23413057499"
      },
      "outputs": [
        {
          "output_type": "stream",
          "name": "stdout",
          "text": [
            "[[1 3 5]\n",
            " [2 2 2]\n",
            " [3 1 4]]\n"
          ]
        }
      ],
      "source": [
        "arr = np.array([[1, 3, 5],\n",
        "              [2, 2, 2],\n",
        "              [3, 1, 4]])\n",
        "\n",
        "n = 0\n",
        "arr_sorted = arr[arr[:, n].argsort()]\n",
        "\n",
        "print(arr_sorted)\n"
      ]
    },
    {
      "cell_type": "markdown",
      "id": "00fa00a1",
      "metadata": {
        "id": "00fa00a1"
      },
      "source": [
        "#### 60. How to tell if a given 2D array has null columns? (★★☆)"
      ]
    },
    {
      "cell_type": "code",
      "execution_count": 22,
      "id": "3436e165",
      "metadata": {
        "id": "3436e165",
        "colab": {
          "base_uri": "https://localhost:8080/"
        },
        "outputId": "6183356f-c725-416f-d2cc-6dbee9773ccd"
      },
      "outputs": [
        {
          "output_type": "stream",
          "name": "stdout",
          "text": [
            "[False False False]\n"
          ]
        }
      ],
      "source": [
        "import numpy as np\n",
        "arr = np.array([[1, 2, 3], [4, 5, 6], [7, 8, 9]])\n",
        "null_col = np.all(arr == 0, axis=0)\n",
        "print(null_col)\n"
      ]
    },
    {
      "cell_type": "markdown",
      "id": "5a65c7a2",
      "metadata": {
        "id": "5a65c7a2"
      },
      "source": [
        "#### 61. Find the nearest value from a given value in an array (★★☆)"
      ]
    },
    {
      "cell_type": "code",
      "execution_count": null,
      "id": "73f149d6",
      "metadata": {
        "id": "73f149d6"
      },
      "outputs": [],
      "source": []
    },
    {
      "cell_type": "markdown",
      "id": "0fb2f0c5",
      "metadata": {
        "id": "0fb2f0c5"
      },
      "source": [
        "#### 62. How to accumulate elements of a vector (X) to an array (F) based on an index list (I)? (★★★)"
      ]
    },
    {
      "cell_type": "code",
      "execution_count": null,
      "id": "58aa5f82",
      "metadata": {
        "id": "58aa5f82"
      },
      "outputs": [],
      "source": []
    },
    {
      "cell_type": "markdown",
      "id": "d89dc506",
      "metadata": {
        "id": "d89dc506"
      },
      "source": [
        "#### 63. Considering a (w,h,3) image of (dtype=ubyte), compute the number of unique colors (★★☆)"
      ]
    },
    {
      "cell_type": "code",
      "execution_count": null,
      "id": "8fb43a49",
      "metadata": {
        "id": "8fb43a49"
      },
      "outputs": [],
      "source": []
    },
    {
      "cell_type": "markdown",
      "id": "535a5d81",
      "metadata": {
        "id": "535a5d81"
      },
      "source": [
        "#### 64. Considering a four dimensions array, how to get sum over the last two axis at once? (★★★)"
      ]
    },
    {
      "cell_type": "code",
      "execution_count": null,
      "id": "f954ab9d",
      "metadata": {
        "id": "f954ab9d"
      },
      "outputs": [],
      "source": []
    },
    {
      "cell_type": "markdown",
      "id": "a8a97e7d",
      "metadata": {
        "id": "a8a97e7d"
      },
      "source": [
        "#### 65. Consider the vector [1, 2, 3, 4, 5], how to build a new vector with 3 consecutive zeros interleaved between each value? (★★★)"
      ]
    },
    {
      "cell_type": "code",
      "execution_count": null,
      "id": "ee6c6c37",
      "metadata": {
        "id": "ee6c6c37"
      },
      "outputs": [],
      "source": []
    },
    {
      "cell_type": "markdown",
      "id": "d6a30d60",
      "metadata": {
        "id": "d6a30d60"
      },
      "source": [
        "#### 66. Consider an array of dimension (5,5,3), how to mulitply it by an array with dimensions (5,5)? (★★★)"
      ]
    },
    {
      "cell_type": "code",
      "execution_count": null,
      "id": "e9703f2e",
      "metadata": {
        "id": "e9703f2e"
      },
      "outputs": [],
      "source": []
    },
    {
      "cell_type": "markdown",
      "id": "bac359a9",
      "metadata": {
        "id": "bac359a9"
      },
      "source": [
        "#### 67. How to swap two rows of an array? (★★★)"
      ]
    },
    {
      "cell_type": "code",
      "execution_count": null,
      "id": "f1b432b1",
      "metadata": {
        "id": "f1b432b1"
      },
      "outputs": [],
      "source": []
    },
    {
      "cell_type": "markdown",
      "id": "a76c55a2",
      "metadata": {
        "id": "a76c55a2"
      },
      "source": [
        "#### 68. Given a sorted array C that corresponds to a bincount, how to produce an array A such that np.bincount(A) == C? (★★★)"
      ]
    },
    {
      "cell_type": "code",
      "execution_count": null,
      "id": "2d2ae65a",
      "metadata": {
        "id": "2d2ae65a"
      },
      "outputs": [],
      "source": []
    },
    {
      "cell_type": "markdown",
      "id": "d550c8e2",
      "metadata": {
        "id": "d550c8e2"
      },
      "source": [
        "#### 69. How to compute averages using a sliding window over an array? (★★★)"
      ]
    },
    {
      "cell_type": "code",
      "execution_count": null,
      "id": "841c457c",
      "metadata": {
        "id": "841c457c"
      },
      "outputs": [],
      "source": []
    },
    {
      "cell_type": "markdown",
      "id": "4c15ceff",
      "metadata": {
        "id": "4c15ceff"
      },
      "source": [
        "#### 70. Compute a matrix rank (★★★)"
      ]
    },
    {
      "cell_type": "code",
      "execution_count": null,
      "id": "9a4272d2",
      "metadata": {
        "id": "9a4272d2"
      },
      "outputs": [],
      "source": []
    },
    {
      "cell_type": "markdown",
      "id": "1171cb84",
      "metadata": {
        "id": "1171cb84"
      },
      "source": [
        "#### 71. How to find the most frequent value in an array?"
      ]
    },
    {
      "cell_type": "code",
      "execution_count": null,
      "id": "33e951c8",
      "metadata": {
        "id": "33e951c8"
      },
      "outputs": [],
      "source": []
    },
    {
      "cell_type": "markdown",
      "id": "158f9945",
      "metadata": {
        "id": "158f9945"
      },
      "source": [
        "#### 72. Consider a 16x16 array, how to get the block-sum (block size is 4x4)? (★★★)"
      ]
    },
    {
      "cell_type": "code",
      "execution_count": null,
      "id": "5a9b808f",
      "metadata": {
        "id": "5a9b808f"
      },
      "outputs": [],
      "source": []
    },
    {
      "cell_type": "markdown",
      "id": "69a892fa",
      "metadata": {
        "id": "69a892fa"
      },
      "source": [
        "#### 73. How to get the n largest values of an array (★★★)"
      ]
    },
    {
      "cell_type": "code",
      "execution_count": null,
      "id": "21b2bd48",
      "metadata": {
        "id": "21b2bd48"
      },
      "outputs": [],
      "source": []
    },
    {
      "cell_type": "markdown",
      "id": "a80570cd",
      "metadata": {
        "id": "a80570cd"
      },
      "source": [
        "#### 74. Considering a 10x3 matrix, extract rows with unequal values (e.g. [2,2,3]) (★★★)"
      ]
    },
    {
      "cell_type": "code",
      "execution_count": null,
      "id": "84db8de1",
      "metadata": {
        "id": "84db8de1"
      },
      "outputs": [],
      "source": []
    },
    {
      "cell_type": "markdown",
      "id": "420e2343",
      "metadata": {
        "id": "420e2343"
      },
      "source": [
        "#### 75. Given a two dimensional array, how to extract unique rows? (★★★)"
      ]
    },
    {
      "cell_type": "code",
      "execution_count": null,
      "id": "4680dfd0",
      "metadata": {
        "id": "4680dfd0"
      },
      "outputs": [],
      "source": []
    }
  ],
  "metadata": {
    "kernelspec": {
      "display_name": "Python 3",
      "name": "python3"
    },
    "language_info": {
      "codemirror_mode": {
        "name": "ipython",
        "version": 3
      },
      "file_extension": ".py",
      "mimetype": "text/x-python",
      "name": "python",
      "nbconvert_exporter": "python",
      "pygments_lexer": "ipython3",
      "version": "3.10.4"
    },
    "colab": {
      "provenance": [],
      "gpuType": "T4",
      "include_colab_link": true
    },
    "accelerator": "GPU"
  },
  "nbformat": 4,
  "nbformat_minor": 5
}